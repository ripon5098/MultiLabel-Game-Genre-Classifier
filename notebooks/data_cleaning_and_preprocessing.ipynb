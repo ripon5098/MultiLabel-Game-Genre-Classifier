{
 "cells": [
  {
   "cell_type": "code",
   "execution_count": 1,
   "id": "f724119f",
   "metadata": {},
   "outputs": [],
   "source": [
    "import pandas as pd\n",
    "import numpy as np"
   ]
  },
  {
   "cell_type": "code",
   "execution_count": 2,
   "id": "a9d8101f",
   "metadata": {},
   "outputs": [
    {
     "data": {
      "text/html": [
       "<div>\n",
       "<style scoped>\n",
       "    .dataframe tbody tr th:only-of-type {\n",
       "        vertical-align: middle;\n",
       "    }\n",
       "\n",
       "    .dataframe tbody tr th {\n",
       "        vertical-align: top;\n",
       "    }\n",
       "\n",
       "    .dataframe thead th {\n",
       "        text-align: right;\n",
       "    }\n",
       "</style>\n",
       "<table border=\"1\" class=\"dataframe\">\n",
       "  <thead>\n",
       "    <tr style=\"text-align: right;\">\n",
       "      <th></th>\n",
       "      <th>title</th>\n",
       "      <th>description</th>\n",
       "      <th>genres</th>\n",
       "    </tr>\n",
       "  </thead>\n",
       "  <tbody>\n",
       "    <tr>\n",
       "      <th>0</th>\n",
       "      <td>Giganten</td>\n",
       "      <td>Giganten could be briefly described as \"Dinosa...</td>\n",
       "      <td>['Abstract Strategy', 'Animals', 'Prehistoric']</td>\n",
       "    </tr>\n",
       "    <tr>\n",
       "      <th>1</th>\n",
       "      <td>Rommel at the Meuse</td>\n",
       "      <td>(from Simulations Workshop website:)The German...</td>\n",
       "      <td>['Wargame', 'World War II']</td>\n",
       "    </tr>\n",
       "    <tr>\n",
       "      <th>2</th>\n",
       "      <td>Schwarz-Rot-Gold</td>\n",
       "      <td>The game is played on a 3x4 grid with pieces i...</td>\n",
       "      <td>['Abstract Strategy']</td>\n",
       "    </tr>\n",
       "    <tr>\n",
       "      <th>3</th>\n",
       "      <td>Sculley</td>\n",
       "      <td>This is a very simple game consisting of a boa...</td>\n",
       "      <td>['Dice', 'Nautical']</td>\n",
       "    </tr>\n",
       "    <tr>\n",
       "      <th>4</th>\n",
       "      <td>The Warriors of the Green Planet Trilogy of Ga...</td>\n",
       "      <td>A set of additional rules for combining War of...</td>\n",
       "      <td>['Expansion for Base-game', 'Science Fiction',...</td>\n",
       "    </tr>\n",
       "    <tr>\n",
       "      <th>...</th>\n",
       "      <td>...</td>\n",
       "      <td>...</td>\n",
       "      <td>...</td>\n",
       "    </tr>\n",
       "    <tr>\n",
       "      <th>15065</th>\n",
       "      <td>VeggieTales Seek &amp; Match Board Game</td>\n",
       "      <td>Help Jimmy Gourd find his cheeseburger, Bob th...</td>\n",
       "      <td>['Memory', 'Movies / TV / Radio theme', 'Relig...</td>\n",
       "    </tr>\n",
       "    <tr>\n",
       "      <th>15066</th>\n",
       "      <td>The Nurses Game</td>\n",
       "      <td>Simple roll and move game from IDEAL. The Nurs...</td>\n",
       "      <td>['Medical', 'Movies / TV / Radio theme']</td>\n",
       "    </tr>\n",
       "    <tr>\n",
       "      <th>15067</th>\n",
       "      <td>Rex Morgan M.D.</td>\n",
       "      <td>Rex Morgan MD Game is from the Sunday Funnies ...</td>\n",
       "      <td>['Medical']</td>\n",
       "    </tr>\n",
       "    <tr>\n",
       "      <th>15068</th>\n",
       "      <td>America: Kate Smith's Own Game</td>\n",
       "      <td>Kate Smith, the famous singer and radio star f...</td>\n",
       "      <td>['Roll / Spin and Move']</td>\n",
       "    </tr>\n",
       "    <tr>\n",
       "      <th>15069</th>\n",
       "      <td>Memoir '44: Air Pack</td>\n",
       "      <td>This expansion for Memoir '44 includes eight p...</td>\n",
       "      <td>['Aviation / Flight', 'Expansion for Base-game...</td>\n",
       "    </tr>\n",
       "  </tbody>\n",
       "</table>\n",
       "<p>15070 rows × 3 columns</p>\n",
       "</div>"
      ],
      "text/plain": [
       "                                                   title  \\\n",
       "0                                               Giganten   \n",
       "1                                    Rommel at the Meuse   \n",
       "2                                       Schwarz-Rot-Gold   \n",
       "3                                                Sculley   \n",
       "4      The Warriors of the Green Planet Trilogy of Ga...   \n",
       "...                                                  ...   \n",
       "15065                VeggieTales Seek & Match Board Game   \n",
       "15066                                    The Nurses Game   \n",
       "15067                                    Rex Morgan M.D.   \n",
       "15068                     America: Kate Smith's Own Game   \n",
       "15069                               Memoir '44: Air Pack   \n",
       "\n",
       "                                             description  \\\n",
       "0      Giganten could be briefly described as \"Dinosa...   \n",
       "1      (from Simulations Workshop website:)The German...   \n",
       "2      The game is played on a 3x4 grid with pieces i...   \n",
       "3      This is a very simple game consisting of a boa...   \n",
       "4      A set of additional rules for combining War of...   \n",
       "...                                                  ...   \n",
       "15065  Help Jimmy Gourd find his cheeseburger, Bob th...   \n",
       "15066  Simple roll and move game from IDEAL. The Nurs...   \n",
       "15067  Rex Morgan MD Game is from the Sunday Funnies ...   \n",
       "15068  Kate Smith, the famous singer and radio star f...   \n",
       "15069  This expansion for Memoir '44 includes eight p...   \n",
       "\n",
       "                                                  genres  \n",
       "0        ['Abstract Strategy', 'Animals', 'Prehistoric']  \n",
       "1                            ['Wargame', 'World War II']  \n",
       "2                                  ['Abstract Strategy']  \n",
       "3                                   ['Dice', 'Nautical']  \n",
       "4      ['Expansion for Base-game', 'Science Fiction',...  \n",
       "...                                                  ...  \n",
       "15065  ['Memory', 'Movies / TV / Radio theme', 'Relig...  \n",
       "15066           ['Medical', 'Movies / TV / Radio theme']  \n",
       "15067                                        ['Medical']  \n",
       "15068                           ['Roll / Spin and Move']  \n",
       "15069  ['Aviation / Flight', 'Expansion for Base-game...  \n",
       "\n",
       "[15070 rows x 3 columns]"
      ]
     },
     "execution_count": 2,
     "metadata": {},
     "output_type": "execute_result"
    }
   ],
   "source": [
    "df=pd.read_csv(\"game_new_dataset.csv\")\n",
    "df"
   ]
  },
  {
   "cell_type": "code",
   "execution_count": 3,
   "id": "934ced3d",
   "metadata": {},
   "outputs": [
    {
     "data": {
      "text/plain": [
       "title          0\n",
       "description    0\n",
       "genres         0\n",
       "dtype: int64"
      ]
     },
     "execution_count": 3,
     "metadata": {},
     "output_type": "execute_result"
    }
   ],
   "source": [
    "df.isna().sum()"
   ]
  },
  {
   "cell_type": "code",
   "execution_count": 4,
   "id": "ae1d0192",
   "metadata": {},
   "outputs": [],
   "source": [
    "df=df.dropna()"
   ]
  },
  {
   "cell_type": "code",
   "execution_count": 5,
   "id": "84a61d87",
   "metadata": {},
   "outputs": [
    {
     "data": {
      "text/plain": [
       "0"
      ]
     },
     "execution_count": 5,
     "metadata": {},
     "output_type": "execute_result"
    }
   ],
   "source": [
    "df.duplicated().sum()"
   ]
  },
  {
   "cell_type": "code",
   "execution_count": 6,
   "id": "cbfb0c2b",
   "metadata": {},
   "outputs": [
    {
     "name": "stdout",
     "output_type": "stream",
     "text": [
      "<class 'pandas.core.frame.DataFrame'>\n",
      "Int64Index: 15070 entries, 0 to 15069\n",
      "Data columns (total 3 columns):\n",
      " #   Column       Non-Null Count  Dtype \n",
      "---  ------       --------------  ----- \n",
      " 0   title        15070 non-null  object\n",
      " 1   description  15070 non-null  object\n",
      " 2   genres       15070 non-null  object\n",
      "dtypes: object(3)\n",
      "memory usage: 470.9+ KB\n"
     ]
    }
   ],
   "source": [
    "df.info()"
   ]
  },
  {
   "cell_type": "code",
   "execution_count": 7,
   "id": "c4c0097e",
   "metadata": {},
   "outputs": [
    {
     "data": {
      "text/plain": [
       "Blockade                 5\n",
       "Grand Prix               4\n",
       "Arena                    4\n",
       "Blackout                 4\n",
       "Happy Landing            4\n",
       "                        ..\n",
       "Samurai Wargame Rules    1\n",
       "Montcalm & Wolfe         1\n",
       "Starhound                1\n",
       "England Expects          1\n",
       "Memoir '44: Air Pack     1\n",
       "Name: title, Length: 14798, dtype: int64"
      ]
     },
     "execution_count": 7,
     "metadata": {},
     "output_type": "execute_result"
    }
   ],
   "source": [
    "df.title.value_counts()"
   ]
  },
  {
   "cell_type": "code",
   "execution_count": 8,
   "id": "e03a0d23",
   "metadata": {},
   "outputs": [
    {
     "data": {
      "text/plain": [
       "<bound method Series.unique of 0                                                 Giganten\n",
       "1                                      Rommel at the Meuse\n",
       "2                                         Schwarz-Rot-Gold\n",
       "3                                                  Sculley\n",
       "4        The Warriors of the Green Planet Trilogy of Ga...\n",
       "                               ...                        \n",
       "15065                  VeggieTales Seek & Match Board Game\n",
       "15066                                      The Nurses Game\n",
       "15067                                      Rex Morgan M.D.\n",
       "15068                       America: Kate Smith's Own Game\n",
       "15069                                 Memoir '44: Air Pack\n",
       "Name: title, Length: 15070, dtype: object>"
      ]
     },
     "execution_count": 8,
     "metadata": {},
     "output_type": "execute_result"
    }
   ],
   "source": [
    "df.title.unique"
   ]
  },
  {
   "cell_type": "code",
   "execution_count": 9,
   "id": "ca3502e4",
   "metadata": {},
   "outputs": [
    {
     "data": {
      "text/plain": [
       "<bound method Series.unique of 0        Giganten could be briefly described as \"Dinosa...\n",
       "1        (from Simulations Workshop website:)The German...\n",
       "2        The game is played on a 3x4 grid with pieces i...\n",
       "3        This is a very simple game consisting of a boa...\n",
       "4        A set of additional rules for combining War of...\n",
       "                               ...                        \n",
       "15065    Help Jimmy Gourd find his cheeseburger, Bob th...\n",
       "15066    Simple roll and move game from IDEAL. The Nurs...\n",
       "15067    Rex Morgan MD Game is from the Sunday Funnies ...\n",
       "15068    Kate Smith, the famous singer and radio star f...\n",
       "15069    This expansion for Memoir '44 includes eight p...\n",
       "Name: description, Length: 15070, dtype: object>"
      ]
     },
     "execution_count": 9,
     "metadata": {},
     "output_type": "execute_result"
    }
   ],
   "source": [
    "df.description.unique"
   ]
  },
  {
   "cell_type": "code",
   "execution_count": 10,
   "id": "eb377502",
   "metadata": {},
   "outputs": [
    {
     "data": {
      "text/plain": [
       "<bound method Series.unique of 0          ['Abstract Strategy', 'Animals', 'Prehistoric']\n",
       "1                              ['Wargame', 'World War II']\n",
       "2                                    ['Abstract Strategy']\n",
       "3                                     ['Dice', 'Nautical']\n",
       "4        ['Expansion for Base-game', 'Science Fiction',...\n",
       "                               ...                        \n",
       "15065    ['Memory', 'Movies / TV / Radio theme', 'Relig...\n",
       "15066             ['Medical', 'Movies / TV / Radio theme']\n",
       "15067                                          ['Medical']\n",
       "15068                             ['Roll / Spin and Move']\n",
       "15069    ['Aviation / Flight', 'Expansion for Base-game...\n",
       "Name: genres, Length: 15070, dtype: object>"
      ]
     },
     "execution_count": 10,
     "metadata": {},
     "output_type": "execute_result"
    }
   ],
   "source": [
    "df.genres.unique"
   ]
  },
  {
   "cell_type": "code",
   "execution_count": 11,
   "id": "e0ed6109",
   "metadata": {},
   "outputs": [],
   "source": [
    "#df['genres'] = df['genres'].str.replace('\"', '', regex=False)\n",
    "#df"
   ]
  },
  {
   "cell_type": "code",
   "execution_count": 12,
   "id": "fc7dbbd4",
   "metadata": {},
   "outputs": [
    {
     "data": {
      "text/html": [
       "<div>\n",
       "<style scoped>\n",
       "    .dataframe tbody tr th:only-of-type {\n",
       "        vertical-align: middle;\n",
       "    }\n",
       "\n",
       "    .dataframe tbody tr th {\n",
       "        vertical-align: top;\n",
       "    }\n",
       "\n",
       "    .dataframe thead th {\n",
       "        text-align: right;\n",
       "    }\n",
       "</style>\n",
       "<table border=\"1\" class=\"dataframe\">\n",
       "  <thead>\n",
       "    <tr style=\"text-align: right;\">\n",
       "      <th></th>\n",
       "      <th>title</th>\n",
       "      <th>description</th>\n",
       "      <th>genres</th>\n",
       "    </tr>\n",
       "  </thead>\n",
       "  <tbody>\n",
       "  </tbody>\n",
       "</table>\n",
       "</div>"
      ],
      "text/plain": [
       "Empty DataFrame\n",
       "Columns: [title, description, genres]\n",
       "Index: []"
      ]
     },
     "execution_count": 12,
     "metadata": {},
     "output_type": "execute_result"
    }
   ],
   "source": [
    "df[df.description ==' ']"
   ]
  },
  {
   "cell_type": "code",
   "execution_count": 13,
   "id": "2d2b411d",
   "metadata": {},
   "outputs": [
    {
     "data": {
      "text/html": [
       "<div>\n",
       "<style scoped>\n",
       "    .dataframe tbody tr th:only-of-type {\n",
       "        vertical-align: middle;\n",
       "    }\n",
       "\n",
       "    .dataframe tbody tr th {\n",
       "        vertical-align: top;\n",
       "    }\n",
       "\n",
       "    .dataframe thead th {\n",
       "        text-align: right;\n",
       "    }\n",
       "</style>\n",
       "<table border=\"1\" class=\"dataframe\">\n",
       "  <thead>\n",
       "    <tr style=\"text-align: right;\">\n",
       "      <th></th>\n",
       "      <th>title</th>\n",
       "      <th>description</th>\n",
       "      <th>genres</th>\n",
       "    </tr>\n",
       "  </thead>\n",
       "  <tbody>\n",
       "  </tbody>\n",
       "</table>\n",
       "</div>"
      ],
      "text/plain": [
       "Empty DataFrame\n",
       "Columns: [title, description, genres]\n",
       "Index: []"
      ]
     },
     "execution_count": 13,
     "metadata": {},
     "output_type": "execute_result"
    }
   ],
   "source": [
    "df[df.genres ==' ']"
   ]
  },
  {
   "cell_type": "code",
   "execution_count": 14,
   "id": "4ef16177",
   "metadata": {},
   "outputs": [],
   "source": [
    "def list_of_genre(genres):\n",
    "  for genre in df.genres.to_list():\n",
    "    genre_list=eval(genre)"
   ]
  },
  {
   "cell_type": "code",
   "execution_count": 15,
   "id": "eaeae1bb",
   "metadata": {},
   "outputs": [
    {
     "data": {
      "text/html": [
       "<div>\n",
       "<style scoped>\n",
       "    .dataframe tbody tr th:only-of-type {\n",
       "        vertical-align: middle;\n",
       "    }\n",
       "\n",
       "    .dataframe tbody tr th {\n",
       "        vertical-align: top;\n",
       "    }\n",
       "\n",
       "    .dataframe thead th {\n",
       "        text-align: right;\n",
       "    }\n",
       "</style>\n",
       "<table border=\"1\" class=\"dataframe\">\n",
       "  <thead>\n",
       "    <tr style=\"text-align: right;\">\n",
       "      <th></th>\n",
       "      <th>title</th>\n",
       "      <th>description</th>\n",
       "      <th>genres</th>\n",
       "    </tr>\n",
       "  </thead>\n",
       "  <tbody>\n",
       "    <tr>\n",
       "      <th>0</th>\n",
       "      <td>Giganten</td>\n",
       "      <td>Giganten could be briefly described as \"Dinosa...</td>\n",
       "      <td>['Abstract Strategy', 'Animals', 'Prehistoric']</td>\n",
       "    </tr>\n",
       "    <tr>\n",
       "      <th>1</th>\n",
       "      <td>Rommel at the Meuse</td>\n",
       "      <td>(from Simulations Workshop website:)The German...</td>\n",
       "      <td>['Wargame', 'World War II']</td>\n",
       "    </tr>\n",
       "    <tr>\n",
       "      <th>2</th>\n",
       "      <td>Schwarz-Rot-Gold</td>\n",
       "      <td>The game is played on a 3x4 grid with pieces i...</td>\n",
       "      <td>['Abstract Strategy']</td>\n",
       "    </tr>\n",
       "    <tr>\n",
       "      <th>3</th>\n",
       "      <td>Sculley</td>\n",
       "      <td>This is a very simple game consisting of a boa...</td>\n",
       "      <td>['Dice', 'Nautical']</td>\n",
       "    </tr>\n",
       "    <tr>\n",
       "      <th>4</th>\n",
       "      <td>The Warriors of the Green Planet Trilogy of Ga...</td>\n",
       "      <td>A set of additional rules for combining War of...</td>\n",
       "      <td>['Expansion for Base-game', 'Science Fiction',...</td>\n",
       "    </tr>\n",
       "    <tr>\n",
       "      <th>...</th>\n",
       "      <td>...</td>\n",
       "      <td>...</td>\n",
       "      <td>...</td>\n",
       "    </tr>\n",
       "    <tr>\n",
       "      <th>15065</th>\n",
       "      <td>VeggieTales Seek &amp; Match Board Game</td>\n",
       "      <td>Help Jimmy Gourd find his cheeseburger, Bob th...</td>\n",
       "      <td>['Memory', 'Movies / TV / Radio theme', 'Relig...</td>\n",
       "    </tr>\n",
       "    <tr>\n",
       "      <th>15066</th>\n",
       "      <td>The Nurses Game</td>\n",
       "      <td>Simple roll and move game from IDEAL. The Nurs...</td>\n",
       "      <td>['Medical', 'Movies / TV / Radio theme']</td>\n",
       "    </tr>\n",
       "    <tr>\n",
       "      <th>15067</th>\n",
       "      <td>Rex Morgan M.D.</td>\n",
       "      <td>Rex Morgan MD Game is from the Sunday Funnies ...</td>\n",
       "      <td>['Medical']</td>\n",
       "    </tr>\n",
       "    <tr>\n",
       "      <th>15068</th>\n",
       "      <td>America: Kate Smith's Own Game</td>\n",
       "      <td>Kate Smith, the famous singer and radio star f...</td>\n",
       "      <td>['Roll / Spin and Move']</td>\n",
       "    </tr>\n",
       "    <tr>\n",
       "      <th>15069</th>\n",
       "      <td>Memoir '44: Air Pack</td>\n",
       "      <td>This expansion for Memoir '44 includes eight p...</td>\n",
       "      <td>['Aviation / Flight', 'Expansion for Base-game...</td>\n",
       "    </tr>\n",
       "  </tbody>\n",
       "</table>\n",
       "<p>15070 rows × 3 columns</p>\n",
       "</div>"
      ],
      "text/plain": [
       "                                                   title  \\\n",
       "0                                               Giganten   \n",
       "1                                    Rommel at the Meuse   \n",
       "2                                       Schwarz-Rot-Gold   \n",
       "3                                                Sculley   \n",
       "4      The Warriors of the Green Planet Trilogy of Ga...   \n",
       "...                                                  ...   \n",
       "15065                VeggieTales Seek & Match Board Game   \n",
       "15066                                    The Nurses Game   \n",
       "15067                                    Rex Morgan M.D.   \n",
       "15068                     America: Kate Smith's Own Game   \n",
       "15069                               Memoir '44: Air Pack   \n",
       "\n",
       "                                             description  \\\n",
       "0      Giganten could be briefly described as \"Dinosa...   \n",
       "1      (from Simulations Workshop website:)The German...   \n",
       "2      The game is played on a 3x4 grid with pieces i...   \n",
       "3      This is a very simple game consisting of a boa...   \n",
       "4      A set of additional rules for combining War of...   \n",
       "...                                                  ...   \n",
       "15065  Help Jimmy Gourd find his cheeseburger, Bob th...   \n",
       "15066  Simple roll and move game from IDEAL. The Nurs...   \n",
       "15067  Rex Morgan MD Game is from the Sunday Funnies ...   \n",
       "15068  Kate Smith, the famous singer and radio star f...   \n",
       "15069  This expansion for Memoir '44 includes eight p...   \n",
       "\n",
       "                                                  genres  \n",
       "0        ['Abstract Strategy', 'Animals', 'Prehistoric']  \n",
       "1                            ['Wargame', 'World War II']  \n",
       "2                                  ['Abstract Strategy']  \n",
       "3                                   ['Dice', 'Nautical']  \n",
       "4      ['Expansion for Base-game', 'Science Fiction',...  \n",
       "...                                                  ...  \n",
       "15065  ['Memory', 'Movies / TV / Radio theme', 'Relig...  \n",
       "15066           ['Medical', 'Movies / TV / Radio theme']  \n",
       "15067                                        ['Medical']  \n",
       "15068                           ['Roll / Spin and Move']  \n",
       "15069  ['Aviation / Flight', 'Expansion for Base-game...  \n",
       "\n",
       "[15070 rows x 3 columns]"
      ]
     },
     "execution_count": 15,
     "metadata": {},
     "output_type": "execute_result"
    }
   ],
   "source": [
    "df"
   ]
  },
  {
   "cell_type": "code",
   "execution_count": 16,
   "id": "070923c1",
   "metadata": {},
   "outputs": [
    {
     "data": {
      "text/html": [
       "<div>\n",
       "<style scoped>\n",
       "    .dataframe tbody tr th:only-of-type {\n",
       "        vertical-align: middle;\n",
       "    }\n",
       "\n",
       "    .dataframe tbody tr th {\n",
       "        vertical-align: top;\n",
       "    }\n",
       "\n",
       "    .dataframe thead th {\n",
       "        text-align: right;\n",
       "    }\n",
       "</style>\n",
       "<table border=\"1\" class=\"dataframe\">\n",
       "  <thead>\n",
       "    <tr style=\"text-align: right;\">\n",
       "      <th></th>\n",
       "      <th>title</th>\n",
       "      <th>description</th>\n",
       "      <th>genres</th>\n",
       "    </tr>\n",
       "  </thead>\n",
       "  <tbody>\n",
       "    <tr>\n",
       "      <th>0</th>\n",
       "      <td>Giganten</td>\n",
       "      <td>Giganten could be briefly described as \"Dinosa...</td>\n",
       "      <td>['Abstract Strategy', 'Animals', 'Prehistoric']</td>\n",
       "    </tr>\n",
       "    <tr>\n",
       "      <th>1</th>\n",
       "      <td>Rommel at the Meuse</td>\n",
       "      <td>(from Simulations Workshop website:)The German...</td>\n",
       "      <td>['Wargame', 'World War II']</td>\n",
       "    </tr>\n",
       "    <tr>\n",
       "      <th>2</th>\n",
       "      <td>Schwarz-Rot-Gold</td>\n",
       "      <td>The game is played on a 3x4 grid with pieces i...</td>\n",
       "      <td>['Abstract Strategy']</td>\n",
       "    </tr>\n",
       "    <tr>\n",
       "      <th>3</th>\n",
       "      <td>Sculley</td>\n",
       "      <td>This is a very simple game consisting of a boa...</td>\n",
       "      <td>['Dice', 'Nautical']</td>\n",
       "    </tr>\n",
       "    <tr>\n",
       "      <th>4</th>\n",
       "      <td>The Warriors of the Green Planet Trilogy of Ga...</td>\n",
       "      <td>A set of additional rules for combining War of...</td>\n",
       "      <td>['Expansion for Base-game', 'Science Fiction',...</td>\n",
       "    </tr>\n",
       "    <tr>\n",
       "      <th>...</th>\n",
       "      <td>...</td>\n",
       "      <td>...</td>\n",
       "      <td>...</td>\n",
       "    </tr>\n",
       "    <tr>\n",
       "      <th>15065</th>\n",
       "      <td>VeggieTales Seek &amp; Match Board Game</td>\n",
       "      <td>Help Jimmy Gourd find his cheeseburger, Bob th...</td>\n",
       "      <td>['Memory', 'Movies / TV / Radio theme', 'Relig...</td>\n",
       "    </tr>\n",
       "    <tr>\n",
       "      <th>15066</th>\n",
       "      <td>The Nurses Game</td>\n",
       "      <td>Simple roll and move game from IDEAL. The Nurs...</td>\n",
       "      <td>['Medical', 'Movies / TV / Radio theme']</td>\n",
       "    </tr>\n",
       "    <tr>\n",
       "      <th>15067</th>\n",
       "      <td>Rex Morgan M.D.</td>\n",
       "      <td>Rex Morgan MD Game is from the Sunday Funnies ...</td>\n",
       "      <td>['Medical']</td>\n",
       "    </tr>\n",
       "    <tr>\n",
       "      <th>15068</th>\n",
       "      <td>America: Kate Smith's Own Game</td>\n",
       "      <td>Kate Smith, the famous singer and radio star f...</td>\n",
       "      <td>['Roll / Spin and Move']</td>\n",
       "    </tr>\n",
       "    <tr>\n",
       "      <th>15069</th>\n",
       "      <td>Memoir '44: Air Pack</td>\n",
       "      <td>This expansion for Memoir '44 includes eight p...</td>\n",
       "      <td>['Aviation / Flight', 'Expansion for Base-game...</td>\n",
       "    </tr>\n",
       "  </tbody>\n",
       "</table>\n",
       "<p>15070 rows × 3 columns</p>\n",
       "</div>"
      ],
      "text/plain": [
       "                                                   title  \\\n",
       "0                                               Giganten   \n",
       "1                                    Rommel at the Meuse   \n",
       "2                                       Schwarz-Rot-Gold   \n",
       "3                                                Sculley   \n",
       "4      The Warriors of the Green Planet Trilogy of Ga...   \n",
       "...                                                  ...   \n",
       "15065                VeggieTales Seek & Match Board Game   \n",
       "15066                                    The Nurses Game   \n",
       "15067                                    Rex Morgan M.D.   \n",
       "15068                     America: Kate Smith's Own Game   \n",
       "15069                               Memoir '44: Air Pack   \n",
       "\n",
       "                                             description  \\\n",
       "0      Giganten could be briefly described as \"Dinosa...   \n",
       "1      (from Simulations Workshop website:)The German...   \n",
       "2      The game is played on a 3x4 grid with pieces i...   \n",
       "3      This is a very simple game consisting of a boa...   \n",
       "4      A set of additional rules for combining War of...   \n",
       "...                                                  ...   \n",
       "15065  Help Jimmy Gourd find his cheeseburger, Bob th...   \n",
       "15066  Simple roll and move game from IDEAL. The Nurs...   \n",
       "15067  Rex Morgan MD Game is from the Sunday Funnies ...   \n",
       "15068  Kate Smith, the famous singer and radio star f...   \n",
       "15069  This expansion for Memoir '44 includes eight p...   \n",
       "\n",
       "                                                  genres  \n",
       "0        ['Abstract Strategy', 'Animals', 'Prehistoric']  \n",
       "1                            ['Wargame', 'World War II']  \n",
       "2                                  ['Abstract Strategy']  \n",
       "3                                   ['Dice', 'Nautical']  \n",
       "4      ['Expansion for Base-game', 'Science Fiction',...  \n",
       "...                                                  ...  \n",
       "15065  ['Memory', 'Movies / TV / Radio theme', 'Relig...  \n",
       "15066           ['Medical', 'Movies / TV / Radio theme']  \n",
       "15067                                        ['Medical']  \n",
       "15068                           ['Roll / Spin and Move']  \n",
       "15069  ['Aviation / Flight', 'Expansion for Base-game...  \n",
       "\n",
       "[15070 rows x 3 columns]"
      ]
     },
     "execution_count": 16,
     "metadata": {},
     "output_type": "execute_result"
    }
   ],
   "source": [
    "df[df['genres'].apply(lambda x: len(x) >= 2)]"
   ]
  },
  {
   "cell_type": "code",
   "execution_count": 17,
   "id": "9a1f033b",
   "metadata": {},
   "outputs": [
    {
     "data": {
      "text/html": [
       "<div>\n",
       "<style scoped>\n",
       "    .dataframe tbody tr th:only-of-type {\n",
       "        vertical-align: middle;\n",
       "    }\n",
       "\n",
       "    .dataframe tbody tr th {\n",
       "        vertical-align: top;\n",
       "    }\n",
       "\n",
       "    .dataframe thead th {\n",
       "        text-align: right;\n",
       "    }\n",
       "</style>\n",
       "<table border=\"1\" class=\"dataframe\">\n",
       "  <thead>\n",
       "    <tr style=\"text-align: right;\">\n",
       "      <th></th>\n",
       "      <th>title</th>\n",
       "      <th>description</th>\n",
       "      <th>genres</th>\n",
       "    </tr>\n",
       "  </thead>\n",
       "  <tbody>\n",
       "  </tbody>\n",
       "</table>\n",
       "</div>"
      ],
      "text/plain": [
       "Empty DataFrame\n",
       "Columns: [title, description, genres]\n",
       "Index: []"
      ]
     },
     "execution_count": 17,
     "metadata": {},
     "output_type": "execute_result"
    }
   ],
   "source": [
    "df[df['genres'].apply(lambda x: len(x) < 2)]"
   ]
  },
  {
   "cell_type": "code",
   "execution_count": 18,
   "id": "d27f3eca",
   "metadata": {},
   "outputs": [],
   "source": [
    "df['genres']=df[df['genres'].apply(len) > 15][\"genres\"].reset_index(drop=True)"
   ]
  },
  {
   "cell_type": "code",
   "execution_count": 19,
   "id": "021f533c",
   "metadata": {},
   "outputs": [
    {
     "data": {
      "text/plain": [
       "title             0\n",
       "description       0\n",
       "genres         2431\n",
       "dtype: int64"
      ]
     },
     "execution_count": 19,
     "metadata": {},
     "output_type": "execute_result"
    }
   ],
   "source": [
    "df.isna().sum()"
   ]
  },
  {
   "cell_type": "code",
   "execution_count": 20,
   "id": "18977136",
   "metadata": {},
   "outputs": [],
   "source": [
    "df=df.dropna()"
   ]
  },
  {
   "cell_type": "code",
   "execution_count": 21,
   "id": "acf77805",
   "metadata": {},
   "outputs": [
    {
     "data": {
      "text/html": [
       "<div>\n",
       "<style scoped>\n",
       "    .dataframe tbody tr th:only-of-type {\n",
       "        vertical-align: middle;\n",
       "    }\n",
       "\n",
       "    .dataframe tbody tr th {\n",
       "        vertical-align: top;\n",
       "    }\n",
       "\n",
       "    .dataframe thead th {\n",
       "        text-align: right;\n",
       "    }\n",
       "</style>\n",
       "<table border=\"1\" class=\"dataframe\">\n",
       "  <thead>\n",
       "    <tr style=\"text-align: right;\">\n",
       "      <th></th>\n",
       "      <th>title</th>\n",
       "      <th>description</th>\n",
       "      <th>genres</th>\n",
       "    </tr>\n",
       "  </thead>\n",
       "  <tbody>\n",
       "    <tr>\n",
       "      <th>0</th>\n",
       "      <td>Giganten</td>\n",
       "      <td>Giganten could be briefly described as \"Dinosa...</td>\n",
       "      <td>['Abstract Strategy', 'Animals', 'Prehistoric']</td>\n",
       "    </tr>\n",
       "    <tr>\n",
       "      <th>1</th>\n",
       "      <td>Rommel at the Meuse</td>\n",
       "      <td>(from Simulations Workshop website:)The German...</td>\n",
       "      <td>['Wargame', 'World War II']</td>\n",
       "    </tr>\n",
       "    <tr>\n",
       "      <th>2</th>\n",
       "      <td>Schwarz-Rot-Gold</td>\n",
       "      <td>The game is played on a 3x4 grid with pieces i...</td>\n",
       "      <td>['Abstract Strategy']</td>\n",
       "    </tr>\n",
       "    <tr>\n",
       "      <th>3</th>\n",
       "      <td>Sculley</td>\n",
       "      <td>This is a very simple game consisting of a boa...</td>\n",
       "      <td>['Dice', 'Nautical']</td>\n",
       "    </tr>\n",
       "    <tr>\n",
       "      <th>4</th>\n",
       "      <td>The Warriors of the Green Planet Trilogy of Ga...</td>\n",
       "      <td>A set of additional rules for combining War of...</td>\n",
       "      <td>['Expansion for Base-game', 'Science Fiction',...</td>\n",
       "    </tr>\n",
       "    <tr>\n",
       "      <th>...</th>\n",
       "      <td>...</td>\n",
       "      <td>...</td>\n",
       "      <td>...</td>\n",
       "    </tr>\n",
       "    <tr>\n",
       "      <th>12634</th>\n",
       "      <td>Monopoly: Middlesbrough</td>\n",
       "      <td>The classic Monopoly with constructions and ot...</td>\n",
       "      <td>['Card Game', 'Party Game']</td>\n",
       "    </tr>\n",
       "    <tr>\n",
       "      <th>12635</th>\n",
       "      <td>Monopoly: Newcastle &amp; Gateshead</td>\n",
       "      <td>The classic Monopoly with constructions and ot...</td>\n",
       "      <td>['Memory', 'Movies / TV / Radio theme', 'Relig...</td>\n",
       "    </tr>\n",
       "    <tr>\n",
       "      <th>12636</th>\n",
       "      <td>Monopoly: Newcastle United Football Club</td>\n",
       "      <td>The classic boardgame takes on a new shape in ...</td>\n",
       "      <td>['Medical', 'Movies / TV / Radio theme']</td>\n",
       "    </tr>\n",
       "    <tr>\n",
       "      <th>12637</th>\n",
       "      <td>Monopoly: University of Newcastle Upon Tyne</td>\n",
       "      <td>The classic Monopoly with elements from the Un...</td>\n",
       "      <td>['Roll / Spin and Move']</td>\n",
       "    </tr>\n",
       "    <tr>\n",
       "      <th>12638</th>\n",
       "      <td>Monopoly: Northern Ireland</td>\n",
       "      <td>A monopoly (from Greek monos μόνος (alone or s...</td>\n",
       "      <td>['Aviation / Flight', 'Expansion for Base-game...</td>\n",
       "    </tr>\n",
       "  </tbody>\n",
       "</table>\n",
       "<p>12639 rows × 3 columns</p>\n",
       "</div>"
      ],
      "text/plain": [
       "                                                   title  \\\n",
       "0                                               Giganten   \n",
       "1                                    Rommel at the Meuse   \n",
       "2                                       Schwarz-Rot-Gold   \n",
       "3                                                Sculley   \n",
       "4      The Warriors of the Green Planet Trilogy of Ga...   \n",
       "...                                                  ...   \n",
       "12634                            Monopoly: Middlesbrough   \n",
       "12635                    Monopoly: Newcastle & Gateshead   \n",
       "12636           Monopoly: Newcastle United Football Club   \n",
       "12637        Monopoly: University of Newcastle Upon Tyne   \n",
       "12638                         Monopoly: Northern Ireland   \n",
       "\n",
       "                                             description  \\\n",
       "0      Giganten could be briefly described as \"Dinosa...   \n",
       "1      (from Simulations Workshop website:)The German...   \n",
       "2      The game is played on a 3x4 grid with pieces i...   \n",
       "3      This is a very simple game consisting of a boa...   \n",
       "4      A set of additional rules for combining War of...   \n",
       "...                                                  ...   \n",
       "12634  The classic Monopoly with constructions and ot...   \n",
       "12635  The classic Monopoly with constructions and ot...   \n",
       "12636  The classic boardgame takes on a new shape in ...   \n",
       "12637  The classic Monopoly with elements from the Un...   \n",
       "12638  A monopoly (from Greek monos μόνος (alone or s...   \n",
       "\n",
       "                                                  genres  \n",
       "0        ['Abstract Strategy', 'Animals', 'Prehistoric']  \n",
       "1                            ['Wargame', 'World War II']  \n",
       "2                                  ['Abstract Strategy']  \n",
       "3                                   ['Dice', 'Nautical']  \n",
       "4      ['Expansion for Base-game', 'Science Fiction',...  \n",
       "...                                                  ...  \n",
       "12634                        ['Card Game', 'Party Game']  \n",
       "12635  ['Memory', 'Movies / TV / Radio theme', 'Relig...  \n",
       "12636           ['Medical', 'Movies / TV / Radio theme']  \n",
       "12637                           ['Roll / Spin and Move']  \n",
       "12638  ['Aviation / Flight', 'Expansion for Base-game...  \n",
       "\n",
       "[12639 rows x 3 columns]"
      ]
     },
     "execution_count": 21,
     "metadata": {},
     "output_type": "execute_result"
    }
   ],
   "source": [
    "df"
   ]
  },
  {
   "cell_type": "code",
   "execution_count": null,
   "id": "ddf21cb8",
   "metadata": {},
   "outputs": [],
   "source": [
    "#df['genres'] = df['genres'].replace(\"Children's Game\", 'Children Game')"
   ]
  },
  {
   "cell_type": "code",
   "execution_count": null,
   "id": "f2bd553d",
   "metadata": {},
   "outputs": [],
   "source": [
    "#df[df['genres'] == \"Children's Game\"]"
   ]
  },
  {
   "cell_type": "code",
   "execution_count": 22,
   "id": "20ec6c0a",
   "metadata": {},
   "outputs": [],
   "source": [
    "df.to_csv(\"game_new_dataset_cleaned.csv\",index=False)"
   ]
  },
  {
   "cell_type": "code",
   "execution_count": 23,
   "id": "2cfedbd0",
   "metadata": {},
   "outputs": [],
   "source": [
    "df=pd.read_csv(\"game_new_dataset_cleaned.csv\")"
   ]
  },
  {
   "cell_type": "code",
   "execution_count": 24,
   "id": "297554c9",
   "metadata": {},
   "outputs": [
    {
     "data": {
      "text/html": [
       "<div>\n",
       "<style scoped>\n",
       "    .dataframe tbody tr th:only-of-type {\n",
       "        vertical-align: middle;\n",
       "    }\n",
       "\n",
       "    .dataframe tbody tr th {\n",
       "        vertical-align: top;\n",
       "    }\n",
       "\n",
       "    .dataframe thead th {\n",
       "        text-align: right;\n",
       "    }\n",
       "</style>\n",
       "<table border=\"1\" class=\"dataframe\">\n",
       "  <thead>\n",
       "    <tr style=\"text-align: right;\">\n",
       "      <th></th>\n",
       "      <th>title</th>\n",
       "      <th>description</th>\n",
       "      <th>genres</th>\n",
       "    </tr>\n",
       "  </thead>\n",
       "  <tbody>\n",
       "    <tr>\n",
       "      <th>0</th>\n",
       "      <td>Giganten</td>\n",
       "      <td>Giganten could be briefly described as \"Dinosa...</td>\n",
       "      <td>['Abstract Strategy', 'Animals', 'Prehistoric']</td>\n",
       "    </tr>\n",
       "    <tr>\n",
       "      <th>1</th>\n",
       "      <td>Rommel at the Meuse</td>\n",
       "      <td>(from Simulations Workshop website:)The German...</td>\n",
       "      <td>['Wargame', 'World War II']</td>\n",
       "    </tr>\n",
       "    <tr>\n",
       "      <th>2</th>\n",
       "      <td>Schwarz-Rot-Gold</td>\n",
       "      <td>The game is played on a 3x4 grid with pieces i...</td>\n",
       "      <td>['Abstract Strategy']</td>\n",
       "    </tr>\n",
       "    <tr>\n",
       "      <th>3</th>\n",
       "      <td>Sculley</td>\n",
       "      <td>This is a very simple game consisting of a boa...</td>\n",
       "      <td>['Dice', 'Nautical']</td>\n",
       "    </tr>\n",
       "    <tr>\n",
       "      <th>4</th>\n",
       "      <td>The Warriors of the Green Planet Trilogy of Ga...</td>\n",
       "      <td>A set of additional rules for combining War of...</td>\n",
       "      <td>['Expansion for Base-game', 'Science Fiction',...</td>\n",
       "    </tr>\n",
       "    <tr>\n",
       "      <th>...</th>\n",
       "      <td>...</td>\n",
       "      <td>...</td>\n",
       "      <td>...</td>\n",
       "    </tr>\n",
       "    <tr>\n",
       "      <th>12634</th>\n",
       "      <td>Monopoly: Middlesbrough</td>\n",
       "      <td>The classic Monopoly with constructions and ot...</td>\n",
       "      <td>['Card Game', 'Party Game']</td>\n",
       "    </tr>\n",
       "    <tr>\n",
       "      <th>12635</th>\n",
       "      <td>Monopoly: Newcastle &amp; Gateshead</td>\n",
       "      <td>The classic Monopoly with constructions and ot...</td>\n",
       "      <td>['Memory', 'Movies / TV / Radio theme', 'Relig...</td>\n",
       "    </tr>\n",
       "    <tr>\n",
       "      <th>12636</th>\n",
       "      <td>Monopoly: Newcastle United Football Club</td>\n",
       "      <td>The classic boardgame takes on a new shape in ...</td>\n",
       "      <td>['Medical', 'Movies / TV / Radio theme']</td>\n",
       "    </tr>\n",
       "    <tr>\n",
       "      <th>12637</th>\n",
       "      <td>Monopoly: University of Newcastle Upon Tyne</td>\n",
       "      <td>The classic Monopoly with elements from the Un...</td>\n",
       "      <td>['Roll / Spin and Move']</td>\n",
       "    </tr>\n",
       "    <tr>\n",
       "      <th>12638</th>\n",
       "      <td>Monopoly: Northern Ireland</td>\n",
       "      <td>A monopoly (from Greek monos μόνος (alone or s...</td>\n",
       "      <td>['Aviation / Flight', 'Expansion for Base-game...</td>\n",
       "    </tr>\n",
       "  </tbody>\n",
       "</table>\n",
       "<p>12639 rows × 3 columns</p>\n",
       "</div>"
      ],
      "text/plain": [
       "                                                   title  \\\n",
       "0                                               Giganten   \n",
       "1                                    Rommel at the Meuse   \n",
       "2                                       Schwarz-Rot-Gold   \n",
       "3                                                Sculley   \n",
       "4      The Warriors of the Green Planet Trilogy of Ga...   \n",
       "...                                                  ...   \n",
       "12634                            Monopoly: Middlesbrough   \n",
       "12635                    Monopoly: Newcastle & Gateshead   \n",
       "12636           Monopoly: Newcastle United Football Club   \n",
       "12637        Monopoly: University of Newcastle Upon Tyne   \n",
       "12638                         Monopoly: Northern Ireland   \n",
       "\n",
       "                                             description  \\\n",
       "0      Giganten could be briefly described as \"Dinosa...   \n",
       "1      (from Simulations Workshop website:)The German...   \n",
       "2      The game is played on a 3x4 grid with pieces i...   \n",
       "3      This is a very simple game consisting of a boa...   \n",
       "4      A set of additional rules for combining War of...   \n",
       "...                                                  ...   \n",
       "12634  The classic Monopoly with constructions and ot...   \n",
       "12635  The classic Monopoly with constructions and ot...   \n",
       "12636  The classic boardgame takes on a new shape in ...   \n",
       "12637  The classic Monopoly with elements from the Un...   \n",
       "12638  A monopoly (from Greek monos μόνος (alone or s...   \n",
       "\n",
       "                                                  genres  \n",
       "0        ['Abstract Strategy', 'Animals', 'Prehistoric']  \n",
       "1                            ['Wargame', 'World War II']  \n",
       "2                                  ['Abstract Strategy']  \n",
       "3                                   ['Dice', 'Nautical']  \n",
       "4      ['Expansion for Base-game', 'Science Fiction',...  \n",
       "...                                                  ...  \n",
       "12634                        ['Card Game', 'Party Game']  \n",
       "12635  ['Memory', 'Movies / TV / Radio theme', 'Relig...  \n",
       "12636           ['Medical', 'Movies / TV / Radio theme']  \n",
       "12637                           ['Roll / Spin and Move']  \n",
       "12638  ['Aviation / Flight', 'Expansion for Base-game...  \n",
       "\n",
       "[12639 rows x 3 columns]"
      ]
     },
     "execution_count": 24,
     "metadata": {},
     "output_type": "execute_result"
    }
   ],
   "source": [
    "df"
   ]
  },
  {
   "cell_type": "code",
   "execution_count": null,
   "id": "323d5348",
   "metadata": {},
   "outputs": [],
   "source": []
  }
 ],
 "metadata": {
  "kernelspec": {
   "display_name": "Python 3 (ipykernel)",
   "language": "python",
   "name": "python3"
  },
  "language_info": {
   "codemirror_mode": {
    "name": "ipython",
    "version": 3
   },
   "file_extension": ".py",
   "mimetype": "text/x-python",
   "name": "python",
   "nbconvert_exporter": "python",
   "pygments_lexer": "ipython3",
   "version": "3.9.7"
  }
 },
 "nbformat": 4,
 "nbformat_minor": 5
}
