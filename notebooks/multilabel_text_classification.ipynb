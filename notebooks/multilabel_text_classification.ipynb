{
 "cells": [
  {
   "cell_type": "markdown",
   "metadata": {
    "id": "VYdoPI5umkHr"
   },
   "source": [
    "## Setting up necessary things"
   ]
  },
  {
   "cell_type": "code",
   "execution_count": 1,
   "metadata": {
    "colab": {
     "base_uri": "https://localhost:8080/"
    },
    "executionInfo": {
     "elapsed": 13,
     "status": "ok",
     "timestamp": 1693415105676,
     "user": {
      "displayName": "Minhaj",
      "userId": "04836163569051548115"
     },
     "user_tz": -360
    },
    "id": "pHvPRQeImc_D",
    "outputId": "b3ef4b17-aaf3-4b16-ed0e-c1e8f5405a46"
   },
   "outputs": [
    {
     "name": "stdout",
     "output_type": "stream",
     "text": [
      "Wed Aug 30 17:05:08 2023       \n",
      "+-----------------------------------------------------------------------------+\n",
      "| NVIDIA-SMI 525.105.17   Driver Version: 525.105.17   CUDA Version: 12.0     |\n",
      "|-------------------------------+----------------------+----------------------+\n",
      "| GPU  Name        Persistence-M| Bus-Id        Disp.A | Volatile Uncorr. ECC |\n",
      "| Fan  Temp  Perf  Pwr:Usage/Cap|         Memory-Usage | GPU-Util  Compute M. |\n",
      "|                               |                      |               MIG M. |\n",
      "|===============================+======================+======================|\n",
      "|   0  Tesla T4            Off  | 00000000:00:04.0 Off |                    0 |\n",
      "| N/A   49C    P8    11W /  70W |      0MiB / 15360MiB |      0%      Default |\n",
      "|                               |                      |                  N/A |\n",
      "+-------------------------------+----------------------+----------------------+\n",
      "                                                                               \n",
      "+-----------------------------------------------------------------------------+\n",
      "| Processes:                                                                  |\n",
      "|  GPU   GI   CI        PID   Type   Process name                  GPU Memory |\n",
      "|        ID   ID                                                   Usage      |\n",
      "|=============================================================================|\n",
      "|  No running processes found                                                 |\n",
      "+-----------------------------------------------------------------------------+\n"
     ]
    }
   ],
   "source": [
    "!nvidia-smi"
   ]
  },
  {
   "cell_type": "code",
   "execution_count": 2,
   "metadata": {
    "executionInfo": {
     "elapsed": 5,
     "status": "ok",
     "timestamp": 1693415105676,
     "user": {
      "displayName": "Minhaj",
      "userId": "04836163569051548115"
     },
     "user_tz": -360
    },
    "id": "5kiPW9mDm3LC"
   },
   "outputs": [],
   "source": [
    "%reload_ext autoreload\n",
    "%autoreload 2\n",
    "%matplotlib inline"
   ]
  },
  {
   "cell_type": "code",
   "execution_count": 3,
   "metadata": {
    "colab": {
     "base_uri": "https://localhost:8080/"
    },
    "executionInfo": {
     "elapsed": 145386,
     "status": "ok",
     "timestamp": 1693415251058,
     "user": {
      "displayName": "Minhaj",
      "userId": "04836163569051548115"
     },
     "user_tz": -360
    },
    "id": "LJtuyzXOm3If",
    "outputId": "af2cabc8-2505-4b3b-e1ea-6103e7d534c9"
   },
   "outputs": [
    {
     "name": "stdout",
     "output_type": "stream",
     "text": [
      "\u001b[2K     \u001b[90m━━━━━━━━━━━━━━━━━━━━━━━━━━━━━━━━━━━━━━━━\u001b[0m \u001b[32m7.5/7.5 MB\u001b[0m \u001b[31m41.5 MB/s\u001b[0m eta \u001b[36m0:00:00\u001b[0m\n",
      "\u001b[2K     \u001b[90m━━━━━━━━━━━━━━━━━━━━━━━━━━━━━━━━━━━━━━\u001b[0m \u001b[32m719.8/719.8 kB\u001b[0m \u001b[31m49.2 MB/s\u001b[0m eta \u001b[36m0:00:00\u001b[0m\n",
      "\u001b[2K     \u001b[90m━━━━━━━━━━━━━━━━━━━━━━━━━━━━━━━━━━━━━━━━\u001b[0m \u001b[32m81.1/81.1 kB\u001b[0m \u001b[31m9.1 MB/s\u001b[0m eta \u001b[36m0:00:00\u001b[0m\n",
      "\u001b[2K     \u001b[90m━━━━━━━━━━━━━━━━━━━━━━━━━━━━━━━━━━━━━━━━\u001b[0m \u001b[32m64.8/64.8 kB\u001b[0m \u001b[31m8.5 MB/s\u001b[0m eta \u001b[36m0:00:00\u001b[0m\n",
      "\u001b[2K     \u001b[90m━━━━━━━━━━━━━━━━━━━━━━━━━━━━━━━━━━━━━━\u001b[0m \u001b[32m268.8/268.8 kB\u001b[0m \u001b[31m27.8 MB/s\u001b[0m eta \u001b[36m0:00:00\u001b[0m\n",
      "\u001b[2K     \u001b[90m━━━━━━━━━━━━━━━━━━━━━━━━━━━━━━━━━━━━━━━━\u001b[0m \u001b[32m7.8/7.8 MB\u001b[0m \u001b[31m64.0 MB/s\u001b[0m eta \u001b[36m0:00:00\u001b[0m\n",
      "\u001b[2K     \u001b[90m━━━━━━━━━━━━━━━━━━━━━━━━━━━━━━━━━━━━━━━━\u001b[0m \u001b[32m1.3/1.3 MB\u001b[0m \u001b[31m46.1 MB/s\u001b[0m eta \u001b[36m0:00:00\u001b[0m\n",
      "\u001b[2K     \u001b[90m━━━━━━━━━━━━━━━━━━━━━━━━━━━━━━━━━━━━━━━━\u001b[0m \u001b[32m1.3/1.3 MB\u001b[0m \u001b[31m49.6 MB/s\u001b[0m eta \u001b[36m0:00:00\u001b[0m\n",
      "\u001b[2K     \u001b[90m━━━━━━━━━━━━━━━━━━━━━━━━━━━━━━━━━━━━━━\u001b[0m \u001b[32m519.3/519.3 kB\u001b[0m \u001b[31m49.1 MB/s\u001b[0m eta \u001b[36m0:00:00\u001b[0m\n",
      "\u001b[2K     \u001b[90m━━━━━━━━━━━━━━━━━━━━━━━━━━━━━━━━━━━━━━━\u001b[0m \u001b[32m887.5/887.5 MB\u001b[0m \u001b[31m1.6 MB/s\u001b[0m eta \u001b[36m0:00:00\u001b[0m\n",
      "\u001b[2K     \u001b[90m━━━━━━━━━━━━━━━━━━━━━━━━━━━━━━━━━━━━━━━━\u001b[0m \u001b[32m43.6/43.6 kB\u001b[0m \u001b[31m3.9 MB/s\u001b[0m eta \u001b[36m0:00:00\u001b[0m\n",
      "\u001b[?25h  Preparing metadata (setup.py) ... \u001b[?25l\u001b[?25hdone\n",
      "  Preparing metadata (setup.py) ... \u001b[?25l\u001b[?25hdone\n",
      "\u001b[2K     \u001b[90m━━━━━━━━━━━━━━━━━━━━━━━━━━━━━━━━━━━━━━━━\u001b[0m \u001b[32m58.7/58.7 kB\u001b[0m \u001b[31m5.6 MB/s\u001b[0m eta \u001b[36m0:00:00\u001b[0m\n",
      "\u001b[2K     \u001b[90m━━━━━━━━━━━━━━━━━━━━━━━━━━━━━━━━━━━━━━━━\u001b[0m \u001b[32m82.1/82.1 kB\u001b[0m \u001b[31m10.7 MB/s\u001b[0m eta \u001b[36m0:00:00\u001b[0m\n",
      "\u001b[2K     \u001b[90m━━━━━━━━━━━━━━━━━━━━━━━━━━━━━━━━━━━━━━\u001b[0m \u001b[32m849.3/849.3 kB\u001b[0m \u001b[31m54.2 MB/s\u001b[0m eta \u001b[36m0:00:00\u001b[0m\n",
      "\u001b[2K     \u001b[90m━━━━━━━━━━━━━━━━━━━━━━━━━━━━━━━━━━━━━━━\u001b[0m \u001b[32m557.1/557.1 MB\u001b[0m \u001b[31m2.7 MB/s\u001b[0m eta \u001b[36m0:00:00\u001b[0m\n",
      "\u001b[2K     \u001b[90m━━━━━━━━━━━━━━━━━━━━━━━━━━━━━━━━━━━━━━━\u001b[0m \u001b[32m317.1/317.1 MB\u001b[0m \u001b[31m4.5 MB/s\u001b[0m eta \u001b[36m0:00:00\u001b[0m\n",
      "\u001b[2K     \u001b[90m━━━━━━━━━━━━━━━━━━━━━━━━━━━━━━━━━━━━━━━━\u001b[0m \u001b[32m21.0/21.0 MB\u001b[0m \u001b[31m80.7 MB/s\u001b[0m eta \u001b[36m0:00:00\u001b[0m\n",
      "\u001b[2K     \u001b[90m━━━━━━━━━━━━━━━━━━━━━━━━━━━━━━━━━━━━━━━━\u001b[0m \u001b[32m6.0/6.0 MB\u001b[0m \u001b[31m94.1 MB/s\u001b[0m eta \u001b[36m0:00:00\u001b[0m\n",
      "\u001b[2K     \u001b[90m━━━━━━━━━━━━━━━━━━━━━━━━━━━━━━━━━━━━━━━━\u001b[0m \u001b[32m6.0/6.0 MB\u001b[0m \u001b[31m110.0 MB/s\u001b[0m eta \u001b[36m0:00:00\u001b[0m\n",
      "\u001b[2K     \u001b[90m━━━━━━━━━━━━━━━━━━━━━━━━━━━━━━━━━━━━━━━━\u001b[0m \u001b[32m24.2/24.2 MB\u001b[0m \u001b[31m28.4 MB/s\u001b[0m eta \u001b[36m0:00:00\u001b[0m\n",
      "\u001b[2K     \u001b[90m━━━━━━━━━━━━━━━━━━━━━━━━━━━━━━━━━━━━━━\u001b[0m \u001b[32m115.3/115.3 kB\u001b[0m \u001b[31m15.9 MB/s\u001b[0m eta \u001b[36m0:00:00\u001b[0m\n",
      "\u001b[2K     \u001b[90m━━━━━━━━━━━━━━━━━━━━━━━━━━━━━━━━━━━━━━\u001b[0m \u001b[32m194.1/194.1 kB\u001b[0m \u001b[31m23.4 MB/s\u001b[0m eta \u001b[36m0:00:00\u001b[0m\n",
      "\u001b[2K     \u001b[90m━━━━━━━━━━━━━━━━━━━━━━━━━━━━━━━━━━━━━━\u001b[0m \u001b[32m134.8/134.8 kB\u001b[0m \u001b[31m18.4 MB/s\u001b[0m eta \u001b[36m0:00:00\u001b[0m\n",
      "\u001b[2K     \u001b[90m━━━━━━━━━━━━━━━━━━━━━━━━━━━━━━━━━━━━━━━━\u001b[0m \u001b[32m1.6/1.6 MB\u001b[0m \u001b[31m91.6 MB/s\u001b[0m eta \u001b[36m0:00:00\u001b[0m\n",
      "\u001b[?25h  Building wheel for rouge-score (setup.py) ... \u001b[?25l\u001b[?25hdone\n",
      "  Building wheel for seqeval (setup.py) ... \u001b[?25l\u001b[?25hdone\n",
      "\u001b[31mERROR: pip's dependency resolver does not currently take into account all the packages that are installed. This behaviour is the source of the following dependency conflicts.\n",
      "torchaudio 2.0.2+cu118 requires torch==2.0.1, but you have torch 1.13.1 which is incompatible.\n",
      "torchdata 0.6.1 requires torch==2.0.1, but you have torch 1.13.1 which is incompatible.\n",
      "torchtext 0.15.2 requires torch==2.0.1, but you have torch 1.13.1 which is incompatible.\u001b[0m\u001b[31m\n",
      "\u001b[0m"
     ]
    }
   ],
   "source": [
    "! pip install -q transformers[sentencepiece] fastbook fastai ohmeow-blurr nbdev"
   ]
  },
  {
   "cell_type": "code",
   "execution_count": 4,
   "metadata": {
    "colab": {
     "base_uri": "https://localhost:8080/"
    },
    "executionInfo": {
     "elapsed": 74169,
     "status": "ok",
     "timestamp": 1693415325213,
     "user": {
      "displayName": "Minhaj",
      "userId": "04836163569051548115"
     },
     "user_tz": -360
    },
    "id": "WfVtE9QHm3Ee",
    "outputId": "fababdd5-e7ad-4611-a39b-3f089dd1b95d"
   },
   "outputs": [
    {
     "name": "stdout",
     "output_type": "stream",
     "text": [
      "Requirement already satisfied: torch in /usr/local/lib/python3.10/dist-packages (1.13.1)\n",
      "Collecting torch\n",
      "  Downloading torch-2.0.1-cp310-cp310-manylinux1_x86_64.whl (619.9 MB)\n",
      "\u001b[2K     \u001b[90m━━━━━━━━━━━━━━━━━━━━━━━━━━━━━━━━━━━━━━━\u001b[0m \u001b[32m619.9/619.9 MB\u001b[0m \u001b[31m2.7 MB/s\u001b[0m eta \u001b[36m0:00:00\u001b[0m\n",
      "\u001b[?25hRequirement already satisfied: filelock in /usr/local/lib/python3.10/dist-packages (from torch) (3.12.2)\n",
      "Requirement already satisfied: typing-extensions in /usr/local/lib/python3.10/dist-packages (from torch) (4.7.1)\n",
      "Requirement already satisfied: sympy in /usr/local/lib/python3.10/dist-packages (from torch) (1.12)\n",
      "Requirement already satisfied: networkx in /usr/local/lib/python3.10/dist-packages (from torch) (3.1)\n",
      "Requirement already satisfied: jinja2 in /usr/local/lib/python3.10/dist-packages (from torch) (3.1.2)\n",
      "Requirement already satisfied: nvidia-cuda-nvrtc-cu11==11.7.99 in /usr/local/lib/python3.10/dist-packages (from torch) (11.7.99)\n",
      "Requirement already satisfied: nvidia-cuda-runtime-cu11==11.7.99 in /usr/local/lib/python3.10/dist-packages (from torch) (11.7.99)\n",
      "Collecting nvidia-cuda-cupti-cu11==11.7.101 (from torch)\n",
      "  Downloading nvidia_cuda_cupti_cu11-11.7.101-py3-none-manylinux1_x86_64.whl (11.8 MB)\n",
      "\u001b[2K     \u001b[90m━━━━━━━━━━━━━━━━━━━━━━━━━━━━━━━━━━━━━━━━\u001b[0m \u001b[32m11.8/11.8 MB\u001b[0m \u001b[31m72.4 MB/s\u001b[0m eta \u001b[36m0:00:00\u001b[0m\n",
      "\u001b[?25hRequirement already satisfied: nvidia-cudnn-cu11==8.5.0.96 in /usr/local/lib/python3.10/dist-packages (from torch) (8.5.0.96)\n",
      "Requirement already satisfied: nvidia-cublas-cu11==11.10.3.66 in /usr/local/lib/python3.10/dist-packages (from torch) (11.10.3.66)\n",
      "Collecting nvidia-cufft-cu11==10.9.0.58 (from torch)\n",
      "  Downloading nvidia_cufft_cu11-10.9.0.58-py3-none-manylinux1_x86_64.whl (168.4 MB)\n",
      "\u001b[2K     \u001b[90m━━━━━━━━━━━━━━━━━━━━━━━━━━━━━━━━━━━━━━━\u001b[0m \u001b[32m168.4/168.4 MB\u001b[0m \u001b[31m6.4 MB/s\u001b[0m eta \u001b[36m0:00:00\u001b[0m\n",
      "\u001b[?25hCollecting nvidia-curand-cu11==10.2.10.91 (from torch)\n",
      "  Downloading nvidia_curand_cu11-10.2.10.91-py3-none-manylinux1_x86_64.whl (54.6 MB)\n",
      "\u001b[2K     \u001b[90m━━━━━━━━━━━━━━━━━━━━━━━━━━━━━━━━━━━━━━━━\u001b[0m \u001b[32m54.6/54.6 MB\u001b[0m \u001b[31m11.4 MB/s\u001b[0m eta \u001b[36m0:00:00\u001b[0m\n",
      "\u001b[?25hCollecting nvidia-cusolver-cu11==11.4.0.1 (from torch)\n",
      "  Downloading nvidia_cusolver_cu11-11.4.0.1-2-py3-none-manylinux1_x86_64.whl (102.6 MB)\n",
      "\u001b[2K     \u001b[90m━━━━━━━━━━━━━━━━━━━━━━━━━━━━━━━━━━━━━━━\u001b[0m \u001b[32m102.6/102.6 MB\u001b[0m \u001b[31m8.7 MB/s\u001b[0m eta \u001b[36m0:00:00\u001b[0m\n",
      "\u001b[?25hCollecting nvidia-cusparse-cu11==11.7.4.91 (from torch)\n",
      "  Downloading nvidia_cusparse_cu11-11.7.4.91-py3-none-manylinux1_x86_64.whl (173.2 MB)\n",
      "\u001b[2K     \u001b[90m━━━━━━━━━━━━━━━━━━━━━━━━━━━━━━━━━━━━━━━\u001b[0m \u001b[32m173.2/173.2 MB\u001b[0m \u001b[31m4.5 MB/s\u001b[0m eta \u001b[36m0:00:00\u001b[0m\n",
      "\u001b[?25hCollecting nvidia-nccl-cu11==2.14.3 (from torch)\n",
      "  Downloading nvidia_nccl_cu11-2.14.3-py3-none-manylinux1_x86_64.whl (177.1 MB)\n",
      "\u001b[2K     \u001b[90m━━━━━━━━━━━━━━━━━━━━━━━━━━━━━━━━━━━━━━━\u001b[0m \u001b[32m177.1/177.1 MB\u001b[0m \u001b[31m7.9 MB/s\u001b[0m eta \u001b[36m0:00:00\u001b[0m\n",
      "\u001b[?25hCollecting nvidia-nvtx-cu11==11.7.91 (from torch)\n",
      "  Downloading nvidia_nvtx_cu11-11.7.91-py3-none-manylinux1_x86_64.whl (98 kB)\n",
      "\u001b[2K     \u001b[90m━━━━━━━━━━━━━━━━━━━━━━━━━━━━━━━━━━━━━━━━\u001b[0m \u001b[32m98.6/98.6 kB\u001b[0m \u001b[31m15.2 MB/s\u001b[0m eta \u001b[36m0:00:00\u001b[0m\n",
      "\u001b[?25hRequirement already satisfied: triton==2.0.0 in /usr/local/lib/python3.10/dist-packages (from torch) (2.0.0)\n",
      "Requirement already satisfied: setuptools in /usr/local/lib/python3.10/dist-packages (from nvidia-cublas-cu11==11.10.3.66->torch) (67.7.2)\n",
      "Requirement already satisfied: wheel in /usr/local/lib/python3.10/dist-packages (from nvidia-cublas-cu11==11.10.3.66->torch) (0.41.2)\n",
      "Requirement already satisfied: cmake in /usr/local/lib/python3.10/dist-packages (from triton==2.0.0->torch) (3.27.2)\n",
      "Requirement already satisfied: lit in /usr/local/lib/python3.10/dist-packages (from triton==2.0.0->torch) (16.0.6)\n",
      "Requirement already satisfied: MarkupSafe>=2.0 in /usr/local/lib/python3.10/dist-packages (from jinja2->torch) (2.1.3)\n",
      "Requirement already satisfied: mpmath>=0.19 in /usr/local/lib/python3.10/dist-packages (from sympy->torch) (1.3.0)\n",
      "Installing collected packages: nvidia-nvtx-cu11, nvidia-nccl-cu11, nvidia-cusparse-cu11, nvidia-curand-cu11, nvidia-cufft-cu11, nvidia-cuda-cupti-cu11, nvidia-cusolver-cu11, torch\n",
      "  Attempting uninstall: torch\n",
      "    Found existing installation: torch 1.13.1\n",
      "    Uninstalling torch-1.13.1:\n",
      "      Successfully uninstalled torch-1.13.1\n",
      "\u001b[31mERROR: pip's dependency resolver does not currently take into account all the packages that are installed. This behaviour is the source of the following dependency conflicts.\n",
      "ohmeow-blurr 1.0.5 requires torch<2.0.0,>=1.7.0, but you have torch 2.0.1 which is incompatible.\n",
      "torchvision 0.14.1 requires torch==1.13.1, but you have torch 2.0.1 which is incompatible.\u001b[0m\u001b[31m\n",
      "\u001b[0mSuccessfully installed nvidia-cuda-cupti-cu11-11.7.101 nvidia-cufft-cu11-10.9.0.58 nvidia-curand-cu11-10.2.10.91 nvidia-cusolver-cu11-11.4.0.1 nvidia-cusparse-cu11-11.7.4.91 nvidia-nccl-cu11-2.14.3 nvidia-nvtx-cu11-11.7.91 torch-2.0.1\n"
     ]
    }
   ],
   "source": [
    "! pip install --upgrade torch"
   ]
  },
  {
   "cell_type": "code",
   "execution_count": 5,
   "metadata": {
    "colab": {
     "base_uri": "https://localhost:8080/",
     "height": 136,
     "referenced_widgets": [
      "2c637de85335478985a1a142ffdb2704",
      "2f671412c342419691b7918887192762",
      "c60fbf08524f4da58d0de368ab97fc8a",
      "9182ffa7e32947a49ddab2893df98582",
      "b5d2ba7de0784da3a0487d59e364f957",
      "aabbbd6895e94a0ba3b1d8bb6c4d8060",
      "b90b600fbd1840dfbe535ff6dded9aff",
      "904271d70656428998575385d84c5e63",
      "f71293f4e78a4206b7d8c85a8132f9d7",
      "4fc14c05e977463aabe1d3a84a0058ab",
      "a7868daab0804ee2b183a3bab51f63b6",
      "c54bae81680d48d79bc734e1fd527024",
      "f40131ad89b74e8e9af3fe154514fe67",
      "cd50b31a8d1444ab84662333fa65c335",
      "c5489b1a9b064660a283234c68196ce9",
      "8bda80679c6240fabcea0bdc95ac1e7f",
      "6e6865ce7bca47df8c25901fbfd84e2b",
      "6570b596a06b46e1a550eba7d9e93077",
      "1e7e2edb52dc42fb8062b06b528adc61",
      "b6c983f486ff4c1ba93a8a8252ea1869",
      "cffc2b0249fc4d89bc532e3c80178360",
      "7d094ded7829463ab6d185017e8b146f"
     ]
    },
    "executionInfo": {
     "elapsed": 13330,
     "status": "ok",
     "timestamp": 1693415419118,
     "user": {
      "displayName": "Minhaj",
      "userId": "04836163569051548115"
     },
     "user_tz": -360
    },
    "id": "vb3KrZAGm3BQ",
    "outputId": "2530ed69-e177-46c9-9f57-511f8a41d7a1"
   },
   "outputs": [
    {
     "name": "stderr",
     "output_type": "stream",
     "text": [
      "/usr/local/lib/python3.10/dist-packages/blurr/text/modeling/question_answering.py:31: FutureWarning: load_metric is deprecated and will be removed in the next major version of datasets. Use 'evaluate.load' instead, from the new library 🤗 Evaluate: https://huggingface.co/docs/evaluate\n",
      "  squad_metric = load_metric(\"squad\")\n"
     ]
    },
    {
     "data": {
      "application/vnd.jupyter.widget-view+json": {
       "model_id": "2c637de85335478985a1a142ffdb2704",
       "version_major": 2,
       "version_minor": 0
      },
      "text/plain": [
       "Downloading builder script:   0%|          | 0.00/1.72k [00:00<?, ?B/s]"
      ]
     },
     "metadata": {},
     "output_type": "display_data"
    },
    {
     "data": {
      "application/vnd.jupyter.widget-view+json": {
       "model_id": "c54bae81680d48d79bc734e1fd527024",
       "version_major": 2,
       "version_minor": 0
      },
      "text/plain": [
       "Downloading extra modules:   0%|          | 0.00/1.11k [00:00<?, ?B/s]"
      ]
     },
     "metadata": {},
     "output_type": "display_data"
    }
   ],
   "source": [
    "import torch\n",
    "from transformers import AutoModelForSequenceClassification, AutoConfig\n",
    "from fastai.text.all import *\n",
    "from blurr.text.data.all import *\n",
    "from blurr.text.modeling.all import *"
   ]
  },
  {
   "cell_type": "code",
   "execution_count": 6,
   "metadata": {
    "colab": {
     "base_uri": "https://localhost:8080/"
    },
    "executionInfo": {
     "elapsed": 111594,
     "status": "ok",
     "timestamp": 1693415530671,
     "user": {
      "displayName": "Minhaj",
      "userId": "04836163569051548115"
     },
     "user_tz": -360
    },
    "id": "MVfKdvO2m2-f",
    "outputId": "0fe13046-6556-4bf4-fd90-54cb1cd04762"
   },
   "outputs": [
    {
     "name": "stdout",
     "output_type": "stream",
     "text": [
      "Mounted at /content/drive\n"
     ]
    }
   ],
   "source": [
    "from google.colab import drive\n",
    "drive.mount('/content/drive', force_remount=True)"
   ]
  },
  {
   "cell_type": "code",
   "execution_count": 7,
   "metadata": {
    "colab": {
     "base_uri": "https://localhost:8080/"
    },
    "executionInfo": {
     "elapsed": 645,
     "status": "ok",
     "timestamp": 1693415533970,
     "user": {
      "displayName": "Minhaj",
      "userId": "04836163569051548115"
     },
     "user_tz": -360
    },
    "id": "GlH7FInYm27d",
    "outputId": "b0b02d29-71c9-4f48-e81d-7497e0e72b70"
   },
   "outputs": [
    {
     "name": "stdout",
     "output_type": "stream",
     "text": [
      "/content/drive/My Drive/MasterCourse_Project/Game_classifier\n"
     ]
    }
   ],
   "source": [
    "%cd /content/drive/My Drive/MasterCourse_Project/Game_classifier"
   ]
  },
  {
   "cell_type": "markdown",
   "metadata": {
    "id": "11LfZGdDnfEw"
   },
   "source": [
    "## Data"
   ]
  },
  {
   "cell_type": "code",
   "execution_count": 8,
   "metadata": {
    "colab": {
     "base_uri": "https://localhost:8080/",
     "height": 484
    },
    "executionInfo": {
     "elapsed": 1693,
     "status": "ok",
     "timestamp": 1693415540230,
     "user": {
      "displayName": "Minhaj",
      "userId": "04836163569051548115"
     },
     "user_tz": -360
    },
    "id": "xyjYu9BTm24v",
    "outputId": "31477662-b08b-4f54-e2b8-ae97f7821e28"
   },
   "outputs": [
    {
     "data": {
      "text/html": [
       "\n",
       "  <div id=\"df-a5b590b7-2d89-41f5-9ba9-9d64c2cebec6\" class=\"colab-df-container\">\n",
       "    <div>\n",
       "<style scoped>\n",
       "    .dataframe tbody tr th:only-of-type {\n",
       "        vertical-align: middle;\n",
       "    }\n",
       "\n",
       "    .dataframe tbody tr th {\n",
       "        vertical-align: top;\n",
       "    }\n",
       "\n",
       "    .dataframe thead th {\n",
       "        text-align: right;\n",
       "    }\n",
       "</style>\n",
       "<table border=\"1\" class=\"dataframe\">\n",
       "  <thead>\n",
       "    <tr style=\"text-align: right;\">\n",
       "      <th></th>\n",
       "      <th>title</th>\n",
       "      <th>description</th>\n",
       "      <th>genres</th>\n",
       "    </tr>\n",
       "  </thead>\n",
       "  <tbody>\n",
       "    <tr>\n",
       "      <th>0</th>\n",
       "      <td>Giganten</td>\n",
       "      <td>Giganten could be briefly described as \"Dinosaur Stratego.\" Each player has a set of 23 saurians (dinosaurs of various kinds, pterodactyls, pleisosaurs, etc.) which are stand-up cardboard pieces with plain backs, so the opponent cannot tell which piece is which. Pieces move and attack each other Stratego-fashion, with the goal being to find your opponent's eggs.There were two versions of the game produced. The original 1981 version came in a small box, with a larger box coming out in 1982, and had numbers on the pieces to indicate their strength on land and in water (air being a special ca...</td>\n",
       "      <td>['Abstract Strategy', 'Animals', 'Prehistoric']</td>\n",
       "    </tr>\n",
       "    <tr>\n",
       "      <th>1</th>\n",
       "      <td>Rommel at the Meuse</td>\n",
       "      <td>(from Simulations Workshop website:)The German offensive against France was decided by the swift advance of the Panzer columns through the Ardennes forest and a quick crossing of the Meuse River. One of the leading divisions was the 7th Panzer lead by Erwin Rommel.One 11 by 16 inch color map, 186 color counters, rules, organizational charts, and tables. Units are battalions and companies, each map hex represents 1.5 kilometers, and turns represent 4 hours.Simple combat system, with rules covering river crossings, combined arms, refugees, and Rommel. The French have several tough formations...</td>\n",
       "      <td>['Wargame', 'World War II']</td>\n",
       "    </tr>\n",
       "    <tr>\n",
       "      <th>2</th>\n",
       "      <td>Schwarz-Rot-Gold</td>\n",
       "      <td>The game is played on a 3x4 grid with pieces in three colors (black, red, and gold, natch). Each player has 6 pieces in each color and places one per turn. The object is to create lines of 3 pieces in the title sequence (black-red-gold). The lines can be created orthogonally, diagonally, or vertically, since the pieces stack up to 3 high. Creating a line allows you to take a piece from your opponent, and whoever runs out of pieces first loses.</td>\n",
       "      <td>['Abstract Strategy']</td>\n",
       "    </tr>\n",
       "    <tr>\n",
       "      <th>3</th>\n",
       "      <td>Sculley</td>\n",
       "      <td>This is a very simple game consisting of a board that is left in the inner box and dice that are thrown on the board. Points are scored according to where on the board the dice land. Luck is the biggest part but some skill can be developed in how the dice are thrown.This great for a short two player game.</td>\n",
       "      <td>['Dice', 'Nautical']</td>\n",
       "    </tr>\n",
       "    <tr>\n",
       "      <th>4</th>\n",
       "      <td>The Warriors of the Green Planet Trilogy of Games, Additional Rules</td>\n",
       "      <td>A set of additional rules for combining War of the Sky Galleons and Mind War with Warriors of the Green Planet.</td>\n",
       "      <td>['Expansion for Base-game', 'Science Fiction', 'Wargame']</td>\n",
       "    </tr>\n",
       "  </tbody>\n",
       "</table>\n",
       "</div>\n",
       "    <div class=\"colab-df-buttons\">\n",
       "\n",
       "  <div class=\"colab-df-container\">\n",
       "    <button class=\"colab-df-convert\" onclick=\"convertToInteractive('df-a5b590b7-2d89-41f5-9ba9-9d64c2cebec6')\"\n",
       "            title=\"Convert this dataframe to an interactive table.\"\n",
       "            style=\"display:none;\">\n",
       "\n",
       "  <svg xmlns=\"http://www.w3.org/2000/svg\" height=\"24px\" viewBox=\"0 -960 960 960\">\n",
       "    <path d=\"M120-120v-720h720v720H120Zm60-500h600v-160H180v160Zm220 220h160v-160H400v160Zm0 220h160v-160H400v160ZM180-400h160v-160H180v160Zm440 0h160v-160H620v160ZM180-180h160v-160H180v160Zm440 0h160v-160H620v160Z\"/>\n",
       "  </svg>\n",
       "    </button>\n",
       "\n",
       "  <style>\n",
       "    .colab-df-container {\n",
       "      display:flex;\n",
       "      gap: 12px;\n",
       "    }\n",
       "\n",
       "    .colab-df-convert {\n",
       "      background-color: #E8F0FE;\n",
       "      border: none;\n",
       "      border-radius: 50%;\n",
       "      cursor: pointer;\n",
       "      display: none;\n",
       "      fill: #1967D2;\n",
       "      height: 32px;\n",
       "      padding: 0 0 0 0;\n",
       "      width: 32px;\n",
       "    }\n",
       "\n",
       "    .colab-df-convert:hover {\n",
       "      background-color: #E2EBFA;\n",
       "      box-shadow: 0px 1px 2px rgba(60, 64, 67, 0.3), 0px 1px 3px 1px rgba(60, 64, 67, 0.15);\n",
       "      fill: #174EA6;\n",
       "    }\n",
       "\n",
       "    .colab-df-buttons div {\n",
       "      margin-bottom: 4px;\n",
       "    }\n",
       "\n",
       "    [theme=dark] .colab-df-convert {\n",
       "      background-color: #3B4455;\n",
       "      fill: #D2E3FC;\n",
       "    }\n",
       "\n",
       "    [theme=dark] .colab-df-convert:hover {\n",
       "      background-color: #434B5C;\n",
       "      box-shadow: 0px 1px 3px 1px rgba(0, 0, 0, 0.15);\n",
       "      filter: drop-shadow(0px 1px 2px rgba(0, 0, 0, 0.3));\n",
       "      fill: #FFFFFF;\n",
       "    }\n",
       "  </style>\n",
       "\n",
       "    <script>\n",
       "      const buttonEl =\n",
       "        document.querySelector('#df-a5b590b7-2d89-41f5-9ba9-9d64c2cebec6 button.colab-df-convert');\n",
       "      buttonEl.style.display =\n",
       "        google.colab.kernel.accessAllowed ? 'block' : 'none';\n",
       "\n",
       "      async function convertToInteractive(key) {\n",
       "        const element = document.querySelector('#df-a5b590b7-2d89-41f5-9ba9-9d64c2cebec6');\n",
       "        const dataTable =\n",
       "          await google.colab.kernel.invokeFunction('convertToInteractive',\n",
       "                                                    [key], {});\n",
       "        if (!dataTable) return;\n",
       "\n",
       "        const docLinkHtml = 'Like what you see? Visit the ' +\n",
       "          '<a target=\"_blank\" href=https://colab.research.google.com/notebooks/data_table.ipynb>data table notebook</a>'\n",
       "          + ' to learn more about interactive tables.';\n",
       "        element.innerHTML = '';\n",
       "        dataTable['output_type'] = 'display_data';\n",
       "        await google.colab.output.renderOutput(dataTable, element);\n",
       "        const docLink = document.createElement('div');\n",
       "        docLink.innerHTML = docLinkHtml;\n",
       "        element.appendChild(docLink);\n",
       "      }\n",
       "    </script>\n",
       "  </div>\n",
       "\n",
       "\n",
       "<div id=\"df-c74a12b2-b5df-4eae-a00d-8002c1e03a9d\">\n",
       "  <button class=\"colab-df-quickchart\" onclick=\"quickchart('df-c74a12b2-b5df-4eae-a00d-8002c1e03a9d')\"\n",
       "            title=\"Suggest charts.\"\n",
       "            style=\"display:none;\">\n",
       "\n",
       "<svg xmlns=\"http://www.w3.org/2000/svg\" height=\"24px\"viewBox=\"0 0 24 24\"\n",
       "     width=\"24px\">\n",
       "    <g>\n",
       "        <path d=\"M19 3H5c-1.1 0-2 .9-2 2v14c0 1.1.9 2 2 2h14c1.1 0 2-.9 2-2V5c0-1.1-.9-2-2-2zM9 17H7v-7h2v7zm4 0h-2V7h2v10zm4 0h-2v-4h2v4z\"/>\n",
       "    </g>\n",
       "</svg>\n",
       "  </button>\n",
       "\n",
       "<style>\n",
       "  .colab-df-quickchart {\n",
       "    background-color: #E8F0FE;\n",
       "    border: none;\n",
       "    border-radius: 50%;\n",
       "    cursor: pointer;\n",
       "    display: none;\n",
       "    fill: #1967D2;\n",
       "    height: 32px;\n",
       "    padding: 0 0 0 0;\n",
       "    width: 32px;\n",
       "  }\n",
       "\n",
       "  .colab-df-quickchart:hover {\n",
       "    background-color: #E2EBFA;\n",
       "    box-shadow: 0px 1px 2px rgba(60, 64, 67, 0.3), 0px 1px 3px 1px rgba(60, 64, 67, 0.15);\n",
       "    fill: #174EA6;\n",
       "  }\n",
       "\n",
       "  [theme=dark] .colab-df-quickchart {\n",
       "    background-color: #3B4455;\n",
       "    fill: #D2E3FC;\n",
       "  }\n",
       "\n",
       "  [theme=dark] .colab-df-quickchart:hover {\n",
       "    background-color: #434B5C;\n",
       "    box-shadow: 0px 1px 3px 1px rgba(0, 0, 0, 0.15);\n",
       "    filter: drop-shadow(0px 1px 2px rgba(0, 0, 0, 0.3));\n",
       "    fill: #FFFFFF;\n",
       "  }\n",
       "</style>\n",
       "\n",
       "  <script>\n",
       "    async function quickchart(key) {\n",
       "      const charts = await google.colab.kernel.invokeFunction(\n",
       "          'suggestCharts', [key], {});\n",
       "    }\n",
       "    (() => {\n",
       "      let quickchartButtonEl =\n",
       "        document.querySelector('#df-c74a12b2-b5df-4eae-a00d-8002c1e03a9d button');\n",
       "      quickchartButtonEl.style.display =\n",
       "        google.colab.kernel.accessAllowed ? 'block' : 'none';\n",
       "    })();\n",
       "  </script>\n",
       "</div>\n",
       "    </div>\n",
       "  </div>\n"
      ],
      "text/plain": [
       "                                                                 title  \\\n",
       "0                                                             Giganten   \n",
       "1                                                  Rommel at the Meuse   \n",
       "2                                                     Schwarz-Rot-Gold   \n",
       "3                                                              Sculley   \n",
       "4  The Warriors of the Green Planet Trilogy of Games, Additional Rules   \n",
       "\n",
       "                                                                                                                                                                                                                                                                                                                                                                                                                                                                                                                                                                                                               description  \\\n",
       "0  Giganten could be briefly described as \"Dinosaur Stratego.\" Each player has a set of 23 saurians (dinosaurs of various kinds, pterodactyls, pleisosaurs, etc.) which are stand-up cardboard pieces with plain backs, so the opponent cannot tell which piece is which. Pieces move and attack each other Stratego-fashion, with the goal being to find your opponent's eggs.There were two versions of the game produced. The original 1981 version came in a small box, with a larger box coming out in 1982, and had numbers on the pieces to indicate their strength on land and in water (air being a special ca...   \n",
       "1  (from Simulations Workshop website:)The German offensive against France was decided by the swift advance of the Panzer columns through the Ardennes forest and a quick crossing of the Meuse River. One of the leading divisions was the 7th Panzer lead by Erwin Rommel.One 11 by 16 inch color map, 186 color counters, rules, organizational charts, and tables. Units are battalions and companies, each map hex represents 1.5 kilometers, and turns represent 4 hours.Simple combat system, with rules covering river crossings, combined arms, refugees, and Rommel. The French have several tough formations...   \n",
       "2                                                                                                                                                          The game is played on a 3x4 grid with pieces in three colors (black, red, and gold, natch). Each player has 6 pieces in each color and places one per turn. The object is to create lines of 3 pieces in the title sequence (black-red-gold). The lines can be created orthogonally, diagonally, or vertically, since the pieces stack up to 3 high. Creating a line allows you to take a piece from your opponent, and whoever runs out of pieces first loses.   \n",
       "3                                                                                                                                                                                                                                                                                                       This is a very simple game consisting of a board that is left in the inner box and dice that are thrown on the board. Points are scored according to where on the board the dice land. Luck is the biggest part but some skill can be developed in how the dice are thrown.This great for a short two player game.   \n",
       "4                                                                                                                                                                                                                                                                                                                                                                                                                                                                                                          A set of additional rules for combining War of the Sky Galleons and Mind War with Warriors of the Green Planet.   \n",
       "\n",
       "                                                      genres  \n",
       "0            ['Abstract Strategy', 'Animals', 'Prehistoric']  \n",
       "1                                ['Wargame', 'World War II']  \n",
       "2                                      ['Abstract Strategy']  \n",
       "3                                       ['Dice', 'Nautical']  \n",
       "4  ['Expansion for Base-game', 'Science Fiction', 'Wargame']  "
      ]
     },
     "execution_count": 8,
     "metadata": {},
     "output_type": "execute_result"
    }
   ],
   "source": [
    "df=pd.read_csv(\"game_new_dataset_cleaned.csv\")\n",
    "df.head()"
   ]
  },
  {
   "cell_type": "code",
   "execution_count": 9,
   "metadata": {
    "colab": {
     "base_uri": "https://localhost:8080/"
    },
    "executionInfo": {
     "elapsed": 970,
     "status": "ok",
     "timestamp": 1693415545163,
     "user": {
      "displayName": "Minhaj",
      "userId": "04836163569051548115"
     },
     "user_tz": -360
    },
    "id": "EwYhMSL4m22D",
    "outputId": "e7e2fc41-d646-4a24-cd85-17db3b895aad"
   },
   "outputs": [
    {
     "data": {
      "text/plain": [
       "(12639, 3)"
      ]
     },
     "execution_count": 9,
     "metadata": {},
     "output_type": "execute_result"
    }
   ],
   "source": [
    "df = df.dropna().reset_index(drop=True)\n",
    "df.shape"
   ]
  },
  {
   "cell_type": "code",
   "execution_count": 10,
   "metadata": {
    "colab": {
     "base_uri": "https://localhost:8080/"
    },
    "executionInfo": {
     "elapsed": 9,
     "status": "ok",
     "timestamp": 1693415547339,
     "user": {
      "displayName": "Minhaj",
      "userId": "04836163569051548115"
     },
     "user_tz": -360
    },
    "id": "wFy3BYBHm2zO",
    "outputId": "a6a96414-6cca-4873-8258-21a645b3440c"
   },
   "outputs": [
    {
     "data": {
      "text/plain": [
       "0"
      ]
     },
     "execution_count": 10,
     "metadata": {},
     "output_type": "execute_result"
    }
   ],
   "source": [
    "df.duplicated().sum()"
   ]
  },
  {
   "cell_type": "code",
   "execution_count": 11,
   "metadata": {
    "executionInfo": {
     "elapsed": 2,
     "status": "ok",
     "timestamp": 1693415549994,
     "user": {
      "displayName": "Minhaj",
      "userId": "04836163569051548115"
     },
     "user_tz": -360
    },
    "id": "vAVrNIc6m2wh"
   },
   "outputs": [],
   "source": [
    "df=df.drop_duplicates(keep=\"first\")"
   ]
  },
  {
   "cell_type": "code",
   "execution_count": 12,
   "metadata": {
    "colab": {
     "base_uri": "https://localhost:8080/",
     "height": 334
    },
    "executionInfo": {
     "elapsed": 7,
     "status": "ok",
     "timestamp": 1693415553746,
     "user": {
      "displayName": "Minhaj",
      "userId": "04836163569051548115"
     },
     "user_tz": -360
    },
    "id": "tSugYSgWm2tJ",
    "outputId": "2f717773-c4d0-4971-a83a-372936824556"
   },
   "outputs": [
    {
     "data": {
      "text/html": [
       "\n",
       "  <div id=\"df-5e3a9f73-cc22-4f0b-a9ac-94838d21c5ec\" class=\"colab-df-container\">\n",
       "    <div>\n",
       "<style scoped>\n",
       "    .dataframe tbody tr th:only-of-type {\n",
       "        vertical-align: middle;\n",
       "    }\n",
       "\n",
       "    .dataframe tbody tr th {\n",
       "        vertical-align: top;\n",
       "    }\n",
       "\n",
       "    .dataframe thead th {\n",
       "        text-align: right;\n",
       "    }\n",
       "</style>\n",
       "<table border=\"1\" class=\"dataframe\">\n",
       "  <thead>\n",
       "    <tr style=\"text-align: right;\">\n",
       "      <th></th>\n",
       "      <th>title</th>\n",
       "      <th>description</th>\n",
       "      <th>genres</th>\n",
       "    </tr>\n",
       "  </thead>\n",
       "  <tbody>\n",
       "    <tr>\n",
       "      <th>10909</th>\n",
       "      <td>Pistard</td>\n",
       "      <td>This self published cycling game by Anki Toner from Barcelona contains 4 teams of 4 cyclists, each player controlling a team. Each player also has 4 dice to determine movement. The game board (A2 size) is a 40 field long, 4 line wide oval track. The fields are in 4 different colors. Each cyclist also has a base under it's pawn (in the shape of a cyclist). The shapes are also in 4 different colors, matching the colors on the fields. Two different sets of rules are available so far. The basic rules are made by Anki Toner who also designed this game, the more advanced rules were made by Ludo ...</td>\n",
       "      <td>['Movies / TV / Radio theme', 'Trivia']</td>\n",
       "    </tr>\n",
       "    <tr>\n",
       "      <th>5085</th>\n",
       "      <td>Snake Snack</td>\n",
       "      <td>The game is played on board with 4 snakes biting each others tails. There are 11-14 spots on each snake. Players take turns rolling the die and moving one of their 4 counters. When your counter lands in front of a snakes mouth, all counters standing on a spot of the same color as the counters color, is eaten and out of the game. Last player with counters in the game wins.Found in a book called: \"John Astrop's Ghastly Games\" - \"12 Sinister Board Games Invented Designed and Drawn for Your Pleasure\" (Patrick Hardy Books, London, 1st edition 1983 / Delacorte Press, New York, 1st USA Printing 1...</td>\n",
       "      <td>[\"Children's Game\", 'Fantasy']</td>\n",
       "    </tr>\n",
       "    <tr>\n",
       "      <th>9471</th>\n",
       "      <td>El Enigma de la Pirámide</td>\n",
       "      <td>The players begin their way through the Labyrinth, creating a route for themselves while trying to obstruct the paths of other players.In the labyrinth which they are creating there are two types of tiles, blue and orange. In the blue ones mummies appear and must be dealt with.When the players eventually cross the Labyrinth, they begin their way across the Shrine. There, they must confront not only more mummies but also rocks that fall. Both rocks and mummies cause a player to be wounded. The wounds are shown on the cardboard that each player has. When a player receives three wounds, the p...</td>\n",
       "      <td>['Card Game', 'Real-time']</td>\n",
       "    </tr>\n",
       "  </tbody>\n",
       "</table>\n",
       "</div>\n",
       "    <div class=\"colab-df-buttons\">\n",
       "\n",
       "  <div class=\"colab-df-container\">\n",
       "    <button class=\"colab-df-convert\" onclick=\"convertToInteractive('df-5e3a9f73-cc22-4f0b-a9ac-94838d21c5ec')\"\n",
       "            title=\"Convert this dataframe to an interactive table.\"\n",
       "            style=\"display:none;\">\n",
       "\n",
       "  <svg xmlns=\"http://www.w3.org/2000/svg\" height=\"24px\" viewBox=\"0 -960 960 960\">\n",
       "    <path d=\"M120-120v-720h720v720H120Zm60-500h600v-160H180v160Zm220 220h160v-160H400v160Zm0 220h160v-160H400v160ZM180-400h160v-160H180v160Zm440 0h160v-160H620v160ZM180-180h160v-160H180v160Zm440 0h160v-160H620v160Z\"/>\n",
       "  </svg>\n",
       "    </button>\n",
       "\n",
       "  <style>\n",
       "    .colab-df-container {\n",
       "      display:flex;\n",
       "      gap: 12px;\n",
       "    }\n",
       "\n",
       "    .colab-df-convert {\n",
       "      background-color: #E8F0FE;\n",
       "      border: none;\n",
       "      border-radius: 50%;\n",
       "      cursor: pointer;\n",
       "      display: none;\n",
       "      fill: #1967D2;\n",
       "      height: 32px;\n",
       "      padding: 0 0 0 0;\n",
       "      width: 32px;\n",
       "    }\n",
       "\n",
       "    .colab-df-convert:hover {\n",
       "      background-color: #E2EBFA;\n",
       "      box-shadow: 0px 1px 2px rgba(60, 64, 67, 0.3), 0px 1px 3px 1px rgba(60, 64, 67, 0.15);\n",
       "      fill: #174EA6;\n",
       "    }\n",
       "\n",
       "    .colab-df-buttons div {\n",
       "      margin-bottom: 4px;\n",
       "    }\n",
       "\n",
       "    [theme=dark] .colab-df-convert {\n",
       "      background-color: #3B4455;\n",
       "      fill: #D2E3FC;\n",
       "    }\n",
       "\n",
       "    [theme=dark] .colab-df-convert:hover {\n",
       "      background-color: #434B5C;\n",
       "      box-shadow: 0px 1px 3px 1px rgba(0, 0, 0, 0.15);\n",
       "      filter: drop-shadow(0px 1px 2px rgba(0, 0, 0, 0.3));\n",
       "      fill: #FFFFFF;\n",
       "    }\n",
       "  </style>\n",
       "\n",
       "    <script>\n",
       "      const buttonEl =\n",
       "        document.querySelector('#df-5e3a9f73-cc22-4f0b-a9ac-94838d21c5ec button.colab-df-convert');\n",
       "      buttonEl.style.display =\n",
       "        google.colab.kernel.accessAllowed ? 'block' : 'none';\n",
       "\n",
       "      async function convertToInteractive(key) {\n",
       "        const element = document.querySelector('#df-5e3a9f73-cc22-4f0b-a9ac-94838d21c5ec');\n",
       "        const dataTable =\n",
       "          await google.colab.kernel.invokeFunction('convertToInteractive',\n",
       "                                                    [key], {});\n",
       "        if (!dataTable) return;\n",
       "\n",
       "        const docLinkHtml = 'Like what you see? Visit the ' +\n",
       "          '<a target=\"_blank\" href=https://colab.research.google.com/notebooks/data_table.ipynb>data table notebook</a>'\n",
       "          + ' to learn more about interactive tables.';\n",
       "        element.innerHTML = '';\n",
       "        dataTable['output_type'] = 'display_data';\n",
       "        await google.colab.output.renderOutput(dataTable, element);\n",
       "        const docLink = document.createElement('div');\n",
       "        docLink.innerHTML = docLinkHtml;\n",
       "        element.appendChild(docLink);\n",
       "      }\n",
       "    </script>\n",
       "  </div>\n",
       "\n",
       "    </div>\n",
       "  </div>\n"
      ],
      "text/plain": [
       "                          title  \\\n",
       "10909                   Pistard   \n",
       "5085                Snake Snack   \n",
       "9471   El Enigma de la Pirámide   \n",
       "\n",
       "                                                                                                                                                                                                                                                                                                                                                                                                                                                                                                                                                                                                                   description  \\\n",
       "10909  This self published cycling game by Anki Toner from Barcelona contains 4 teams of 4 cyclists, each player controlling a team. Each player also has 4 dice to determine movement. The game board (A2 size) is a 40 field long, 4 line wide oval track. The fields are in 4 different colors. Each cyclist also has a base under it's pawn (in the shape of a cyclist). The shapes are also in 4 different colors, matching the colors on the fields. Two different sets of rules are available so far. The basic rules are made by Anki Toner who also designed this game, the more advanced rules were made by Ludo ...   \n",
       "5085   The game is played on board with 4 snakes biting each others tails. There are 11-14 spots on each snake. Players take turns rolling the die and moving one of their 4 counters. When your counter lands in front of a snakes mouth, all counters standing on a spot of the same color as the counters color, is eaten and out of the game. Last player with counters in the game wins.Found in a book called: \"John Astrop's Ghastly Games\" - \"12 Sinister Board Games Invented Designed and Drawn for Your Pleasure\" (Patrick Hardy Books, London, 1st edition 1983 / Delacorte Press, New York, 1st USA Printing 1...   \n",
       "9471   The players begin their way through the Labyrinth, creating a route for themselves while trying to obstruct the paths of other players.In the labyrinth which they are creating there are two types of tiles, blue and orange. In the blue ones mummies appear and must be dealt with.When the players eventually cross the Labyrinth, they begin their way across the Shrine. There, they must confront not only more mummies but also rocks that fall. Both rocks and mummies cause a player to be wounded. The wounds are shown on the cardboard that each player has. When a player receives three wounds, the p...   \n",
       "\n",
       "                                        genres  \n",
       "10909  ['Movies / TV / Radio theme', 'Trivia']  \n",
       "5085            [\"Children's Game\", 'Fantasy']  \n",
       "9471                ['Card Game', 'Real-time']  "
      ]
     },
     "execution_count": 12,
     "metadata": {},
     "output_type": "execute_result"
    }
   ],
   "source": [
    "df.sample(3)"
   ]
  },
  {
   "cell_type": "code",
   "execution_count": 13,
   "metadata": {
    "colab": {
     "base_uri": "https://localhost:8080/"
    },
    "executionInfo": {
     "elapsed": 675,
     "status": "ok",
     "timestamp": 1693415588541,
     "user": {
      "displayName": "Minhaj",
      "userId": "04836163569051548115"
     },
     "user_tz": -360
    },
    "id": "KXC6z4Nwn6lj",
    "outputId": "548dd077-4337-420b-a8fe-51b813f1b940"
   },
   "outputs": [
    {
     "name": "stdout",
     "output_type": "stream",
     "text": [
      "Number of Genres: 159\n",
      "{'Abstract Strategy': 1459, 'Animals': 810, 'Prehistoric': 59, 'Wargame': 2294, 'World War II': 606, 'Dice': 1037, 'Nautical': 340, 'Expansion for Base-game': 1087, 'Science Fiction': 785, 'Adventure': 349, 'Exploration': 185, 'Movies / TV / Radio theme': 1344, 'Fighting': 519, 'Modern Warfare': 248, 'Korean War': 19, 'Vietnam War': 47, 'World War I': 118, 'Ancient': 245, 'Medieval': 294, 'Card Game': 1848, \"Children's Game\": 2089, 'Educational': 1220, 'Memory': 700, 'Number': 189, 'American Civil War': 128, 'Deduction': 349, 'Humor': 640, 'Puzzle': 251, 'Racing': 740, 'Word Game': 492, 'Napoleonic': 161, 'Pirates': 102, 'Fantasy': 670, 'Party Game': 909, 'Action / Dexterity': 923, 'Horror': 173, 'Economic': 730, 'Trivia': 968, 'Post-Napoleonic': 81, 'Sports': 727, 'Book': 306, 'American West': 147, 'Miniatures': 932, 'Aviation / Flight': 133, 'Bluffing': 308, 'Industry / Manufacturing': 97, 'Collectible Components': 140, 'Novel-based': 296, 'Negotiation': 453, 'Transportation': 260, 'Dice Rolling': 25, 'Mature / Adult': 130, 'Music': 121, 'Political': 224, '+ 2 more': 101, 'Religious': 219, 'Environmental': 148, 'Roll / Spin and Move': 97, 'Math': 281, 'Space Exploration': 147, 'Print & Play': 503, 'Civil War': 64, 'City Building': 77, 'American Revolutionary War': 59, 'Age of Reason': 72, 'Trains': 144, 'Renaissance': 52, 'Travel': 190, 'Mythology': 50, 'Murder/Mystery': 187, 'Video Game Theme': 60, 'Farming': 84, 'Maze': 81, 'Comic Book / Strip': 224, 'American Indian Wars': 43, 'Electronic': 140, 'Mafia': 31, 'Territory Building': 75, 'Pike and Shot': 43, 'Fan Expansion': 8, 'Trading': 4, 'Arabian': 21, 'Spies/Secret Agents': 78, '+ 4 more': 17, 'Real-time': 150, 'Storytelling': 3, 'Tile Placement': 14, 'Voting': 1, '+ 6 more': 5, '+ 3 more': 39, 'Medical': 26, '+ 7 more': 3, 'Point to Point Movement': 4, 'Auction/Bidding': 9, 'Betting and Bluffing': 2, 'Commodity Speculation': 1, 'Game System': 16, '+ 8 more': 3, 'Set Collection': 24, 'Line Drawing': 1, 'Civilization': 60, 'Zombies': 23, 'Animals: Camels': 1, 'Players: Two Player Only Games': 9, 'Theme: Attorneys / Courts': 1, '+ 5 more': 5, 'Team-Based Game': 5, 'Continents: Antarctica': 1, 'Cooperative Game': 8, 'Open Drafting': 3, 'Characters: Strawberry Shortcake': 1, 'Components: Play Dough / Modeling Clay': 1, 'Theme: Dolls': 1, 'Theme: Food / Cooking': 3, \"TV Shows: 80's Cartoons\": 1, 'Components: 8 x 8 Grids': 1, 'Components: 6 x 6 Grids': 1, 'Area Movement': 2, 'Stock Holding': 2, 'Role Playing': 2, 'Action Points': 1, 'Pick-up and Deliver': 6, 'Mechanism: Tower Stacking': 1, 'Admin: Better Description Needed!': 2, 'Pattern Recognition': 4, 'Hand Management': 3, 'Rock-Paper-Scissors': 1, 'Theme: Weather': 1, 'Pattern Building': 5, 'Race': 1, 'Track Movement': 1, 'Traditional Games: Morris': 1, 'Digital Implementations: Ai Ai': 1, 'Players: Games with Solitaire Rules': 1, 'Series: Mini-Lederspiele (Hiku Spiele)': 1, 'Simulation': 1, 'Components: 16 x 16 Grids': 1, 'Creatures: Aliens / Extraterrestrials': 1, 'Admin: Miscellaneous Placeholder': 1, 'Simultaneous Action Selection': 3, 'Theme: Cryptids': 1, '+ 9 more': 1, 'Theme: Firefighting': 1, 'Creatures: Monsters': 3, 'Cities: Falkirk (Scotland, UK)': 1, 'Country: Scotland': 1, 'Components: 10 x 10 Grids': 1, 'Animals: Rabbits': 1, 'Theme: Beaches': 1, '+ 1 more': 1, 'Brands: Groceries': 1, 'Promotional: Promo Board Games': 1, 'Modular Board': 2, 'Components: Piecepack': 1, 'Trick-taking': 1, 'Admin: Upcoming Releases': 1, 'Theme: Witches': 1, 'Components: 7 x 7 Grids': 1, 'Creatures: Minotaurs': 1}\n"
     ]
    }
   ],
   "source": [
    "genres_list = df.genres.to_list()\n",
    "genre_count = {}\n",
    "\n",
    "for genres in genres_list:\n",
    "    genre_list = eval(genres)  # Split by comma and remove extra spaces\n",
    "    for genre in genre_list:\n",
    "        if genre in genre_count:\n",
    "            genre_count[genre] += 1\n",
    "        else:\n",
    "            genre_count[genre] = 1\n",
    "\n",
    "print(f\"Number of Genres: {len(genre_count)}\")\n",
    "print(genre_count)"
   ]
  },
  {
   "cell_type": "code",
   "execution_count": 14,
   "metadata": {
    "colab": {
     "base_uri": "https://localhost:8080/"
    },
    "executionInfo": {
     "elapsed": 670,
     "status": "ok",
     "timestamp": 1693415603235,
     "user": {
      "displayName": "Minhaj",
      "userId": "04836163569051548115"
     },
     "user_tz": -360
    },
    "id": "kkrmTwuTn6iY",
    "outputId": "1841b8a0-ff80-45eb-f2cd-6218582dea24"
   },
   "outputs": [
    {
     "data": {
      "text/plain": [
       "(89,\n",
       " ['Prehistoric',\n",
       "  'Korean War',\n",
       "  'Vietnam War',\n",
       "  'Dice Rolling',\n",
       "  'American Revolutionary War'])"
      ]
     },
     "execution_count": 14,
     "metadata": {},
     "output_type": "execute_result"
    }
   ],
   "source": [
    "threshold = int(len(df) * 0.005)\n",
    "rare_genres = [ cat for cat, count in genre_count.items() if count < threshold]\n",
    "len(rare_genres), rare_genres[:5]"
   ]
  },
  {
   "cell_type": "code",
   "execution_count": 15,
   "metadata": {
    "colab": {
     "base_uri": "https://localhost:8080/"
    },
    "executionInfo": {
     "elapsed": 664,
     "status": "ok",
     "timestamp": 1693415613120,
     "user": {
      "displayName": "Minhaj",
      "userId": "04836163569051548115"
     },
     "user_tz": -360
    },
    "id": "oZImg1Rqn6fV",
    "outputId": "2b1f00ba-8f45-44cb-c3f2-244a91b5a165"
   },
   "outputs": [
    {
     "data": {
      "text/plain": [
       "(12533, 3)"
      ]
     },
     "execution_count": 15,
     "metadata": {},
     "output_type": "execute_result"
    }
   ],
   "source": [
    "genres_list = df.genres.to_list()\n",
    "revised_genre_list = []\n",
    "indices_to_drop = []\n",
    "\n",
    "for idx, genres in enumerate(genres_list):\n",
    "  genre_list = eval(genres)\n",
    "  revised_genres = []\n",
    "\n",
    "  for genre in genre_list:\n",
    "    if genre not in rare_genres:\n",
    "      revised_genres.append(genre)\n",
    "\n",
    "  if len(revised_genres) == 0:\n",
    "    indices_to_drop.append(idx)\n",
    "  else:\n",
    "    revised_genre_list.append(revised_genres)\n",
    "\n",
    "df = df.drop(indices_to_drop).reset_index(drop=True)\n",
    "df.shape"
   ]
  },
  {
   "cell_type": "code",
   "execution_count": 16,
   "metadata": {
    "executionInfo": {
     "elapsed": 5,
     "status": "ok",
     "timestamp": 1693415617182,
     "user": {
      "displayName": "Minhaj",
      "userId": "04836163569051548115"
     },
     "user_tz": -360
    },
    "id": "A2Ef66fRn6c9"
   },
   "outputs": [],
   "source": [
    "df['revised_genres'] = revised_genre_list"
   ]
  },
  {
   "cell_type": "code",
   "execution_count": 17,
   "metadata": {
    "colab": {
     "base_uri": "https://localhost:8080/",
     "height": 404
    },
    "executionInfo": {
     "elapsed": 5,
     "status": "ok",
     "timestamp": 1693415620120,
     "user": {
      "displayName": "Minhaj",
      "userId": "04836163569051548115"
     },
     "user_tz": -360
    },
    "id": "bDPHl2j2n6aF",
    "outputId": "dabfa01b-6e73-48a7-a498-8fd737b9d93a"
   },
   "outputs": [
    {
     "data": {
      "text/html": [
       "\n",
       "  <div id=\"df-eafd98f5-bf83-4d85-a1cb-2cd1c848c9d7\" class=\"colab-df-container\">\n",
       "    <div>\n",
       "<style scoped>\n",
       "    .dataframe tbody tr th:only-of-type {\n",
       "        vertical-align: middle;\n",
       "    }\n",
       "\n",
       "    .dataframe tbody tr th {\n",
       "        vertical-align: top;\n",
       "    }\n",
       "\n",
       "    .dataframe thead th {\n",
       "        text-align: right;\n",
       "    }\n",
       "</style>\n",
       "<table border=\"1\" class=\"dataframe\">\n",
       "  <thead>\n",
       "    <tr style=\"text-align: right;\">\n",
       "      <th></th>\n",
       "      <th>title</th>\n",
       "      <th>description</th>\n",
       "      <th>genres</th>\n",
       "      <th>revised_genres</th>\n",
       "    </tr>\n",
       "  </thead>\n",
       "  <tbody>\n",
       "    <tr>\n",
       "      <th>7104</th>\n",
       "      <td>Zombie from the Hole</td>\n",
       "      <td>A negotiating game that is very simple and intuitive to play, with a novel negotiation mechanism that benefits players that are kind and friendly rather than selfish and self-centred.It reflects the interdependent world we live in, where unrestrained selfishness can bring the world crashing down around us.Children love the simplicity of the game and adults love its openendedness.The game is also ideal for practising foreign languages at all levels.Plus five more games that are played on the same board.The six games included in the pack are:- Rescue: a negotiating game, for ages 9 and up</td>\n",
       "      <td>['Comic Book / Strip', 'Humor', 'Movies / TV / Radio theme', 'Racing']</td>\n",
       "      <td>[Comic Book / Strip, Humor, Movies / TV / Radio theme, Racing]</td>\n",
       "    </tr>\n",
       "    <tr>\n",
       "      <th>9538</th>\n",
       "      <td>American Girl 300 Wishes Game</td>\n",
       "      <td>The object is to match wishes with the player who would find them most desirable.Players are dealt \"wish\" cards which describe personal accomplishments, careers or fun experiences. Each player then anonymously gives one or two wish cards (depending on # of players) to each of the other players by sliding them into their wish diaries. After wishes are passed out, each player examines the wishes they have received and ranks them from least to most desirable. Finally, everyone shares the wishes they received and how they ranked them (often good for a few laughs).Originators of the wishes scor...</td>\n",
       "      <td>['Animals', 'Educational', 'Travel']</td>\n",
       "      <td>[Animals, Educational, Travel]</td>\n",
       "    </tr>\n",
       "    <tr>\n",
       "      <th>3002</th>\n",
       "      <td>Naumachiae</td>\n",
       "      <td>Description excerpted from the Introduction to the rules:In recent years, there has been much work performed in the field of naval archeology. The launching of the reconstructed trireme Olympias has also provided a great deal of information on the performance of ancient oared warships. These rules are intended to provide a detailed, yet playable, re-enactment of ancient naval warfare based on the latest data.They are primarily intended for 1/1200 scale ship models, from small engagements to large ship actions.The time period covered by the rules represents a singularly large sweep of histo...</td>\n",
       "      <td>['Aviation / Flight', 'Transportation']</td>\n",
       "      <td>[Aviation / Flight, Transportation]</td>\n",
       "    </tr>\n",
       "  </tbody>\n",
       "</table>\n",
       "</div>\n",
       "    <div class=\"colab-df-buttons\">\n",
       "\n",
       "  <div class=\"colab-df-container\">\n",
       "    <button class=\"colab-df-convert\" onclick=\"convertToInteractive('df-eafd98f5-bf83-4d85-a1cb-2cd1c848c9d7')\"\n",
       "            title=\"Convert this dataframe to an interactive table.\"\n",
       "            style=\"display:none;\">\n",
       "\n",
       "  <svg xmlns=\"http://www.w3.org/2000/svg\" height=\"24px\" viewBox=\"0 -960 960 960\">\n",
       "    <path d=\"M120-120v-720h720v720H120Zm60-500h600v-160H180v160Zm220 220h160v-160H400v160Zm0 220h160v-160H400v160ZM180-400h160v-160H180v160Zm440 0h160v-160H620v160ZM180-180h160v-160H180v160Zm440 0h160v-160H620v160Z\"/>\n",
       "  </svg>\n",
       "    </button>\n",
       "\n",
       "  <style>\n",
       "    .colab-df-container {\n",
       "      display:flex;\n",
       "      gap: 12px;\n",
       "    }\n",
       "\n",
       "    .colab-df-convert {\n",
       "      background-color: #E8F0FE;\n",
       "      border: none;\n",
       "      border-radius: 50%;\n",
       "      cursor: pointer;\n",
       "      display: none;\n",
       "      fill: #1967D2;\n",
       "      height: 32px;\n",
       "      padding: 0 0 0 0;\n",
       "      width: 32px;\n",
       "    }\n",
       "\n",
       "    .colab-df-convert:hover {\n",
       "      background-color: #E2EBFA;\n",
       "      box-shadow: 0px 1px 2px rgba(60, 64, 67, 0.3), 0px 1px 3px 1px rgba(60, 64, 67, 0.15);\n",
       "      fill: #174EA6;\n",
       "    }\n",
       "\n",
       "    .colab-df-buttons div {\n",
       "      margin-bottom: 4px;\n",
       "    }\n",
       "\n",
       "    [theme=dark] .colab-df-convert {\n",
       "      background-color: #3B4455;\n",
       "      fill: #D2E3FC;\n",
       "    }\n",
       "\n",
       "    [theme=dark] .colab-df-convert:hover {\n",
       "      background-color: #434B5C;\n",
       "      box-shadow: 0px 1px 3px 1px rgba(0, 0, 0, 0.15);\n",
       "      filter: drop-shadow(0px 1px 2px rgba(0, 0, 0, 0.3));\n",
       "      fill: #FFFFFF;\n",
       "    }\n",
       "  </style>\n",
       "\n",
       "    <script>\n",
       "      const buttonEl =\n",
       "        document.querySelector('#df-eafd98f5-bf83-4d85-a1cb-2cd1c848c9d7 button.colab-df-convert');\n",
       "      buttonEl.style.display =\n",
       "        google.colab.kernel.accessAllowed ? 'block' : 'none';\n",
       "\n",
       "      async function convertToInteractive(key) {\n",
       "        const element = document.querySelector('#df-eafd98f5-bf83-4d85-a1cb-2cd1c848c9d7');\n",
       "        const dataTable =\n",
       "          await google.colab.kernel.invokeFunction('convertToInteractive',\n",
       "                                                    [key], {});\n",
       "        if (!dataTable) return;\n",
       "\n",
       "        const docLinkHtml = 'Like what you see? Visit the ' +\n",
       "          '<a target=\"_blank\" href=https://colab.research.google.com/notebooks/data_table.ipynb>data table notebook</a>'\n",
       "          + ' to learn more about interactive tables.';\n",
       "        element.innerHTML = '';\n",
       "        dataTable['output_type'] = 'display_data';\n",
       "        await google.colab.output.renderOutput(dataTable, element);\n",
       "        const docLink = document.createElement('div');\n",
       "        docLink.innerHTML = docLinkHtml;\n",
       "        element.appendChild(docLink);\n",
       "      }\n",
       "    </script>\n",
       "  </div>\n",
       "\n",
       "    </div>\n",
       "  </div>\n"
      ],
      "text/plain": [
       "                              title  \\\n",
       "7104           Zombie from the Hole   \n",
       "9538  American Girl 300 Wishes Game   \n",
       "3002                     Naumachiae   \n",
       "\n",
       "                                                                                                                                                                                                                                                                                                                                                                                                                                                                                                                                                                                                                  description  \\\n",
       "7104        A negotiating game that is very simple and intuitive to play, with a novel negotiation mechanism that benefits players that are kind and friendly rather than selfish and self-centred.It reflects the interdependent world we live in, where unrestrained selfishness can bring the world crashing down around us.Children love the simplicity of the game and adults love its openendedness.The game is also ideal for practising foreign languages at all levels.Plus five more games that are played on the same board.The six games included in the pack are:- Rescue: a negotiating game, for ages 9 and up   \n",
       "9538  The object is to match wishes with the player who would find them most desirable.Players are dealt \"wish\" cards which describe personal accomplishments, careers or fun experiences. Each player then anonymously gives one or two wish cards (depending on # of players) to each of the other players by sliding them into their wish diaries. After wishes are passed out, each player examines the wishes they have received and ranks them from least to most desirable. Finally, everyone shares the wishes they received and how they ranked them (often good for a few laughs).Originators of the wishes scor...   \n",
       "3002  Description excerpted from the Introduction to the rules:In recent years, there has been much work performed in the field of naval archeology. The launching of the reconstructed trireme Olympias has also provided a great deal of information on the performance of ancient oared warships. These rules are intended to provide a detailed, yet playable, re-enactment of ancient naval warfare based on the latest data.They are primarily intended for 1/1200 scale ship models, from small engagements to large ship actions.The time period covered by the rules represents a singularly large sweep of histo...   \n",
       "\n",
       "                                                                      genres  \\\n",
       "7104  ['Comic Book / Strip', 'Humor', 'Movies / TV / Radio theme', 'Racing']   \n",
       "9538                                    ['Animals', 'Educational', 'Travel']   \n",
       "3002                                 ['Aviation / Flight', 'Transportation']   \n",
       "\n",
       "                                                      revised_genres  \n",
       "7104  [Comic Book / Strip, Humor, Movies / TV / Radio theme, Racing]  \n",
       "9538                                  [Animals, Educational, Travel]  \n",
       "3002                             [Aviation / Flight, Transportation]  "
      ]
     },
     "execution_count": 17,
     "metadata": {},
     "output_type": "execute_result"
    }
   ],
   "source": [
    "df.sample(3)"
   ]
  },
  {
   "cell_type": "code",
   "execution_count": 18,
   "metadata": {
    "colab": {
     "base_uri": "https://localhost:8080/"
    },
    "executionInfo": {
     "elapsed": 707,
     "status": "ok",
     "timestamp": 1693415663266,
     "user": {
      "displayName": "Minhaj",
      "userId": "04836163569051548115"
     },
     "user_tz": -360
    },
    "id": "ZWEpG4r-n6Wt",
    "outputId": "62f33ec0-e5ee-4a19-be13-c9a5912c161f"
   },
   "outputs": [
    {
     "name": "stdout",
     "output_type": "stream",
     "text": [
      "Number of Genres: 70\n",
      "{'Abstract Strategy': 1459, 'Animals': 810, 'Wargame': 2294, 'World War II': 606, 'Dice': 1037, 'Nautical': 340, 'Expansion for Base-game': 1087, 'Science Fiction': 785, 'Adventure': 349, 'Exploration': 185, 'Movies / TV / Radio theme': 1344, 'Fighting': 519, 'Modern Warfare': 248, 'World War I': 118, 'Ancient': 245, 'Medieval': 294, 'Card Game': 1848, \"Children's Game\": 2089, 'Educational': 1220, 'Memory': 700, 'Number': 189, 'American Civil War': 128, 'Deduction': 349, 'Humor': 640, 'Puzzle': 251, 'Racing': 740, 'Word Game': 492, 'Napoleonic': 161, 'Pirates': 102, 'Fantasy': 670, 'Party Game': 909, 'Action / Dexterity': 923, 'Horror': 173, 'Economic': 730, 'Trivia': 968, 'Post-Napoleonic': 81, 'Sports': 727, 'Book': 306, 'American West': 147, 'Miniatures': 932, 'Aviation / Flight': 133, 'Bluffing': 308, 'Industry / Manufacturing': 97, 'Collectible Components': 140, 'Novel-based': 296, 'Negotiation': 453, 'Transportation': 260, 'Mature / Adult': 130, 'Music': 121, 'Political': 224, '+ 2 more': 101, 'Religious': 219, 'Environmental': 148, 'Roll / Spin and Move': 97, 'Math': 281, 'Space Exploration': 147, 'Print & Play': 503, 'Civil War': 64, 'City Building': 77, 'Age of Reason': 72, 'Trains': 144, 'Travel': 190, 'Murder/Mystery': 187, 'Farming': 84, 'Maze': 81, 'Comic Book / Strip': 224, 'Electronic': 140, 'Territory Building': 75, 'Spies/Secret Agents': 78, 'Real-time': 150}\n"
     ]
    }
   ],
   "source": [
    "revised_genres_list = df.revised_genres.to_list()\n",
    "revised_genre_count = {}\n",
    "for genres in revised_genres_list:\n",
    "  genre_list = genres\n",
    "  for genre in genre_list:\n",
    "    if genre in revised_genre_count.keys():\n",
    "      revised_genre_count[genre] += 1\n",
    "    else:\n",
    "      revised_genre_count[genre] = 1\n",
    "print(f\"Number of Genres: {len(revised_genre_count)}\")\n",
    "print(revised_genre_count)"
   ]
  },
  {
   "cell_type": "code",
   "execution_count": 19,
   "metadata": {
    "executionInfo": {
     "elapsed": 1550,
     "status": "ok",
     "timestamp": 1693415668039,
     "user": {
      "displayName": "Minhaj",
      "userId": "04836163569051548115"
     },
     "user_tz": -360
    },
    "id": "J1jR7KwYn6TG"
   },
   "outputs": [],
   "source": [
    "encode_genre_types = { key: idx for idx, (key, value) in enumerate(revised_genre_count.items())}\n",
    "with open(\"genre_types_encoded.json\", \"w\") as fp:\n",
    "  json.dump(encode_genre_types, fp)"
   ]
  },
  {
   "cell_type": "code",
   "execution_count": 20,
   "metadata": {
    "colab": {
     "base_uri": "https://localhost:8080/"
    },
    "executionInfo": {
     "elapsed": 5,
     "status": "ok",
     "timestamp": 1693415671399,
     "user": {
      "displayName": "Minhaj",
      "userId": "04836163569051548115"
     },
     "user_tz": -360
    },
    "id": "aPI4SkRKoQ6-",
    "outputId": "ec0963bc-0578-4d0f-cb96-5e7987da3f46"
   },
   "outputs": [
    {
     "data": {
      "text/plain": [
       "[0, 0, 0, 0, 1, 1, 0, 0, 0, 0, 0, 0, 0, 0, 0, 0, 0, 0, 0, 0, 0, 0, 0, 0, 0]"
      ]
     },
     "execution_count": 20,
     "metadata": {},
     "output_type": "execute_result"
    }
   ],
   "source": [
    "# We need this because for multilabel classification all genres have possibility to be present in the predictions\n",
    "categorical_genre_list = []\n",
    "revised_genres_list = df.revised_genres.to_list()\n",
    "\n",
    "for revised_genres in revised_genres_list:\n",
    "  categorical_list = [0] * len(encode_genre_types)\n",
    "  for genre in revised_genres:\n",
    "    genre_type_index = encode_genre_types[genre]\n",
    "    categorical_list[genre_type_index] = 1\n",
    "  categorical_genre_list.append(categorical_list)\n",
    "\n",
    "categorical_genre_list[3][:25]"
   ]
  },
  {
   "cell_type": "code",
   "execution_count": 21,
   "metadata": {
    "colab": {
     "base_uri": "https://localhost:8080/",
     "height": 675
    },
    "executionInfo": {
     "elapsed": 8,
     "status": "ok",
     "timestamp": 1693415674025,
     "user": {
      "displayName": "Minhaj",
      "userId": "04836163569051548115"
     },
     "user_tz": -360
    },
    "id": "CNo1rAzAoQ46",
    "outputId": "9b5fed8c-989e-44b8-c00d-ef5f80ddc6c5"
   },
   "outputs": [
    {
     "data": {
      "text/html": [
       "\n",
       "  <div id=\"df-fa176371-201c-43af-a995-544c51788ec2\" class=\"colab-df-container\">\n",
       "    <div>\n",
       "<style scoped>\n",
       "    .dataframe tbody tr th:only-of-type {\n",
       "        vertical-align: middle;\n",
       "    }\n",
       "\n",
       "    .dataframe tbody tr th {\n",
       "        vertical-align: top;\n",
       "    }\n",
       "\n",
       "    .dataframe thead th {\n",
       "        text-align: right;\n",
       "    }\n",
       "</style>\n",
       "<table border=\"1\" class=\"dataframe\">\n",
       "  <thead>\n",
       "    <tr style=\"text-align: right;\">\n",
       "      <th></th>\n",
       "      <th>title</th>\n",
       "      <th>description</th>\n",
       "      <th>genres</th>\n",
       "      <th>revised_genres</th>\n",
       "      <th>genre_cat_list</th>\n",
       "    </tr>\n",
       "  </thead>\n",
       "  <tbody>\n",
       "    <tr>\n",
       "      <th>0</th>\n",
       "      <td>Giganten</td>\n",
       "      <td>Giganten could be briefly described as \"Dinosaur Stratego.\" Each player has a set of 23 saurians (dinosaurs of various kinds, pterodactyls, pleisosaurs, etc.) which are stand-up cardboard pieces with plain backs, so the opponent cannot tell which piece is which. Pieces move and attack each other Stratego-fashion, with the goal being to find your opponent's eggs.There were two versions of the game produced. The original 1981 version came in a small box, with a larger box coming out in 1982, and had numbers on the pieces to indicate their strength on land and in water (air being a special ca...</td>\n",
       "      <td>['Abstract Strategy', 'Animals', 'Prehistoric']</td>\n",
       "      <td>[Abstract Strategy, Animals]</td>\n",
       "      <td>[1, 1, 0, 0, 0, 0, 0, 0, 0, 0, 0, 0, 0, 0, 0, 0, 0, 0, 0, 0, 0, 0, 0, 0, 0, 0, 0, 0, 0, 0, 0, 0, 0, 0, 0, 0, 0, 0, 0, 0, 0, 0, 0, 0, 0, 0, 0, 0, 0, 0, 0, 0, 0, 0, 0, 0, 0, 0, 0, 0, 0, 0, 0, 0, 0, 0, 0, 0, 0, 0]</td>\n",
       "    </tr>\n",
       "    <tr>\n",
       "      <th>1</th>\n",
       "      <td>Rommel at the Meuse</td>\n",
       "      <td>(from Simulations Workshop website:)The German offensive against France was decided by the swift advance of the Panzer columns through the Ardennes forest and a quick crossing of the Meuse River. One of the leading divisions was the 7th Panzer lead by Erwin Rommel.One 11 by 16 inch color map, 186 color counters, rules, organizational charts, and tables. Units are battalions and companies, each map hex represents 1.5 kilometers, and turns represent 4 hours.Simple combat system, with rules covering river crossings, combined arms, refugees, and Rommel. The French have several tough formations...</td>\n",
       "      <td>['Wargame', 'World War II']</td>\n",
       "      <td>[Wargame, World War II]</td>\n",
       "      <td>[0, 0, 1, 1, 0, 0, 0, 0, 0, 0, 0, 0, 0, 0, 0, 0, 0, 0, 0, 0, 0, 0, 0, 0, 0, 0, 0, 0, 0, 0, 0, 0, 0, 0, 0, 0, 0, 0, 0, 0, 0, 0, 0, 0, 0, 0, 0, 0, 0, 0, 0, 0, 0, 0, 0, 0, 0, 0, 0, 0, 0, 0, 0, 0, 0, 0, 0, 0, 0, 0]</td>\n",
       "    </tr>\n",
       "    <tr>\n",
       "      <th>2</th>\n",
       "      <td>Schwarz-Rot-Gold</td>\n",
       "      <td>The game is played on a 3x4 grid with pieces in three colors (black, red, and gold, natch). Each player has 6 pieces in each color and places one per turn. The object is to create lines of 3 pieces in the title sequence (black-red-gold). The lines can be created orthogonally, diagonally, or vertically, since the pieces stack up to 3 high. Creating a line allows you to take a piece from your opponent, and whoever runs out of pieces first loses.</td>\n",
       "      <td>['Abstract Strategy']</td>\n",
       "      <td>[Abstract Strategy]</td>\n",
       "      <td>[1, 0, 0, 0, 0, 0, 0, 0, 0, 0, 0, 0, 0, 0, 0, 0, 0, 0, 0, 0, 0, 0, 0, 0, 0, 0, 0, 0, 0, 0, 0, 0, 0, 0, 0, 0, 0, 0, 0, 0, 0, 0, 0, 0, 0, 0, 0, 0, 0, 0, 0, 0, 0, 0, 0, 0, 0, 0, 0, 0, 0, 0, 0, 0, 0, 0, 0, 0, 0, 0]</td>\n",
       "    </tr>\n",
       "    <tr>\n",
       "      <th>3</th>\n",
       "      <td>Sculley</td>\n",
       "      <td>This is a very simple game consisting of a board that is left in the inner box and dice that are thrown on the board. Points are scored according to where on the board the dice land. Luck is the biggest part but some skill can be developed in how the dice are thrown.This great for a short two player game.</td>\n",
       "      <td>['Dice', 'Nautical']</td>\n",
       "      <td>[Dice, Nautical]</td>\n",
       "      <td>[0, 0, 0, 0, 1, 1, 0, 0, 0, 0, 0, 0, 0, 0, 0, 0, 0, 0, 0, 0, 0, 0, 0, 0, 0, 0, 0, 0, 0, 0, 0, 0, 0, 0, 0, 0, 0, 0, 0, 0, 0, 0, 0, 0, 0, 0, 0, 0, 0, 0, 0, 0, 0, 0, 0, 0, 0, 0, 0, 0, 0, 0, 0, 0, 0, 0, 0, 0, 0, 0]</td>\n",
       "    </tr>\n",
       "    <tr>\n",
       "      <th>4</th>\n",
       "      <td>The Warriors of the Green Planet Trilogy of Games, Additional Rules</td>\n",
       "      <td>A set of additional rules for combining War of the Sky Galleons and Mind War with Warriors of the Green Planet.</td>\n",
       "      <td>['Expansion for Base-game', 'Science Fiction', 'Wargame']</td>\n",
       "      <td>[Expansion for Base-game, Science Fiction, Wargame]</td>\n",
       "      <td>[0, 0, 1, 0, 0, 0, 1, 1, 0, 0, 0, 0, 0, 0, 0, 0, 0, 0, 0, 0, 0, 0, 0, 0, 0, 0, 0, 0, 0, 0, 0, 0, 0, 0, 0, 0, 0, 0, 0, 0, 0, 0, 0, 0, 0, 0, 0, 0, 0, 0, 0, 0, 0, 0, 0, 0, 0, 0, 0, 0, 0, 0, 0, 0, 0, 0, 0, 0, 0, 0]</td>\n",
       "    </tr>\n",
       "  </tbody>\n",
       "</table>\n",
       "</div>\n",
       "    <div class=\"colab-df-buttons\">\n",
       "\n",
       "  <div class=\"colab-df-container\">\n",
       "    <button class=\"colab-df-convert\" onclick=\"convertToInteractive('df-fa176371-201c-43af-a995-544c51788ec2')\"\n",
       "            title=\"Convert this dataframe to an interactive table.\"\n",
       "            style=\"display:none;\">\n",
       "\n",
       "  <svg xmlns=\"http://www.w3.org/2000/svg\" height=\"24px\" viewBox=\"0 -960 960 960\">\n",
       "    <path d=\"M120-120v-720h720v720H120Zm60-500h600v-160H180v160Zm220 220h160v-160H400v160Zm0 220h160v-160H400v160ZM180-400h160v-160H180v160Zm440 0h160v-160H620v160ZM180-180h160v-160H180v160Zm440 0h160v-160H620v160Z\"/>\n",
       "  </svg>\n",
       "    </button>\n",
       "\n",
       "  <style>\n",
       "    .colab-df-container {\n",
       "      display:flex;\n",
       "      gap: 12px;\n",
       "    }\n",
       "\n",
       "    .colab-df-convert {\n",
       "      background-color: #E8F0FE;\n",
       "      border: none;\n",
       "      border-radius: 50%;\n",
       "      cursor: pointer;\n",
       "      display: none;\n",
       "      fill: #1967D2;\n",
       "      height: 32px;\n",
       "      padding: 0 0 0 0;\n",
       "      width: 32px;\n",
       "    }\n",
       "\n",
       "    .colab-df-convert:hover {\n",
       "      background-color: #E2EBFA;\n",
       "      box-shadow: 0px 1px 2px rgba(60, 64, 67, 0.3), 0px 1px 3px 1px rgba(60, 64, 67, 0.15);\n",
       "      fill: #174EA6;\n",
       "    }\n",
       "\n",
       "    .colab-df-buttons div {\n",
       "      margin-bottom: 4px;\n",
       "    }\n",
       "\n",
       "    [theme=dark] .colab-df-convert {\n",
       "      background-color: #3B4455;\n",
       "      fill: #D2E3FC;\n",
       "    }\n",
       "\n",
       "    [theme=dark] .colab-df-convert:hover {\n",
       "      background-color: #434B5C;\n",
       "      box-shadow: 0px 1px 3px 1px rgba(0, 0, 0, 0.15);\n",
       "      filter: drop-shadow(0px 1px 2px rgba(0, 0, 0, 0.3));\n",
       "      fill: #FFFFFF;\n",
       "    }\n",
       "  </style>\n",
       "\n",
       "    <script>\n",
       "      const buttonEl =\n",
       "        document.querySelector('#df-fa176371-201c-43af-a995-544c51788ec2 button.colab-df-convert');\n",
       "      buttonEl.style.display =\n",
       "        google.colab.kernel.accessAllowed ? 'block' : 'none';\n",
       "\n",
       "      async function convertToInteractive(key) {\n",
       "        const element = document.querySelector('#df-fa176371-201c-43af-a995-544c51788ec2');\n",
       "        const dataTable =\n",
       "          await google.colab.kernel.invokeFunction('convertToInteractive',\n",
       "                                                    [key], {});\n",
       "        if (!dataTable) return;\n",
       "\n",
       "        const docLinkHtml = 'Like what you see? Visit the ' +\n",
       "          '<a target=\"_blank\" href=https://colab.research.google.com/notebooks/data_table.ipynb>data table notebook</a>'\n",
       "          + ' to learn more about interactive tables.';\n",
       "        element.innerHTML = '';\n",
       "        dataTable['output_type'] = 'display_data';\n",
       "        await google.colab.output.renderOutput(dataTable, element);\n",
       "        const docLink = document.createElement('div');\n",
       "        docLink.innerHTML = docLinkHtml;\n",
       "        element.appendChild(docLink);\n",
       "      }\n",
       "    </script>\n",
       "  </div>\n",
       "\n",
       "\n",
       "<div id=\"df-0cdd33be-6064-4f75-92f1-18a3710c1fe9\">\n",
       "  <button class=\"colab-df-quickchart\" onclick=\"quickchart('df-0cdd33be-6064-4f75-92f1-18a3710c1fe9')\"\n",
       "            title=\"Suggest charts.\"\n",
       "            style=\"display:none;\">\n",
       "\n",
       "<svg xmlns=\"http://www.w3.org/2000/svg\" height=\"24px\"viewBox=\"0 0 24 24\"\n",
       "     width=\"24px\">\n",
       "    <g>\n",
       "        <path d=\"M19 3H5c-1.1 0-2 .9-2 2v14c0 1.1.9 2 2 2h14c1.1 0 2-.9 2-2V5c0-1.1-.9-2-2-2zM9 17H7v-7h2v7zm4 0h-2V7h2v10zm4 0h-2v-4h2v4z\"/>\n",
       "    </g>\n",
       "</svg>\n",
       "  </button>\n",
       "\n",
       "<style>\n",
       "  .colab-df-quickchart {\n",
       "    background-color: #E8F0FE;\n",
       "    border: none;\n",
       "    border-radius: 50%;\n",
       "    cursor: pointer;\n",
       "    display: none;\n",
       "    fill: #1967D2;\n",
       "    height: 32px;\n",
       "    padding: 0 0 0 0;\n",
       "    width: 32px;\n",
       "  }\n",
       "\n",
       "  .colab-df-quickchart:hover {\n",
       "    background-color: #E2EBFA;\n",
       "    box-shadow: 0px 1px 2px rgba(60, 64, 67, 0.3), 0px 1px 3px 1px rgba(60, 64, 67, 0.15);\n",
       "    fill: #174EA6;\n",
       "  }\n",
       "\n",
       "  [theme=dark] .colab-df-quickchart {\n",
       "    background-color: #3B4455;\n",
       "    fill: #D2E3FC;\n",
       "  }\n",
       "\n",
       "  [theme=dark] .colab-df-quickchart:hover {\n",
       "    background-color: #434B5C;\n",
       "    box-shadow: 0px 1px 3px 1px rgba(0, 0, 0, 0.15);\n",
       "    filter: drop-shadow(0px 1px 2px rgba(0, 0, 0, 0.3));\n",
       "    fill: #FFFFFF;\n",
       "  }\n",
       "</style>\n",
       "\n",
       "  <script>\n",
       "    async function quickchart(key) {\n",
       "      const charts = await google.colab.kernel.invokeFunction(\n",
       "          'suggestCharts', [key], {});\n",
       "    }\n",
       "    (() => {\n",
       "      let quickchartButtonEl =\n",
       "        document.querySelector('#df-0cdd33be-6064-4f75-92f1-18a3710c1fe9 button');\n",
       "      quickchartButtonEl.style.display =\n",
       "        google.colab.kernel.accessAllowed ? 'block' : 'none';\n",
       "    })();\n",
       "  </script>\n",
       "</div>\n",
       "    </div>\n",
       "  </div>\n"
      ],
      "text/plain": [
       "                                                                 title  \\\n",
       "0                                                             Giganten   \n",
       "1                                                  Rommel at the Meuse   \n",
       "2                                                     Schwarz-Rot-Gold   \n",
       "3                                                              Sculley   \n",
       "4  The Warriors of the Green Planet Trilogy of Games, Additional Rules   \n",
       "\n",
       "                                                                                                                                                                                                                                                                                                                                                                                                                                                                                                                                                                                                               description  \\\n",
       "0  Giganten could be briefly described as \"Dinosaur Stratego.\" Each player has a set of 23 saurians (dinosaurs of various kinds, pterodactyls, pleisosaurs, etc.) which are stand-up cardboard pieces with plain backs, so the opponent cannot tell which piece is which. Pieces move and attack each other Stratego-fashion, with the goal being to find your opponent's eggs.There were two versions of the game produced. The original 1981 version came in a small box, with a larger box coming out in 1982, and had numbers on the pieces to indicate their strength on land and in water (air being a special ca...   \n",
       "1  (from Simulations Workshop website:)The German offensive against France was decided by the swift advance of the Panzer columns through the Ardennes forest and a quick crossing of the Meuse River. One of the leading divisions was the 7th Panzer lead by Erwin Rommel.One 11 by 16 inch color map, 186 color counters, rules, organizational charts, and tables. Units are battalions and companies, each map hex represents 1.5 kilometers, and turns represent 4 hours.Simple combat system, with rules covering river crossings, combined arms, refugees, and Rommel. The French have several tough formations...   \n",
       "2                                                                                                                                                          The game is played on a 3x4 grid with pieces in three colors (black, red, and gold, natch). Each player has 6 pieces in each color and places one per turn. The object is to create lines of 3 pieces in the title sequence (black-red-gold). The lines can be created orthogonally, diagonally, or vertically, since the pieces stack up to 3 high. Creating a line allows you to take a piece from your opponent, and whoever runs out of pieces first loses.   \n",
       "3                                                                                                                                                                                                                                                                                                       This is a very simple game consisting of a board that is left in the inner box and dice that are thrown on the board. Points are scored according to where on the board the dice land. Luck is the biggest part but some skill can be developed in how the dice are thrown.This great for a short two player game.   \n",
       "4                                                                                                                                                                                                                                                                                                                                                                                                                                                                                                          A set of additional rules for combining War of the Sky Galleons and Mind War with Warriors of the Green Planet.   \n",
       "\n",
       "                                                      genres  \\\n",
       "0            ['Abstract Strategy', 'Animals', 'Prehistoric']   \n",
       "1                                ['Wargame', 'World War II']   \n",
       "2                                      ['Abstract Strategy']   \n",
       "3                                       ['Dice', 'Nautical']   \n",
       "4  ['Expansion for Base-game', 'Science Fiction', 'Wargame']   \n",
       "\n",
       "                                        revised_genres  \\\n",
       "0                         [Abstract Strategy, Animals]   \n",
       "1                              [Wargame, World War II]   \n",
       "2                                  [Abstract Strategy]   \n",
       "3                                     [Dice, Nautical]   \n",
       "4  [Expansion for Base-game, Science Fiction, Wargame]   \n",
       "\n",
       "                                                                                                                                                                                                       genre_cat_list  \n",
       "0  [1, 1, 0, 0, 0, 0, 0, 0, 0, 0, 0, 0, 0, 0, 0, 0, 0, 0, 0, 0, 0, 0, 0, 0, 0, 0, 0, 0, 0, 0, 0, 0, 0, 0, 0, 0, 0, 0, 0, 0, 0, 0, 0, 0, 0, 0, 0, 0, 0, 0, 0, 0, 0, 0, 0, 0, 0, 0, 0, 0, 0, 0, 0, 0, 0, 0, 0, 0, 0, 0]  \n",
       "1  [0, 0, 1, 1, 0, 0, 0, 0, 0, 0, 0, 0, 0, 0, 0, 0, 0, 0, 0, 0, 0, 0, 0, 0, 0, 0, 0, 0, 0, 0, 0, 0, 0, 0, 0, 0, 0, 0, 0, 0, 0, 0, 0, 0, 0, 0, 0, 0, 0, 0, 0, 0, 0, 0, 0, 0, 0, 0, 0, 0, 0, 0, 0, 0, 0, 0, 0, 0, 0, 0]  \n",
       "2  [1, 0, 0, 0, 0, 0, 0, 0, 0, 0, 0, 0, 0, 0, 0, 0, 0, 0, 0, 0, 0, 0, 0, 0, 0, 0, 0, 0, 0, 0, 0, 0, 0, 0, 0, 0, 0, 0, 0, 0, 0, 0, 0, 0, 0, 0, 0, 0, 0, 0, 0, 0, 0, 0, 0, 0, 0, 0, 0, 0, 0, 0, 0, 0, 0, 0, 0, 0, 0, 0]  \n",
       "3  [0, 0, 0, 0, 1, 1, 0, 0, 0, 0, 0, 0, 0, 0, 0, 0, 0, 0, 0, 0, 0, 0, 0, 0, 0, 0, 0, 0, 0, 0, 0, 0, 0, 0, 0, 0, 0, 0, 0, 0, 0, 0, 0, 0, 0, 0, 0, 0, 0, 0, 0, 0, 0, 0, 0, 0, 0, 0, 0, 0, 0, 0, 0, 0, 0, 0, 0, 0, 0, 0]  \n",
       "4  [0, 0, 1, 0, 0, 0, 1, 1, 0, 0, 0, 0, 0, 0, 0, 0, 0, 0, 0, 0, 0, 0, 0, 0, 0, 0, 0, 0, 0, 0, 0, 0, 0, 0, 0, 0, 0, 0, 0, 0, 0, 0, 0, 0, 0, 0, 0, 0, 0, 0, 0, 0, 0, 0, 0, 0, 0, 0, 0, 0, 0, 0, 0, 0, 0, 0, 0, 0, 0, 0]  "
      ]
     },
     "execution_count": 21,
     "metadata": {},
     "output_type": "execute_result"
    }
   ],
   "source": [
    "df['genre_cat_list'] = categorical_genre_list\n",
    "df.head()"
   ]
  },
  {
   "cell_type": "markdown",
   "metadata": {
    "id": "4LSDVWrIoi7_"
   },
   "source": [
    "## Dataloaders and Modeling"
   ]
  },
  {
   "cell_type": "code",
   "execution_count": 22,
   "metadata": {
    "executionInfo": {
     "elapsed": 1259,
     "status": "ok",
     "timestamp": 1693415683757,
     "user": {
      "displayName": "Minhaj",
      "userId": "04836163569051548115"
     },
     "user_tz": -360
    },
    "id": "immEy3FZoQ2G"
   },
   "outputs": [],
   "source": [
    "labels = list(encode_genre_types.keys())"
   ]
  },
  {
   "cell_type": "code",
   "execution_count": 23,
   "metadata": {
    "colab": {
     "base_uri": "https://localhost:8080/",
     "height": 177,
     "referenced_widgets": [
      "08570c6fb9104f9bbd56ddcc9b85db15",
      "5878013c2fbc439a8092dd297d0e8432",
      "3bcdbafec3e641bfa33f6ea217c39b5b",
      "c1c3c30e5e354563b80a416d5c8b7bf6",
      "cf576f09f1ae4b3aaf20b77042b13986",
      "1bc565b0584e40c88a1a4d30b536e190",
      "3e0f1923bbc4468fafdac2b34c162760",
      "9e0ec2347f454f3189018ecce717317c",
      "18fe375360e54b099a7b3db2010cf3c2",
      "f08cc76ef96647a98d000280d95c4e97",
      "7581b7142d294ec9bb2e669cff971597",
      "90e1edf417064980adfdb14855cdbe11",
      "719449b18ef84c669830c15ae66f1d18",
      "d081318bf59d48afb62d70b06e614f22",
      "224c9458d2244c92886ebea3067d5956",
      "858a631126794ae9a9b2b1ab68ea1e02",
      "b9335c27930a492f9c2f8f9e1f4bdd5e",
      "71a6490b6471400a86225a99259e6b2a",
      "0da907e4ac0c4cf58e3cdbba4e172ae9",
      "2453172ea82c4d06ba2f99eb0eabfee9",
      "e7f0839150cb42668ba75af7ec2e1312",
      "d9b7dbd51b624ed6a32b69676801a705",
      "c05e18ef0e7a47f3865f08cffaf3fbce",
      "29aff973d2f4455f82a285345610500f",
      "a15cb513851f4b139a5775008339d987",
      "1ed9427811c94b33872a71e0cc141465",
      "c12aa7be572d45e383535a2a128f2bfc",
      "c566829baca54c88948d86a53453cdc5",
      "3931386f859b4525a5b0ff97029c8d46",
      "5284988df24d494e8ec7e91d65cb11d0",
      "d330b5f4343548baa77c8e680047774b",
      "41ed66943c7c45c3a544f5ad75c022b5",
      "abc8b67028e14da3b3068c05098bb01f",
      "6fe5792d20494ab0bc956af576c402df",
      "275d2a689dbf47c4a8b9dde5045bd23b",
      "c70e1dc0991846d59b9ea7f3d0430888",
      "915d7d3218254c2897a9cc93fe6776ee",
      "ef7dd1bef7e44083a76dd71b51076901",
      "6eaa2202d0fa42eca716e2556396d653",
      "1cc38fdf8052479282e2a10ae087f33b",
      "201667373e794dbf9ee0f622be567258",
      "37f5392ad9ce4bcfa3cf393c530ca6ed",
      "27230fcf82a14cbe957d641048ef1c05",
      "f3fc8d0c58594b69a0da670b33acab4c",
      "e38b6b988c4d439185adc995637b3bbf",
      "e33f459e0a0c43e18bcc161a0ffdd9b5",
      "48773e06e7534f5083e6104fbf838f4f",
      "3dc60a7be65e46e7bfefda60fc7de7d9",
      "c3afbce15c694ee991a62290ee201532",
      "44eddb855f8a436a81de391ceb50b864",
      "5ae3360c84884aba86ec94c8d1f16451",
      "ac84874655a44ede97c611ea86f83278",
      "000ea596a08c4b1c89d7d90f0c5fd731",
      "8ed76f3791334ba6bed6260f7451b52d",
      "e822faff4d004573ae88407b2c726b58"
     ]
    },
    "executionInfo": {
     "elapsed": 8648,
     "status": "ok",
     "timestamp": 1693415714870,
     "user": {
      "displayName": "Minhaj",
      "userId": "04836163569051548115"
     },
     "user_tz": -360
    },
    "id": "iTZ834jfoQzO",
    "outputId": "213bc16c-fecc-480f-e668-79d9e50fb5b4"
   },
   "outputs": [
    {
     "data": {
      "application/vnd.jupyter.widget-view+json": {
       "model_id": "08570c6fb9104f9bbd56ddcc9b85db15",
       "version_major": 2,
       "version_minor": 0
      },
      "text/plain": [
       "Downloading (…)lve/main/config.json:   0%|          | 0.00/480 [00:00<?, ?B/s]"
      ]
     },
     "metadata": {},
     "output_type": "display_data"
    },
    {
     "data": {
      "application/vnd.jupyter.widget-view+json": {
       "model_id": "90e1edf417064980adfdb14855cdbe11",
       "version_major": 2,
       "version_minor": 0
      },
      "text/plain": [
       "Downloading (…)olve/main/vocab.json:   0%|          | 0.00/899k [00:00<?, ?B/s]"
      ]
     },
     "metadata": {},
     "output_type": "display_data"
    },
    {
     "data": {
      "application/vnd.jupyter.widget-view+json": {
       "model_id": "c05e18ef0e7a47f3865f08cffaf3fbce",
       "version_major": 2,
       "version_minor": 0
      },
      "text/plain": [
       "Downloading (…)olve/main/merges.txt:   0%|          | 0.00/456k [00:00<?, ?B/s]"
      ]
     },
     "metadata": {},
     "output_type": "display_data"
    },
    {
     "data": {
      "application/vnd.jupyter.widget-view+json": {
       "model_id": "6fe5792d20494ab0bc956af576c402df",
       "version_major": 2,
       "version_minor": 0
      },
      "text/plain": [
       "Downloading (…)/main/tokenizer.json:   0%|          | 0.00/1.36M [00:00<?, ?B/s]"
      ]
     },
     "metadata": {},
     "output_type": "display_data"
    },
    {
     "data": {
      "application/vnd.jupyter.widget-view+json": {
       "model_id": "e38b6b988c4d439185adc995637b3bbf",
       "version_major": 2,
       "version_minor": 0
      },
      "text/plain": [
       "Downloading model.safetensors:   0%|          | 0.00/331M [00:00<?, ?B/s]"
      ]
     },
     "metadata": {},
     "output_type": "display_data"
    }
   ],
   "source": [
    "model_name = \"distilroberta-base\"\n",
    "model_cls = AutoModelForSequenceClassification\n",
    "config = AutoConfig.from_pretrained(model_name)\n",
    "config.num_labels = len(labels)\n",
    "\n",
    "hf_arch, hf_config, hf_tokenizer, hf_model = get_hf_objects(model_name, model_cls=model_cls, config=config)\n",
    "hf_model.config.problem_type = \"multi_label_classification\""
   ]
  },
  {
   "cell_type": "code",
   "execution_count": 24,
   "metadata": {
    "executionInfo": {
     "elapsed": 724,
     "status": "ok",
     "timestamp": 1693415718161,
     "user": {
      "displayName": "Minhaj",
      "userId": "04836163569051548115"
     },
     "user_tz": -360
    },
    "id": "TjG0lMrxoQwO"
   },
   "outputs": [],
   "source": [
    "blocks = (TextBlock(hf_arch, hf_config, hf_tokenizer, hf_model), MultiCategoryBlock(encoded=True,vocab=labels))\n",
    "dblock = DataBlock(blocks=blocks, get_x=ColReader('description'), get_y=ColReader('genre_cat_list'), splitter=RandomSplitter(valid_pct=0.1, seed=42))"
   ]
  },
  {
   "cell_type": "code",
   "execution_count": 25,
   "metadata": {
    "executionInfo": {
     "elapsed": 32114,
     "status": "ok",
     "timestamp": 1693415752988,
     "user": {
      "displayName": "Minhaj",
      "userId": "04836163569051548115"
     },
     "user_tz": -360
    },
    "id": "D6MTD7RnoQuG"
   },
   "outputs": [],
   "source": [
    "dls = dblock.dataloaders(df, bs=16)\n",
    "torch.save(dls, \"dataloaders/dls-game-classifier.pkl\")"
   ]
  },
  {
   "cell_type": "code",
   "execution_count": null,
   "metadata": {
    "id": "nE4ZmocsoQru"
   },
   "outputs": [],
   "source": [
    "# dls = torch.load(\"dataloaders/dls-multilabel-game-classifier.pkl\")"
   ]
  },
  {
   "cell_type": "code",
   "execution_count": 26,
   "metadata": {
    "colab": {
     "base_uri": "https://localhost:8080/"
    },
    "executionInfo": {
     "elapsed": 680,
     "status": "ok",
     "timestamp": 1693415756512,
     "user": {
      "displayName": "Minhaj",
      "userId": "04836163569051548115"
     },
     "user_tz": -360
    },
    "id": "qocwijo8oQpX",
    "outputId": "bf4a9653-703b-43ca-e297-e16a9ccb9a14"
   },
   "outputs": [
    {
     "data": {
      "text/plain": [
       "['Abstract Strategy', 'Animals', 'Wargame', 'World War II', 'Dice', 'Nautical', 'Expansion for Base-game', 'Science Fiction', 'Adventure', 'Exploration', 'Movies / TV / Radio theme', 'Fighting', 'Modern Warfare', 'World War I', 'Ancient', 'Medieval', 'Card Game', \"Children's Game\", 'Educational', 'Memory', 'Number', 'American Civil War', 'Deduction', 'Humor', 'Puzzle', 'Racing', 'Word Game', 'Napoleonic', 'Pirates', 'Fantasy', 'Party Game', 'Action / Dexterity', 'Horror', 'Economic', 'Trivia', 'Post-Napoleonic', 'Sports', 'Book', 'American West', 'Miniatures', 'Aviation / Flight', 'Bluffing', 'Industry / Manufacturing', 'Collectible Components', 'Novel-based', 'Negotiation', 'Transportation', 'Mature / Adult', 'Music', 'Political', '+ 2 more', 'Religious', 'Environmental', 'Roll / Spin and Move', 'Math', 'Space Exploration', 'Print & Play', 'Civil War', 'City Building', 'Age of Reason', 'Trains', 'Travel', 'Murder/Mystery', 'Farming', 'Maze', 'Comic Book / Strip', 'Electronic', 'Territory Building', 'Spies/Secret Agents', 'Real-time']"
      ]
     },
     "execution_count": 26,
     "metadata": {},
     "output_type": "execute_result"
    }
   ],
   "source": [
    "dls.vocab"
   ]
  },
  {
   "cell_type": "code",
   "execution_count": 27,
   "metadata": {
    "colab": {
     "base_uri": "https://localhost:8080/",
     "height": 383
    },
    "executionInfo": {
     "elapsed": 1056,
     "status": "ok",
     "timestamp": 1693415761227,
     "user": {
      "displayName": "Minhaj",
      "userId": "04836163569051548115"
     },
     "user_tz": -360
    },
    "id": "z9MLjxeeoQmv",
    "outputId": "e84a76b0-355d-40c8-9afb-d9f5941084f0"
   },
   "outputs": [
    {
     "data": {
      "text/html": [
       "<table border=\"1\" class=\"dataframe\">\n",
       "  <thead>\n",
       "    <tr style=\"text-align: right;\">\n",
       "      <th></th>\n",
       "      <th>text</th>\n",
       "      <th>target</th>\n",
       "    </tr>\n",
       "  </thead>\n",
       "  <tbody>\n",
       "    <tr>\n",
       "      <th>0</th>\n",
       "      <td>\"Being the most agreeable &amp; rational recreation ever invented for youth of both sexes.\"A roll-and-move racing game with 84 space illustrating different stages of a man's life, broken down into 12 ages - boyhood, youth, young man, the prime of life, the sedate man, the old man, and decrepitude. The players race to reach the ending space, depicting The Immortal Man.RULES OF THE GAME (engraved in the centre of the playing surface)The Immortal Man, who has existed 84 years, seems worthy of his Talents and Meri</td>\n",
       "      <td>[Educational, Religious]</td>\n",
       "    </tr>\n",
       "    <tr>\n",
       "      <th>1</th>\n",
       "      <td>From the Introduction:\"The Energy Crisis Game is an instructive introduction to the complexities of energy management. Get involved in the challenge of planning our nation's energy reserves\".The Game Equipment consists of the following: a mounted Gameboard; a tri-folded Rules sheet; 1-(6)-sided DIE; 60-Ration Cards; 1-Coupon Disbursement Packet; 6-Various COLOR Ration Coupon Cards; 20-Barter Certificates; &amp; $2,140 in various denominations ($10s,$50s,&amp;$100s).The OBJECT of the Game is to Collect(through buyi</td>\n",
       "      <td>[Children's Game, Novel-based, Murder/Mystery]</td>\n",
       "    </tr>\n",
       "    <tr>\n",
       "      <th>2</th>\n",
       "      <td>This game was released at the same time of the movie \"Bibi Blocksberg und das Geheimnis der blauen Eulen!\" (translated as Bibi Blocksberg and the Secret of the Blue Owls!) in Germany. The movie (with the title character Bibi, who is a young witch) is based on a decades-old, long-running radio play and animated series but was also inspired by the success of the Harry Potter movies.It's a roll and move game for juniors with four quests to complete. Roll and move effect is mitigated in a number of ways - play</td>\n",
       "      <td>[Wargame, Medieval]</td>\n",
       "    </tr>\n",
       "    <tr>\n",
       "      <th>3</th>\n",
       "      <td>This is a Booklet with around 86 pages(some are for taking notes), that details *NEW* Weaponry for use by itself, or with *Battle-Tech*(TM-FASA), and associated games along that line. A 'disclaimer' is denoted, wherein the publishers attempted to gain permission from FASA to associate the Booklet with *B-T*, but they(FASA) declined to 'Team up' with them on this. Apparently, they(the publisher of this, et al) wished to gain some 'authenticity' from FASA, to allow others to be able to use these 'Rules' in a</td>\n",
       "      <td>[Action / Dexterity, Real-time]</td>\n",
       "    </tr>\n",
       "  </tbody>\n",
       "</table>"
      ],
      "text/plain": [
       "<IPython.core.display.HTML object>"
      ]
     },
     "metadata": {},
     "output_type": "display_data"
    }
   ],
   "source": [
    "dls.show_batch(dataloaders=dls, max_n=4, trunc_at=512)"
   ]
  },
  {
   "cell_type": "code",
   "execution_count": 28,
   "metadata": {
    "executionInfo": {
     "elapsed": 923,
     "status": "ok",
     "timestamp": 1693415767383,
     "user": {
      "displayName": "Minhaj",
      "userId": "04836163569051548115"
     },
     "user_tz": -360
    },
    "id": "_OyED140oQj-"
   },
   "outputs": [],
   "source": [
    "model = BaseModelWrapper(hf_model)\n",
    "\n",
    "acc_02 = partial(accuracy_multi, thresh=0.2)\n",
    "\n",
    "learner = Learner(dls,\n",
    "                  model,\n",
    "                  opt_func=partial(OptimWrapper, opt=torch.optim.AdamW),\n",
    "                  loss_func=BCEWithLogitsLossFlat(),\n",
    "                  metrics=[acc_02],\n",
    "                  cbs=[BaseModelCallback],\n",
    "                  splitter=blurr_splitter\n",
    "                  ).to_fp16()"
   ]
  },
  {
   "cell_type": "markdown",
   "metadata": {
    "id": "SVo9KUe7pMX2"
   },
   "source": [
    "### Stage - 0"
   ]
  },
  {
   "cell_type": "code",
   "execution_count": 29,
   "metadata": {
    "executionInfo": {
     "elapsed": 832,
     "status": "ok",
     "timestamp": 1693415772515,
     "user": {
      "displayName": "Minhaj",
      "userId": "04836163569051548115"
     },
     "user_tz": -360
    },
    "id": "OfAWfKCwoQg-"
   },
   "outputs": [],
   "source": [
    "learner.freeze()"
   ]
  },
  {
   "cell_type": "code",
   "execution_count": 30,
   "metadata": {
    "colab": {
     "base_uri": "https://localhost:8080/",
     "height": 471
    },
    "executionInfo": {
     "elapsed": 14927,
     "status": "ok",
     "timestamp": 1693415795031,
     "user": {
      "displayName": "Minhaj",
      "userId": "04836163569051548115"
     },
     "user_tz": -360
    },
    "id": "Hx4L7LrlpIq8",
    "outputId": "e05ce665-5371-4589-c631-0d2359128c78"
   },
   "outputs": [
    {
     "data": {
      "text/html": [
       "\n",
       "<style>\n",
       "    /* Turns off some styling */\n",
       "    progress {\n",
       "        /* gets rid of default border in Firefox and Opera. */\n",
       "        border: none;\n",
       "        /* Needs to be in here for Safari polyfill so background images work as expected. */\n",
       "        background-size: auto;\n",
       "    }\n",
       "    progress:not([value]), progress:not([value])::-webkit-progress-bar {\n",
       "        background: repeating-linear-gradient(45deg, #7e7e7e, #7e7e7e 10px, #5c5c5c 10px, #5c5c5c 20px);\n",
       "    }\n",
       "    .progress-bar-interrupted, .progress-bar-interrupted::-webkit-progress-bar {\n",
       "        background: #F44336;\n",
       "    }\n",
       "</style>\n"
      ],
      "text/plain": [
       "<IPython.core.display.HTML object>"
      ]
     },
     "metadata": {},
     "output_type": "display_data"
    },
    {
     "data": {
      "text/html": [],
      "text/plain": [
       "<IPython.core.display.HTML object>"
      ]
     },
     "metadata": {},
     "output_type": "display_data"
    },
    {
     "data": {
      "text/plain": [
       "SuggestedLRs(slide=0.0008317637839354575, valley=0.0003311311302240938)"
      ]
     },
     "execution_count": 30,
     "metadata": {},
     "output_type": "execute_result"
    },
    {
     "data": {
      "image/png": "[encoded data removed]",
      "text/plain": [
       "<Figure size 640x480 with 1 Axes>"
      ]
     },
     "metadata": {},
     "output_type": "display_data"
    }
   ],
   "source": [
    "learner.lr_find(suggest_funcs=[slide, valley])"
   ]
  },
  {
   "cell_type": "code",
   "execution_count": 31,
   "metadata": {
    "colab": {
     "base_uri": "https://localhost:8080/",
     "height": 112
    },
    "executionInfo": {
     "elapsed": 109353,
     "status": "ok",
     "timestamp": 1693415930219,
     "user": {
      "displayName": "Minhaj",
      "userId": "04836163569051548115"
     },
     "user_tz": -360
    },
    "id": "Rm_xDAc9pInP",
    "outputId": "4071cdd7-7983-4702-c294-70fa942ba354"
   },
   "outputs": [
    {
     "data": {
      "text/html": [
       "\n",
       "<style>\n",
       "    /* Turns off some styling */\n",
       "    progress {\n",
       "        /* gets rid of default border in Firefox and Opera. */\n",
       "        border: none;\n",
       "        /* Needs to be in here for Safari polyfill so background images work as expected. */\n",
       "        background-size: auto;\n",
       "    }\n",
       "    progress:not([value]), progress:not([value])::-webkit-progress-bar {\n",
       "        background: repeating-linear-gradient(45deg, #7e7e7e, #7e7e7e 10px, #5c5c5c 10px, #5c5c5c 20px);\n",
       "    }\n",
       "    .progress-bar-interrupted, .progress-bar-interrupted::-webkit-progress-bar {\n",
       "        background: #F44336;\n",
       "    }\n",
       "</style>\n"
      ],
      "text/plain": [
       "<IPython.core.display.HTML object>"
      ]
     },
     "metadata": {},
     "output_type": "display_data"
    },
    {
     "data": {
      "text/html": [
       "<table border=\"1\" class=\"dataframe\">\n",
       "  <thead>\n",
       "    <tr style=\"text-align: left;\">\n",
       "      <th>epoch</th>\n",
       "      <th>train_loss</th>\n",
       "      <th>valid_loss</th>\n",
       "      <th>accuracy_multi</th>\n",
       "      <th>time</th>\n",
       "    </tr>\n",
       "  </thead>\n",
       "  <tbody>\n",
       "    <tr>\n",
       "      <td>0</td>\n",
       "      <td>0.144876</td>\n",
       "      <td>0.142915</td>\n",
       "      <td>0.963083</td>\n",
       "      <td>00:53</td>\n",
       "    </tr>\n",
       "    <tr>\n",
       "      <td>1</td>\n",
       "      <td>0.143007</td>\n",
       "      <td>0.140985</td>\n",
       "      <td>0.963083</td>\n",
       "      <td>00:55</td>\n",
       "    </tr>\n",
       "  </tbody>\n",
       "</table>"
      ],
      "text/plain": [
       "<IPython.core.display.HTML object>"
      ]
     },
     "metadata": {},
     "output_type": "display_data"
    }
   ],
   "source": [
    "learner.fit_one_cycle(2,5.85e-4)"
   ]
  },
  {
   "cell_type": "code",
   "execution_count": 32,
   "metadata": {
    "colab": {
     "base_uri": "https://localhost:8080/"
    },
    "executionInfo": {
     "elapsed": 8817,
     "status": "ok",
     "timestamp": 1693415945135,
     "user": {
      "displayName": "Minhaj",
      "userId": "04836163569051548115"
     },
     "user_tz": -360
    },
    "id": "Z6TLxITipg9O",
    "outputId": "1958429a-7e13-44f2-d606-0d02a4856345"
   },
   "outputs": [
    {
     "data": {
      "text/plain": [
       "Path('models/game-classifier-stage-0.pth')"
      ]
     },
     "execution_count": 32,
     "metadata": {},
     "output_type": "execute_result"
    }
   ],
   "source": [
    "learner.save(\"game-classifier-stage-0\")"
   ]
  },
  {
   "cell_type": "code",
   "execution_count": 33,
   "metadata": {
    "executionInfo": {
     "elapsed": 10597,
     "status": "ok",
     "timestamp": 1693415957896,
     "user": {
      "displayName": "Minhaj",
      "userId": "04836163569051548115"
     },
     "user_tz": -360
    },
    "id": "8OwJ5hPZpIjU"
   },
   "outputs": [],
   "source": [
    "learner.export(\"models/game-classifier-stage-0.pkl\")"
   ]
  },
  {
   "cell_type": "markdown",
   "metadata": {
    "id": "I0uNBHjkpPFJ"
   },
   "source": [
    "### Stage - 1"
   ]
  },
  {
   "cell_type": "code",
   "execution_count": 34,
   "metadata": {
    "executionInfo": {
     "elapsed": 671,
     "status": "ok",
     "timestamp": 1693416021392,
     "user": {
      "displayName": "Minhaj",
      "userId": "04836163569051548115"
     },
     "user_tz": -360
    },
    "id": "SeTJu_bypIfu"
   },
   "outputs": [],
   "source": [
    "learner.unfreeze()"
   ]
  },
  {
   "cell_type": "code",
   "execution_count": 35,
   "metadata": {
    "colab": {
     "base_uri": "https://localhost:8080/",
     "height": 471
    },
    "executionInfo": {
     "elapsed": 14857,
     "status": "ok",
     "timestamp": 1693416039716,
     "user": {
      "displayName": "Minhaj",
      "userId": "04836163569051548115"
     },
     "user_tz": -360
    },
    "id": "MDlm2Z_-pXP7",
    "outputId": "93ac3009-7826-4748-897d-b7ad8143edbe"
   },
   "outputs": [
    {
     "data": {
      "text/html": [
       "\n",
       "<style>\n",
       "    /* Turns off some styling */\n",
       "    progress {\n",
       "        /* gets rid of default border in Firefox and Opera. */\n",
       "        border: none;\n",
       "        /* Needs to be in here for Safari polyfill so background images work as expected. */\n",
       "        background-size: auto;\n",
       "    }\n",
       "    progress:not([value]), progress:not([value])::-webkit-progress-bar {\n",
       "        background: repeating-linear-gradient(45deg, #7e7e7e, #7e7e7e 10px, #5c5c5c 10px, #5c5c5c 20px);\n",
       "    }\n",
       "    .progress-bar-interrupted, .progress-bar-interrupted::-webkit-progress-bar {\n",
       "        background: #F44336;\n",
       "    }\n",
       "</style>\n"
      ],
      "text/plain": [
       "<IPython.core.display.HTML object>"
      ]
     },
     "metadata": {},
     "output_type": "display_data"
    },
    {
     "data": {
      "text/html": [],
      "text/plain": [
       "<IPython.core.display.HTML object>"
      ]
     },
     "metadata": {},
     "output_type": "display_data"
    },
    {
     "data": {
      "text/plain": [
       "SuggestedLRs(slide=0.00363078061491251, valley=0.0002290867705596611)"
      ]
     },
     "execution_count": 35,
     "metadata": {},
     "output_type": "execute_result"
    },
    {
     "data": {
      "image/png": "[encoded data removed]",
      "text/plain": [
       "<Figure size 640x480 with 1 Axes>"
      ]
     },
     "metadata": {},
     "output_type": "display_data"
    }
   ],
   "source": [
    "learner.lr_find(suggest_funcs=[slide, valley])"
   ]
  },
  {
   "cell_type": "code",
   "execution_count": 36,
   "metadata": {
    "colab": {
     "base_uri": "https://localhost:8080/",
     "height": 143
    },
    "executionInfo": {
     "elapsed": 260073,
     "status": "ok",
     "timestamp": 1693416349159,
     "user": {
      "displayName": "Minhaj",
      "userId": "04836163569051548115"
     },
     "user_tz": -360
    },
    "id": "f0GEK9w0pXNL",
    "outputId": "46dc49ef-6065-4c5e-80bc-bff792984156"
   },
   "outputs": [
    {
     "data": {
      "text/html": [
       "\n",
       "<style>\n",
       "    /* Turns off some styling */\n",
       "    progress {\n",
       "        /* gets rid of default border in Firefox and Opera. */\n",
       "        border: none;\n",
       "        /* Needs to be in here for Safari polyfill so background images work as expected. */\n",
       "        background-size: auto;\n",
       "    }\n",
       "    progress:not([value]), progress:not([value])::-webkit-progress-bar {\n",
       "        background: repeating-linear-gradient(45deg, #7e7e7e, #7e7e7e 10px, #5c5c5c 10px, #5c5c5c 20px);\n",
       "    }\n",
       "    .progress-bar-interrupted, .progress-bar-interrupted::-webkit-progress-bar {\n",
       "        background: #F44336;\n",
       "    }\n",
       "</style>\n"
      ],
      "text/plain": [
       "<IPython.core.display.HTML object>"
      ]
     },
     "metadata": {},
     "output_type": "display_data"
    },
    {
     "data": {
      "text/html": [
       "<table border=\"1\" class=\"dataframe\">\n",
       "  <thead>\n",
       "    <tr style=\"text-align: left;\">\n",
       "      <th>epoch</th>\n",
       "      <th>train_loss</th>\n",
       "      <th>valid_loss</th>\n",
       "      <th>accuracy_multi</th>\n",
       "      <th>time</th>\n",
       "    </tr>\n",
       "  </thead>\n",
       "  <tbody>\n",
       "    <tr>\n",
       "      <td>0</td>\n",
       "      <td>0.146902</td>\n",
       "      <td>0.145940</td>\n",
       "      <td>0.943701</td>\n",
       "      <td>01:25</td>\n",
       "    </tr>\n",
       "    <tr>\n",
       "      <td>1</td>\n",
       "      <td>0.143198</td>\n",
       "      <td>0.141949</td>\n",
       "      <td>0.953814</td>\n",
       "      <td>01:27</td>\n",
       "    </tr>\n",
       "    <tr>\n",
       "      <td>2</td>\n",
       "      <td>0.142112</td>\n",
       "      <td>0.140963</td>\n",
       "      <td>0.963083</td>\n",
       "      <td>01:25</td>\n",
       "    </tr>\n",
       "  </tbody>\n",
       "</table>"
      ],
      "text/plain": [
       "<IPython.core.display.HTML object>"
      ]
     },
     "metadata": {},
     "output_type": "display_data"
    }
   ],
   "source": [
    "learner.fit_one_cycle(3,slice(2.15e-4, 3.75e-3))"
   ]
  },
  {
   "cell_type": "code",
   "execution_count": 37,
   "metadata": {
    "colab": {
     "base_uri": "https://localhost:8080/"
    },
    "executionInfo": {
     "elapsed": 31850,
     "status": "ok",
     "timestamp": 1693416393933,
     "user": {
      "displayName": "Minhaj",
      "userId": "04836163569051548115"
     },
     "user_tz": -360
    },
    "id": "W-LXf0h-pXJD",
    "outputId": "154a4235-1f5f-48f8-f93a-3c565f2dd00c"
   },
   "outputs": [
    {
     "data": {
      "text/plain": [
       "Path('models/game-classifier-stage-1.pth')"
      ]
     },
     "execution_count": 37,
     "metadata": {},
     "output_type": "execute_result"
    }
   ],
   "source": [
    "learner.save(\"game-classifier-stage-1\")"
   ]
  },
  {
   "cell_type": "code",
   "execution_count": 38,
   "metadata": {
    "executionInfo": {
     "elapsed": 9144,
     "status": "ok",
     "timestamp": 1693416403074,
     "user": {
      "displayName": "Minhaj",
      "userId": "04836163569051548115"
     },
     "user_tz": -360
    },
    "id": "1Z-cFsQOpixQ"
   },
   "outputs": [],
   "source": [
    "learner.export(\"models/game-classifier-stage-1.pkl\")"
   ]
  }
 ],
 "metadata": {
  "accelerator": "GPU",
  "colab": {
   "authorship_tag": "ABX9TyMf8kG40sXtbMrrMwWB1MNw",
   "gpuType": "T4",
   "provenance": []
  },
  "kernelspec": {
   "display_name": "Python 3 (ipykernel)",
   "language": "python",
   "name": "python3"
  },
  "language_info": {
   "codemirror_mode": {
    "name": "ipython",
    "version": 3
   },
   "file_extension": ".py",
   "mimetype": "text/x-python",
   "name": "python",
   "nbconvert_exporter": "python",
   "pygments_lexer": "ipython3",
   "version": "3.9.7"
  },
  "widgets": {
   "application/vnd.jupyter.widget-state+json": {
    "000ea596a08c4b1c89d7d90f0c5fd731": {
     "model_module": "@jupyter-widgets/controls",
     "model_module_version": "1.5.0",
     "model_name": "ProgressStyleModel",
     "state": {
      "_model_module": "@jupyter-widgets/controls",
      "_model_module_version": "1.5.0",
      "_model_name": "ProgressStyleModel",
      "_view_count": null,
      "_view_module": "@jupyter-widgets/base",
      "_view_module_version": "1.2.0",
      "_view_name": "StyleView",
      "bar_color": null,
      "description_width": ""
     }
    },
    "08570c6fb9104f9bbd56ddcc9b85db15": {
     "model_module": "@jupyter-widgets/controls",
     "model_module_version": "1.5.0",
     "model_name": "HBoxModel",
     "state": {
      "_dom_classes": [],
      "_model_module": "@jupyter-widgets/controls",
      "_model_module_version": "1.5.0",
      "_model_name": "HBoxModel",
      "_view_count": null,
      "_view_module": "@jupyter-widgets/controls",
      "_view_module_version": "1.5.0",
      "_view_name": "HBoxView",
      "box_style": "",
      "children": [
       "IPY_MODEL_5878013c2fbc439a8092dd297d0e8432",
       "IPY_MODEL_3bcdbafec3e641bfa33f6ea217c39b5b",
       "IPY_MODEL_c1c3c30e5e354563b80a416d5c8b7bf6"
      ],
      "layout": "IPY_MODEL_cf576f09f1ae4b3aaf20b77042b13986"
     }
    },
    "0da907e4ac0c4cf58e3cdbba4e172ae9": {
     "model_module": "@jupyter-widgets/base",
     "model_module_version": "1.2.0",
     "model_name": "LayoutModel",
     "state": {
      "_model_module": "@jupyter-widgets/base",
      "_model_module_version": "1.2.0",
      "_model_name": "LayoutModel",
      "_view_count": null,
      "_view_module": "@jupyter-widgets/base",
      "_view_module_version": "1.2.0",
      "_view_name": "LayoutView",
      "align_content": null,
      "align_items": null,
      "align_self": null,
      "border": null,
      "bottom": null,
      "display": null,
      "flex": null,
      "flex_flow": null,
      "grid_area": null,
      "grid_auto_columns": null,
      "grid_auto_flow": null,
      "grid_auto_rows": null,
      "grid_column": null,
      "grid_gap": null,
      "grid_row": null,
      "grid_template_areas": null,
      "grid_template_columns": null,
      "grid_template_rows": null,
      "height": null,
      "justify_content": null,
      "justify_items": null,
      "left": null,
      "margin": null,
      "max_height": null,
      "max_width": null,
      "min_height": null,
      "min_width": null,
      "object_fit": null,
      "object_position": null,
      "order": null,
      "overflow": null,
      "overflow_x": null,
      "overflow_y": null,
      "padding": null,
      "right": null,
      "top": null,
      "visibility": null,
      "width": null
     }
    },
    "18fe375360e54b099a7b3db2010cf3c2": {
     "model_module": "@jupyter-widgets/controls",
     "model_module_version": "1.5.0",
     "model_name": "ProgressStyleModel",
     "state": {
      "_model_module": "@jupyter-widgets/controls",
      "_model_module_version": "1.5.0",
      "_model_name": "ProgressStyleModel",
      "_view_count": null,
      "_view_module": "@jupyter-widgets/base",
      "_view_module_version": "1.2.0",
      "_view_name": "StyleView",
      "bar_color": null,
      "description_width": ""
     }
    },
    "1bc565b0584e40c88a1a4d30b536e190": {
     "model_module": "@jupyter-widgets/base",
     "model_module_version": "1.2.0",
     "model_name": "LayoutModel",
     "state": {
      "_model_module": "@jupyter-widgets/base",
      "_model_module_version": "1.2.0",
      "_model_name": "LayoutModel",
      "_view_count": null,
      "_view_module": "@jupyter-widgets/base",
      "_view_module_version": "1.2.0",
      "_view_name": "LayoutView",
      "align_content": null,
      "align_items": null,
      "align_self": null,
      "border": null,
      "bottom": null,
      "display": null,
      "flex": null,
      "flex_flow": null,
      "grid_area": null,
      "grid_auto_columns": null,
      "grid_auto_flow": null,
      "grid_auto_rows": null,
      "grid_column": null,
      "grid_gap": null,
      "grid_row": null,
      "grid_template_areas": null,
      "grid_template_columns": null,
      "grid_template_rows": null,
      "height": null,
      "justify_content": null,
      "justify_items": null,
      "left": null,
      "margin": null,
      "max_height": null,
      "max_width": null,
      "min_height": null,
      "min_width": null,
      "object_fit": null,
      "object_position": null,
      "order": null,
      "overflow": null,
      "overflow_x": null,
      "overflow_y": null,
      "padding": null,
      "right": null,
      "top": null,
      "visibility": null,
      "width": null
     }
    },
    "1cc38fdf8052479282e2a10ae087f33b": {
     "model_module": "@jupyter-widgets/controls",
     "model_module_version": "1.5.0",
     "model_name": "DescriptionStyleModel",
     "state": {
      "_model_module": "@jupyter-widgets/controls",
      "_model_module_version": "1.5.0",
      "_model_name": "DescriptionStyleModel",
      "_view_count": null,
      "_view_module": "@jupyter-widgets/base",
      "_view_module_version": "1.2.0",
      "_view_name": "StyleView",
      "description_width": ""
     }
    },
    "1e7e2edb52dc42fb8062b06b528adc61": {
     "model_module": "@jupyter-widgets/base",
     "model_module_version": "1.2.0",
     "model_name": "LayoutModel",
     "state": {
      "_model_module": "@jupyter-widgets/base",
      "_model_module_version": "1.2.0",
      "_model_name": "LayoutModel",
      "_view_count": null,
      "_view_module": "@jupyter-widgets/base",
      "_view_module_version": "1.2.0",
      "_view_name": "LayoutView",
      "align_content": null,
      "align_items": null,
      "align_self": null,
      "border": null,
      "bottom": null,
      "display": null,
      "flex": null,
      "flex_flow": null,
      "grid_area": null,
      "grid_auto_columns": null,
      "grid_auto_flow": null,
      "grid_auto_rows": null,
      "grid_column": null,
      "grid_gap": null,
      "grid_row": null,
      "grid_template_areas": null,
      "grid_template_columns": null,
      "grid_template_rows": null,
      "height": null,
      "justify_content": null,
      "justify_items": null,
      "left": null,
      "margin": null,
      "max_height": null,
      "max_width": null,
      "min_height": null,
      "min_width": null,
      "object_fit": null,
      "object_position": null,
      "order": null,
      "overflow": null,
      "overflow_x": null,
      "overflow_y": null,
      "padding": null,
      "right": null,
      "top": null,
      "visibility": null,
      "width": null
     }
    },
    "1ed9427811c94b33872a71e0cc141465": {
     "model_module": "@jupyter-widgets/controls",
     "model_module_version": "1.5.0",
     "model_name": "HTMLModel",
     "state": {
      "_dom_classes": [],
      "_model_module": "@jupyter-widgets/controls",
      "_model_module_version": "1.5.0",
      "_model_name": "HTMLModel",
      "_view_count": null,
      "_view_module": "@jupyter-widgets/controls",
      "_view_module_version": "1.5.0",
      "_view_name": "HTMLView",
      "description": "",
      "description_tooltip": null,
      "layout": "IPY_MODEL_41ed66943c7c45c3a544f5ad75c022b5",
      "placeholder": "​",
      "style": "IPY_MODEL_abc8b67028e14da3b3068c05098bb01f",
      "value": " 456k/456k [00:00&lt;00:00, 16.4MB/s]"
     }
    },
    "201667373e794dbf9ee0f622be567258": {
     "model_module": "@jupyter-widgets/base",
     "model_module_version": "1.2.0",
     "model_name": "LayoutModel",
     "state": {
      "_model_module": "@jupyter-widgets/base",
      "_model_module_version": "1.2.0",
      "_model_name": "LayoutModel",
      "_view_count": null,
      "_view_module": "@jupyter-widgets/base",
      "_view_module_version": "1.2.0",
      "_view_name": "LayoutView",
      "align_content": null,
      "align_items": null,
      "align_self": null,
      "border": null,
      "bottom": null,
      "display": null,
      "flex": null,
      "flex_flow": null,
      "grid_area": null,
      "grid_auto_columns": null,
      "grid_auto_flow": null,
      "grid_auto_rows": null,
      "grid_column": null,
      "grid_gap": null,
      "grid_row": null,
      "grid_template_areas": null,
      "grid_template_columns": null,
      "grid_template_rows": null,
      "height": null,
      "justify_content": null,
      "justify_items": null,
      "left": null,
      "margin": null,
      "max_height": null,
      "max_width": null,
      "min_height": null,
      "min_width": null,
      "object_fit": null,
      "object_position": null,
      "order": null,
      "overflow": null,
      "overflow_x": null,
      "overflow_y": null,
      "padding": null,
      "right": null,
      "top": null,
      "visibility": null,
      "width": null
     }
    },
    "224c9458d2244c92886ebea3067d5956": {
     "model_module": "@jupyter-widgets/controls",
     "model_module_version": "1.5.0",
     "model_name": "HTMLModel",
     "state": {
      "_dom_classes": [],
      "_model_module": "@jupyter-widgets/controls",
      "_model_module_version": "1.5.0",
      "_model_name": "HTMLModel",
      "_view_count": null,
      "_view_module": "@jupyter-widgets/controls",
      "_view_module_version": "1.5.0",
      "_view_name": "HTMLView",
      "description": "",
      "description_tooltip": null,
      "layout": "IPY_MODEL_e7f0839150cb42668ba75af7ec2e1312",
      "placeholder": "​",
      "style": "IPY_MODEL_d9b7dbd51b624ed6a32b69676801a705",
      "value": " 899k/899k [00:00&lt;00:00, 1.82MB/s]"
     }
    },
    "2453172ea82c4d06ba2f99eb0eabfee9": {
     "model_module": "@jupyter-widgets/controls",
     "model_module_version": "1.5.0",
     "model_name": "ProgressStyleModel",
     "state": {
      "_model_module": "@jupyter-widgets/controls",
      "_model_module_version": "1.5.0",
      "_model_name": "ProgressStyleModel",
      "_view_count": null,
      "_view_module": "@jupyter-widgets/base",
      "_view_module_version": "1.2.0",
      "_view_name": "StyleView",
      "bar_color": null,
      "description_width": ""
     }
    },
    "27230fcf82a14cbe957d641048ef1c05": {
     "model_module": "@jupyter-widgets/base",
     "model_module_version": "1.2.0",
     "model_name": "LayoutModel",
     "state": {
      "_model_module": "@jupyter-widgets/base",
      "_model_module_version": "1.2.0",
      "_model_name": "LayoutModel",
      "_view_count": null,
      "_view_module": "@jupyter-widgets/base",
      "_view_module_version": "1.2.0",
      "_view_name": "LayoutView",
      "align_content": null,
      "align_items": null,
      "align_self": null,
      "border": null,
      "bottom": null,
      "display": null,
      "flex": null,
      "flex_flow": null,
      "grid_area": null,
      "grid_auto_columns": null,
      "grid_auto_flow": null,
      "grid_auto_rows": null,
      "grid_column": null,
      "grid_gap": null,
      "grid_row": null,
      "grid_template_areas": null,
      "grid_template_columns": null,
      "grid_template_rows": null,
      "height": null,
      "justify_content": null,
      "justify_items": null,
      "left": null,
      "margin": null,
      "max_height": null,
      "max_width": null,
      "min_height": null,
      "min_width": null,
      "object_fit": null,
      "object_position": null,
      "order": null,
      "overflow": null,
      "overflow_x": null,
      "overflow_y": null,
      "padding": null,
      "right": null,
      "top": null,
      "visibility": null,
      "width": null
     }
    },
    "275d2a689dbf47c4a8b9dde5045bd23b": {
     "model_module": "@jupyter-widgets/controls",
     "model_module_version": "1.5.0",
     "model_name": "HTMLModel",
     "state": {
      "_dom_classes": [],
      "_model_module": "@jupyter-widgets/controls",
      "_model_module_version": "1.5.0",
      "_model_name": "HTMLModel",
      "_view_count": null,
      "_view_module": "@jupyter-widgets/controls",
      "_view_module_version": "1.5.0",
      "_view_name": "HTMLView",
      "description": "",
      "description_tooltip": null,
      "layout": "IPY_MODEL_6eaa2202d0fa42eca716e2556396d653",
      "placeholder": "​",
      "style": "IPY_MODEL_1cc38fdf8052479282e2a10ae087f33b",
      "value": "Downloading (…)/main/tokenizer.json: 100%"
     }
    },
    "29aff973d2f4455f82a285345610500f": {
     "model_module": "@jupyter-widgets/controls",
     "model_module_version": "1.5.0",
     "model_name": "HTMLModel",
     "state": {
      "_dom_classes": [],
      "_model_module": "@jupyter-widgets/controls",
      "_model_module_version": "1.5.0",
      "_model_name": "HTMLModel",
      "_view_count": null,
      "_view_module": "@jupyter-widgets/controls",
      "_view_module_version": "1.5.0",
      "_view_name": "HTMLView",
      "description": "",
      "description_tooltip": null,
      "layout": "IPY_MODEL_c566829baca54c88948d86a53453cdc5",
      "placeholder": "​",
      "style": "IPY_MODEL_3931386f859b4525a5b0ff97029c8d46",
      "value": "Downloading (…)olve/main/merges.txt: 100%"
     }
    },
    "2c637de85335478985a1a142ffdb2704": {
     "model_module": "@jupyter-widgets/controls",
     "model_module_version": "1.5.0",
     "model_name": "HBoxModel",
     "state": {
      "_dom_classes": [],
      "_model_module": "@jupyter-widgets/controls",
      "_model_module_version": "1.5.0",
      "_model_name": "HBoxModel",
      "_view_count": null,
      "_view_module": "@jupyter-widgets/controls",
      "_view_module_version": "1.5.0",
      "_view_name": "HBoxView",
      "box_style": "",
      "children": [
       "IPY_MODEL_2f671412c342419691b7918887192762",
       "IPY_MODEL_c60fbf08524f4da58d0de368ab97fc8a",
       "IPY_MODEL_9182ffa7e32947a49ddab2893df98582"
      ],
      "layout": "IPY_MODEL_b5d2ba7de0784da3a0487d59e364f957"
     }
    },
    "2f671412c342419691b7918887192762": {
     "model_module": "@jupyter-widgets/controls",
     "model_module_version": "1.5.0",
     "model_name": "HTMLModel",
     "state": {
      "_dom_classes": [],
      "_model_module": "@jupyter-widgets/controls",
      "_model_module_version": "1.5.0",
      "_model_name": "HTMLModel",
      "_view_count": null,
      "_view_module": "@jupyter-widgets/controls",
      "_view_module_version": "1.5.0",
      "_view_name": "HTMLView",
      "description": "",
      "description_tooltip": null,
      "layout": "IPY_MODEL_aabbbd6895e94a0ba3b1d8bb6c4d8060",
      "placeholder": "​",
      "style": "IPY_MODEL_b90b600fbd1840dfbe535ff6dded9aff",
      "value": "Downloading builder script: "
     }
    },
    "37f5392ad9ce4bcfa3cf393c530ca6ed": {
     "model_module": "@jupyter-widgets/controls",
     "model_module_version": "1.5.0",
     "model_name": "ProgressStyleModel",
     "state": {
      "_model_module": "@jupyter-widgets/controls",
      "_model_module_version": "1.5.0",
      "_model_name": "ProgressStyleModel",
      "_view_count": null,
      "_view_module": "@jupyter-widgets/base",
      "_view_module_version": "1.2.0",
      "_view_name": "StyleView",
      "bar_color": null,
      "description_width": ""
     }
    },
    "3931386f859b4525a5b0ff97029c8d46": {
     "model_module": "@jupyter-widgets/controls",
     "model_module_version": "1.5.0",
     "model_name": "DescriptionStyleModel",
     "state": {
      "_model_module": "@jupyter-widgets/controls",
      "_model_module_version": "1.5.0",
      "_model_name": "DescriptionStyleModel",
      "_view_count": null,
      "_view_module": "@jupyter-widgets/base",
      "_view_module_version": "1.2.0",
      "_view_name": "StyleView",
      "description_width": ""
     }
    },
    "3bcdbafec3e641bfa33f6ea217c39b5b": {
     "model_module": "@jupyter-widgets/controls",
     "model_module_version": "1.5.0",
     "model_name": "FloatProgressModel",
     "state": {
      "_dom_classes": [],
      "_model_module": "@jupyter-widgets/controls",
      "_model_module_version": "1.5.0",
      "_model_name": "FloatProgressModel",
      "_view_count": null,
      "_view_module": "@jupyter-widgets/controls",
      "_view_module_version": "1.5.0",
      "_view_name": "ProgressView",
      "bar_style": "success",
      "description": "",
      "description_tooltip": null,
      "layout": "IPY_MODEL_9e0ec2347f454f3189018ecce717317c",
      "max": 480,
      "min": 0,
      "orientation": "horizontal",
      "style": "IPY_MODEL_18fe375360e54b099a7b3db2010cf3c2",
      "value": 480
     }
    },
    "3dc60a7be65e46e7bfefda60fc7de7d9": {
     "model_module": "@jupyter-widgets/controls",
     "model_module_version": "1.5.0",
     "model_name": "HTMLModel",
     "state": {
      "_dom_classes": [],
      "_model_module": "@jupyter-widgets/controls",
      "_model_module_version": "1.5.0",
      "_model_name": "HTMLModel",
      "_view_count": null,
      "_view_module": "@jupyter-widgets/controls",
      "_view_module_version": "1.5.0",
      "_view_name": "HTMLView",
      "description": "",
      "description_tooltip": null,
      "layout": "IPY_MODEL_8ed76f3791334ba6bed6260f7451b52d",
      "placeholder": "​",
      "style": "IPY_MODEL_e822faff4d004573ae88407b2c726b58",
      "value": " 331M/331M [00:02&lt;00:00, 161MB/s]"
     }
    },
    "3e0f1923bbc4468fafdac2b34c162760": {
     "model_module": "@jupyter-widgets/controls",
     "model_module_version": "1.5.0",
     "model_name": "DescriptionStyleModel",
     "state": {
      "_model_module": "@jupyter-widgets/controls",
      "_model_module_version": "1.5.0",
      "_model_name": "DescriptionStyleModel",
      "_view_count": null,
      "_view_module": "@jupyter-widgets/base",
      "_view_module_version": "1.2.0",
      "_view_name": "StyleView",
      "description_width": ""
     }
    },
    "41ed66943c7c45c3a544f5ad75c022b5": {
     "model_module": "@jupyter-widgets/base",
     "model_module_version": "1.2.0",
     "model_name": "LayoutModel",
     "state": {
      "_model_module": "@jupyter-widgets/base",
      "_model_module_version": "1.2.0",
      "_model_name": "LayoutModel",
      "_view_count": null,
      "_view_module": "@jupyter-widgets/base",
      "_view_module_version": "1.2.0",
      "_view_name": "LayoutView",
      "align_content": null,
      "align_items": null,
      "align_self": null,
      "border": null,
      "bottom": null,
      "display": null,
      "flex": null,
      "flex_flow": null,
      "grid_area": null,
      "grid_auto_columns": null,
      "grid_auto_flow": null,
      "grid_auto_rows": null,
      "grid_column": null,
      "grid_gap": null,
      "grid_row": null,
      "grid_template_areas": null,
      "grid_template_columns": null,
      "grid_template_rows": null,
      "height": null,
      "justify_content": null,
      "justify_items": null,
      "left": null,
      "margin": null,
      "max_height": null,
      "max_width": null,
      "min_height": null,
      "min_width": null,
      "object_fit": null,
      "object_position": null,
      "order": null,
      "overflow": null,
      "overflow_x": null,
      "overflow_y": null,
      "padding": null,
      "right": null,
      "top": null,
      "visibility": null,
      "width": null
     }
    },
    "44eddb855f8a436a81de391ceb50b864": {
     "model_module": "@jupyter-widgets/base",
     "model_module_version": "1.2.0",
     "model_name": "LayoutModel",
     "state": {
      "_model_module": "@jupyter-widgets/base",
      "_model_module_version": "1.2.0",
      "_model_name": "LayoutModel",
      "_view_count": null,
      "_view_module": "@jupyter-widgets/base",
      "_view_module_version": "1.2.0",
      "_view_name": "LayoutView",
      "align_content": null,
      "align_items": null,
      "align_self": null,
      "border": null,
      "bottom": null,
      "display": null,
      "flex": null,
      "flex_flow": null,
      "grid_area": null,
      "grid_auto_columns": null,
      "grid_auto_flow": null,
      "grid_auto_rows": null,
      "grid_column": null,
      "grid_gap": null,
      "grid_row": null,
      "grid_template_areas": null,
      "grid_template_columns": null,
      "grid_template_rows": null,
      "height": null,
      "justify_content": null,
      "justify_items": null,
      "left": null,
      "margin": null,
      "max_height": null,
      "max_width": null,
      "min_height": null,
      "min_width": null,
      "object_fit": null,
      "object_position": null,
      "order": null,
      "overflow": null,
      "overflow_x": null,
      "overflow_y": null,
      "padding": null,
      "right": null,
      "top": null,
      "visibility": null,
      "width": null
     }
    },
    "48773e06e7534f5083e6104fbf838f4f": {
     "model_module": "@jupyter-widgets/controls",
     "model_module_version": "1.5.0",
     "model_name": "FloatProgressModel",
     "state": {
      "_dom_classes": [],
      "_model_module": "@jupyter-widgets/controls",
      "_model_module_version": "1.5.0",
      "_model_name": "FloatProgressModel",
      "_view_count": null,
      "_view_module": "@jupyter-widgets/controls",
      "_view_module_version": "1.5.0",
      "_view_name": "ProgressView",
      "bar_style": "success",
      "description": "",
      "description_tooltip": null,
      "layout": "IPY_MODEL_ac84874655a44ede97c611ea86f83278",
      "max": 331055963,
      "min": 0,
      "orientation": "horizontal",
      "style": "IPY_MODEL_000ea596a08c4b1c89d7d90f0c5fd731",
      "value": 331055963
     }
    },
    "4fc14c05e977463aabe1d3a84a0058ab": {
     "model_module": "@jupyter-widgets/base",
     "model_module_version": "1.2.0",
     "model_name": "LayoutModel",
     "state": {
      "_model_module": "@jupyter-widgets/base",
      "_model_module_version": "1.2.0",
      "_model_name": "LayoutModel",
      "_view_count": null,
      "_view_module": "@jupyter-widgets/base",
      "_view_module_version": "1.2.0",
      "_view_name": "LayoutView",
      "align_content": null,
      "align_items": null,
      "align_self": null,
      "border": null,
      "bottom": null,
      "display": null,
      "flex": null,
      "flex_flow": null,
      "grid_area": null,
      "grid_auto_columns": null,
      "grid_auto_flow": null,
      "grid_auto_rows": null,
      "grid_column": null,
      "grid_gap": null,
      "grid_row": null,
      "grid_template_areas": null,
      "grid_template_columns": null,
      "grid_template_rows": null,
      "height": null,
      "justify_content": null,
      "justify_items": null,
      "left": null,
      "margin": null,
      "max_height": null,
      "max_width": null,
      "min_height": null,
      "min_width": null,
      "object_fit": null,
      "object_position": null,
      "order": null,
      "overflow": null,
      "overflow_x": null,
      "overflow_y": null,
      "padding": null,
      "right": null,
      "top": null,
      "visibility": null,
      "width": null
     }
    },
    "5284988df24d494e8ec7e91d65cb11d0": {
     "model_module": "@jupyter-widgets/base",
     "model_module_version": "1.2.0",
     "model_name": "LayoutModel",
     "state": {
      "_model_module": "@jupyter-widgets/base",
      "_model_module_version": "1.2.0",
      "_model_name": "LayoutModel",
      "_view_count": null,
      "_view_module": "@jupyter-widgets/base",
      "_view_module_version": "1.2.0",
      "_view_name": "LayoutView",
      "align_content": null,
      "align_items": null,
      "align_self": null,
      "border": null,
      "bottom": null,
      "display": null,
      "flex": null,
      "flex_flow": null,
      "grid_area": null,
      "grid_auto_columns": null,
      "grid_auto_flow": null,
      "grid_auto_rows": null,
      "grid_column": null,
      "grid_gap": null,
      "grid_row": null,
      "grid_template_areas": null,
      "grid_template_columns": null,
      "grid_template_rows": null,
      "height": null,
      "justify_content": null,
      "justify_items": null,
      "left": null,
      "margin": null,
      "max_height": null,
      "max_width": null,
      "min_height": null,
      "min_width": null,
      "object_fit": null,
      "object_position": null,
      "order": null,
      "overflow": null,
      "overflow_x": null,
      "overflow_y": null,
      "padding": null,
      "right": null,
      "top": null,
      "visibility": null,
      "width": null
     }
    },
    "5878013c2fbc439a8092dd297d0e8432": {
     "model_module": "@jupyter-widgets/controls",
     "model_module_version": "1.5.0",
     "model_name": "HTMLModel",
     "state": {
      "_dom_classes": [],
      "_model_module": "@jupyter-widgets/controls",
      "_model_module_version": "1.5.0",
      "_model_name": "HTMLModel",
      "_view_count": null,
      "_view_module": "@jupyter-widgets/controls",
      "_view_module_version": "1.5.0",
      "_view_name": "HTMLView",
      "description": "",
      "description_tooltip": null,
      "layout": "IPY_MODEL_1bc565b0584e40c88a1a4d30b536e190",
      "placeholder": "​",
      "style": "IPY_MODEL_3e0f1923bbc4468fafdac2b34c162760",
      "value": "Downloading (…)lve/main/config.json: 100%"
     }
    },
    "5ae3360c84884aba86ec94c8d1f16451": {
     "model_module": "@jupyter-widgets/controls",
     "model_module_version": "1.5.0",
     "model_name": "DescriptionStyleModel",
     "state": {
      "_model_module": "@jupyter-widgets/controls",
      "_model_module_version": "1.5.0",
      "_model_name": "DescriptionStyleModel",
      "_view_count": null,
      "_view_module": "@jupyter-widgets/base",
      "_view_module_version": "1.2.0",
      "_view_name": "StyleView",
      "description_width": ""
     }
    },
    "6570b596a06b46e1a550eba7d9e93077": {
     "model_module": "@jupyter-widgets/controls",
     "model_module_version": "1.5.0",
     "model_name": "DescriptionStyleModel",
     "state": {
      "_model_module": "@jupyter-widgets/controls",
      "_model_module_version": "1.5.0",
      "_model_name": "DescriptionStyleModel",
      "_view_count": null,
      "_view_module": "@jupyter-widgets/base",
      "_view_module_version": "1.2.0",
      "_view_name": "StyleView",
      "description_width": ""
     }
    },
    "6e6865ce7bca47df8c25901fbfd84e2b": {
     "model_module": "@jupyter-widgets/base",
     "model_module_version": "1.2.0",
     "model_name": "LayoutModel",
     "state": {
      "_model_module": "@jupyter-widgets/base",
      "_model_module_version": "1.2.0",
      "_model_name": "LayoutModel",
      "_view_count": null,
      "_view_module": "@jupyter-widgets/base",
      "_view_module_version": "1.2.0",
      "_view_name": "LayoutView",
      "align_content": null,
      "align_items": null,
      "align_self": null,
      "border": null,
      "bottom": null,
      "display": null,
      "flex": null,
      "flex_flow": null,
      "grid_area": null,
      "grid_auto_columns": null,
      "grid_auto_flow": null,
      "grid_auto_rows": null,
      "grid_column": null,
      "grid_gap": null,
      "grid_row": null,
      "grid_template_areas": null,
      "grid_template_columns": null,
      "grid_template_rows": null,
      "height": null,
      "justify_content": null,
      "justify_items": null,
      "left": null,
      "margin": null,
      "max_height": null,
      "max_width": null,
      "min_height": null,
      "min_width": null,
      "object_fit": null,
      "object_position": null,
      "order": null,
      "overflow": null,
      "overflow_x": null,
      "overflow_y": null,
      "padding": null,
      "right": null,
      "top": null,
      "visibility": null,
      "width": null
     }
    },
    "6eaa2202d0fa42eca716e2556396d653": {
     "model_module": "@jupyter-widgets/base",
     "model_module_version": "1.2.0",
     "model_name": "LayoutModel",
     "state": {
      "_model_module": "@jupyter-widgets/base",
      "_model_module_version": "1.2.0",
      "_model_name": "LayoutModel",
      "_view_count": null,
      "_view_module": "@jupyter-widgets/base",
      "_view_module_version": "1.2.0",
      "_view_name": "LayoutView",
      "align_content": null,
      "align_items": null,
      "align_self": null,
      "border": null,
      "bottom": null,
      "display": null,
      "flex": null,
      "flex_flow": null,
      "grid_area": null,
      "grid_auto_columns": null,
      "grid_auto_flow": null,
      "grid_auto_rows": null,
      "grid_column": null,
      "grid_gap": null,
      "grid_row": null,
      "grid_template_areas": null,
      "grid_template_columns": null,
      "grid_template_rows": null,
      "height": null,
      "justify_content": null,
      "justify_items": null,
      "left": null,
      "margin": null,
      "max_height": null,
      "max_width": null,
      "min_height": null,
      "min_width": null,
      "object_fit": null,
      "object_position": null,
      "order": null,
      "overflow": null,
      "overflow_x": null,
      "overflow_y": null,
      "padding": null,
      "right": null,
      "top": null,
      "visibility": null,
      "width": null
     }
    },
    "6fe5792d20494ab0bc956af576c402df": {
     "model_module": "@jupyter-widgets/controls",
     "model_module_version": "1.5.0",
     "model_name": "HBoxModel",
     "state": {
      "_dom_classes": [],
      "_model_module": "@jupyter-widgets/controls",
      "_model_module_version": "1.5.0",
      "_model_name": "HBoxModel",
      "_view_count": null,
      "_view_module": "@jupyter-widgets/controls",
      "_view_module_version": "1.5.0",
      "_view_name": "HBoxView",
      "box_style": "",
      "children": [
       "IPY_MODEL_275d2a689dbf47c4a8b9dde5045bd23b",
       "IPY_MODEL_c70e1dc0991846d59b9ea7f3d0430888",
       "IPY_MODEL_915d7d3218254c2897a9cc93fe6776ee"
      ],
      "layout": "IPY_MODEL_ef7dd1bef7e44083a76dd71b51076901"
     }
    },
    "719449b18ef84c669830c15ae66f1d18": {
     "model_module": "@jupyter-widgets/controls",
     "model_module_version": "1.5.0",
     "model_name": "HTMLModel",
     "state": {
      "_dom_classes": [],
      "_model_module": "@jupyter-widgets/controls",
      "_model_module_version": "1.5.0",
      "_model_name": "HTMLModel",
      "_view_count": null,
      "_view_module": "@jupyter-widgets/controls",
      "_view_module_version": "1.5.0",
      "_view_name": "HTMLView",
      "description": "",
      "description_tooltip": null,
      "layout": "IPY_MODEL_b9335c27930a492f9c2f8f9e1f4bdd5e",
      "placeholder": "​",
      "style": "IPY_MODEL_71a6490b6471400a86225a99259e6b2a",
      "value": "Downloading (…)olve/main/vocab.json: 100%"
     }
    },
    "71a6490b6471400a86225a99259e6b2a": {
     "model_module": "@jupyter-widgets/controls",
     "model_module_version": "1.5.0",
     "model_name": "DescriptionStyleModel",
     "state": {
      "_model_module": "@jupyter-widgets/controls",
      "_model_module_version": "1.5.0",
      "_model_name": "DescriptionStyleModel",
      "_view_count": null,
      "_view_module": "@jupyter-widgets/base",
      "_view_module_version": "1.2.0",
      "_view_name": "StyleView",
      "description_width": ""
     }
    },
    "7581b7142d294ec9bb2e669cff971597": {
     "model_module": "@jupyter-widgets/controls",
     "model_module_version": "1.5.0",
     "model_name": "DescriptionStyleModel",
     "state": {
      "_model_module": "@jupyter-widgets/controls",
      "_model_module_version": "1.5.0",
      "_model_name": "DescriptionStyleModel",
      "_view_count": null,
      "_view_module": "@jupyter-widgets/base",
      "_view_module_version": "1.2.0",
      "_view_name": "StyleView",
      "description_width": ""
     }
    },
    "7d094ded7829463ab6d185017e8b146f": {
     "model_module": "@jupyter-widgets/controls",
     "model_module_version": "1.5.0",
     "model_name": "DescriptionStyleModel",
     "state": {
      "_model_module": "@jupyter-widgets/controls",
      "_model_module_version": "1.5.0",
      "_model_name": "DescriptionStyleModel",
      "_view_count": null,
      "_view_module": "@jupyter-widgets/base",
      "_view_module_version": "1.2.0",
      "_view_name": "StyleView",
      "description_width": ""
     }
    },
    "858a631126794ae9a9b2b1ab68ea1e02": {
     "model_module": "@jupyter-widgets/base",
     "model_module_version": "1.2.0",
     "model_name": "LayoutModel",
     "state": {
      "_model_module": "@jupyter-widgets/base",
      "_model_module_version": "1.2.0",
      "_model_name": "LayoutModel",
      "_view_count": null,
      "_view_module": "@jupyter-widgets/base",
      "_view_module_version": "1.2.0",
      "_view_name": "LayoutView",
      "align_content": null,
      "align_items": null,
      "align_self": null,
      "border": null,
      "bottom": null,
      "display": null,
      "flex": null,
      "flex_flow": null,
      "grid_area": null,
      "grid_auto_columns": null,
      "grid_auto_flow": null,
      "grid_auto_rows": null,
      "grid_column": null,
      "grid_gap": null,
      "grid_row": null,
      "grid_template_areas": null,
      "grid_template_columns": null,
      "grid_template_rows": null,
      "height": null,
      "justify_content": null,
      "justify_items": null,
      "left": null,
      "margin": null,
      "max_height": null,
      "max_width": null,
      "min_height": null,
      "min_width": null,
      "object_fit": null,
      "object_position": null,
      "order": null,
      "overflow": null,
      "overflow_x": null,
      "overflow_y": null,
      "padding": null,
      "right": null,
      "top": null,
      "visibility": null,
      "width": null
     }
    },
    "8bda80679c6240fabcea0bdc95ac1e7f": {
     "model_module": "@jupyter-widgets/base",
     "model_module_version": "1.2.0",
     "model_name": "LayoutModel",
     "state": {
      "_model_module": "@jupyter-widgets/base",
      "_model_module_version": "1.2.0",
      "_model_name": "LayoutModel",
      "_view_count": null,
      "_view_module": "@jupyter-widgets/base",
      "_view_module_version": "1.2.0",
      "_view_name": "LayoutView",
      "align_content": null,
      "align_items": null,
      "align_self": null,
      "border": null,
      "bottom": null,
      "display": null,
      "flex": null,
      "flex_flow": null,
      "grid_area": null,
      "grid_auto_columns": null,
      "grid_auto_flow": null,
      "grid_auto_rows": null,
      "grid_column": null,
      "grid_gap": null,
      "grid_row": null,
      "grid_template_areas": null,
      "grid_template_columns": null,
      "grid_template_rows": null,
      "height": null,
      "justify_content": null,
      "justify_items": null,
      "left": null,
      "margin": null,
      "max_height": null,
      "max_width": null,
      "min_height": null,
      "min_width": null,
      "object_fit": null,
      "object_position": null,
      "order": null,
      "overflow": null,
      "overflow_x": null,
      "overflow_y": null,
      "padding": null,
      "right": null,
      "top": null,
      "visibility": null,
      "width": null
     }
    },
    "8ed76f3791334ba6bed6260f7451b52d": {
     "model_module": "@jupyter-widgets/base",
     "model_module_version": "1.2.0",
     "model_name": "LayoutModel",
     "state": {
      "_model_module": "@jupyter-widgets/base",
      "_model_module_version": "1.2.0",
      "_model_name": "LayoutModel",
      "_view_count": null,
      "_view_module": "@jupyter-widgets/base",
      "_view_module_version": "1.2.0",
      "_view_name": "LayoutView",
      "align_content": null,
      "align_items": null,
      "align_self": null,
      "border": null,
      "bottom": null,
      "display": null,
      "flex": null,
      "flex_flow": null,
      "grid_area": null,
      "grid_auto_columns": null,
      "grid_auto_flow": null,
      "grid_auto_rows": null,
      "grid_column": null,
      "grid_gap": null,
      "grid_row": null,
      "grid_template_areas": null,
      "grid_template_columns": null,
      "grid_template_rows": null,
      "height": null,
      "justify_content": null,
      "justify_items": null,
      "left": null,
      "margin": null,
      "max_height": null,
      "max_width": null,
      "min_height": null,
      "min_width": null,
      "object_fit": null,
      "object_position": null,
      "order": null,
      "overflow": null,
      "overflow_x": null,
      "overflow_y": null,
      "padding": null,
      "right": null,
      "top": null,
      "visibility": null,
      "width": null
     }
    },
    "904271d70656428998575385d84c5e63": {
     "model_module": "@jupyter-widgets/base",
     "model_module_version": "1.2.0",
     "model_name": "LayoutModel",
     "state": {
      "_model_module": "@jupyter-widgets/base",
      "_model_module_version": "1.2.0",
      "_model_name": "LayoutModel",
      "_view_count": null,
      "_view_module": "@jupyter-widgets/base",
      "_view_module_version": "1.2.0",
      "_view_name": "LayoutView",
      "align_content": null,
      "align_items": null,
      "align_self": null,
      "border": null,
      "bottom": null,
      "display": null,
      "flex": null,
      "flex_flow": null,
      "grid_area": null,
      "grid_auto_columns": null,
      "grid_auto_flow": null,
      "grid_auto_rows": null,
      "grid_column": null,
      "grid_gap": null,
      "grid_row": null,
      "grid_template_areas": null,
      "grid_template_columns": null,
      "grid_template_rows": null,
      "height": null,
      "justify_content": null,
      "justify_items": null,
      "left": null,
      "margin": null,
      "max_height": null,
      "max_width": null,
      "min_height": null,
      "min_width": null,
      "object_fit": null,
      "object_position": null,
      "order": null,
      "overflow": null,
      "overflow_x": null,
      "overflow_y": null,
      "padding": null,
      "right": null,
      "top": null,
      "visibility": null,
      "width": null
     }
    },
    "90e1edf417064980adfdb14855cdbe11": {
     "model_module": "@jupyter-widgets/controls",
     "model_module_version": "1.5.0",
     "model_name": "HBoxModel",
     "state": {
      "_dom_classes": [],
      "_model_module": "@jupyter-widgets/controls",
      "_model_module_version": "1.5.0",
      "_model_name": "HBoxModel",
      "_view_count": null,
      "_view_module": "@jupyter-widgets/controls",
      "_view_module_version": "1.5.0",
      "_view_name": "HBoxView",
      "box_style": "",
      "children": [
       "IPY_MODEL_719449b18ef84c669830c15ae66f1d18",
       "IPY_MODEL_d081318bf59d48afb62d70b06e614f22",
       "IPY_MODEL_224c9458d2244c92886ebea3067d5956"
      ],
      "layout": "IPY_MODEL_858a631126794ae9a9b2b1ab68ea1e02"
     }
    },
    "915d7d3218254c2897a9cc93fe6776ee": {
     "model_module": "@jupyter-widgets/controls",
     "model_module_version": "1.5.0",
     "model_name": "HTMLModel",
     "state": {
      "_dom_classes": [],
      "_model_module": "@jupyter-widgets/controls",
      "_model_module_version": "1.5.0",
      "_model_name": "HTMLModel",
      "_view_count": null,
      "_view_module": "@jupyter-widgets/controls",
      "_view_module_version": "1.5.0",
      "_view_name": "HTMLView",
      "description": "",
      "description_tooltip": null,
      "layout": "IPY_MODEL_27230fcf82a14cbe957d641048ef1c05",
      "placeholder": "​",
      "style": "IPY_MODEL_f3fc8d0c58594b69a0da670b33acab4c",
      "value": " 1.36M/1.36M [00:00&lt;00:00, 44.1MB/s]"
     }
    },
    "9182ffa7e32947a49ddab2893df98582": {
     "model_module": "@jupyter-widgets/controls",
     "model_module_version": "1.5.0",
     "model_name": "HTMLModel",
     "state": {
      "_dom_classes": [],
      "_model_module": "@jupyter-widgets/controls",
      "_model_module_version": "1.5.0",
      "_model_name": "HTMLModel",
      "_view_count": null,
      "_view_module": "@jupyter-widgets/controls",
      "_view_module_version": "1.5.0",
      "_view_name": "HTMLView",
      "description": "",
      "description_tooltip": null,
      "layout": "IPY_MODEL_4fc14c05e977463aabe1d3a84a0058ab",
      "placeholder": "​",
      "style": "IPY_MODEL_a7868daab0804ee2b183a3bab51f63b6",
      "value": " 4.50k/? [00:00&lt;00:00, 268kB/s]"
     }
    },
    "9e0ec2347f454f3189018ecce717317c": {
     "model_module": "@jupyter-widgets/base",
     "model_module_version": "1.2.0",
     "model_name": "LayoutModel",
     "state": {
      "_model_module": "@jupyter-widgets/base",
      "_model_module_version": "1.2.0",
      "_model_name": "LayoutModel",
      "_view_count": null,
      "_view_module": "@jupyter-widgets/base",
      "_view_module_version": "1.2.0",
      "_view_name": "LayoutView",
      "align_content": null,
      "align_items": null,
      "align_self": null,
      "border": null,
      "bottom": null,
      "display": null,
      "flex": null,
      "flex_flow": null,
      "grid_area": null,
      "grid_auto_columns": null,
      "grid_auto_flow": null,
      "grid_auto_rows": null,
      "grid_column": null,
      "grid_gap": null,
      "grid_row": null,
      "grid_template_areas": null,
      "grid_template_columns": null,
      "grid_template_rows": null,
      "height": null,
      "justify_content": null,
      "justify_items": null,
      "left": null,
      "margin": null,
      "max_height": null,
      "max_width": null,
      "min_height": null,
      "min_width": null,
      "object_fit": null,
      "object_position": null,
      "order": null,
      "overflow": null,
      "overflow_x": null,
      "overflow_y": null,
      "padding": null,
      "right": null,
      "top": null,
      "visibility": null,
      "width": null
     }
    },
    "a15cb513851f4b139a5775008339d987": {
     "model_module": "@jupyter-widgets/controls",
     "model_module_version": "1.5.0",
     "model_name": "FloatProgressModel",
     "state": {
      "_dom_classes": [],
      "_model_module": "@jupyter-widgets/controls",
      "_model_module_version": "1.5.0",
      "_model_name": "FloatProgressModel",
      "_view_count": null,
      "_view_module": "@jupyter-widgets/controls",
      "_view_module_version": "1.5.0",
      "_view_name": "ProgressView",
      "bar_style": "success",
      "description": "",
      "description_tooltip": null,
      "layout": "IPY_MODEL_5284988df24d494e8ec7e91d65cb11d0",
      "max": 456318,
      "min": 0,
      "orientation": "horizontal",
      "style": "IPY_MODEL_d330b5f4343548baa77c8e680047774b",
      "value": 456318
     }
    },
    "a7868daab0804ee2b183a3bab51f63b6": {
     "model_module": "@jupyter-widgets/controls",
     "model_module_version": "1.5.0",
     "model_name": "DescriptionStyleModel",
     "state": {
      "_model_module": "@jupyter-widgets/controls",
      "_model_module_version": "1.5.0",
      "_model_name": "DescriptionStyleModel",
      "_view_count": null,
      "_view_module": "@jupyter-widgets/base",
      "_view_module_version": "1.2.0",
      "_view_name": "StyleView",
      "description_width": ""
     }
    },
    "aabbbd6895e94a0ba3b1d8bb6c4d8060": {
     "model_module": "@jupyter-widgets/base",
     "model_module_version": "1.2.0",
     "model_name": "LayoutModel",
     "state": {
      "_model_module": "@jupyter-widgets/base",
      "_model_module_version": "1.2.0",
      "_model_name": "LayoutModel",
      "_view_count": null,
      "_view_module": "@jupyter-widgets/base",
      "_view_module_version": "1.2.0",
      "_view_name": "LayoutView",
      "align_content": null,
      "align_items": null,
      "align_self": null,
      "border": null,
      "bottom": null,
      "display": null,
      "flex": null,
      "flex_flow": null,
      "grid_area": null,
      "grid_auto_columns": null,
      "grid_auto_flow": null,
      "grid_auto_rows": null,
      "grid_column": null,
      "grid_gap": null,
      "grid_row": null,
      "grid_template_areas": null,
      "grid_template_columns": null,
      "grid_template_rows": null,
      "height": null,
      "justify_content": null,
      "justify_items": null,
      "left": null,
      "margin": null,
      "max_height": null,
      "max_width": null,
      "min_height": null,
      "min_width": null,
      "object_fit": null,
      "object_position": null,
      "order": null,
      "overflow": null,
      "overflow_x": null,
      "overflow_y": null,
      "padding": null,
      "right": null,
      "top": null,
      "visibility": null,
      "width": null
     }
    },
    "abc8b67028e14da3b3068c05098bb01f": {
     "model_module": "@jupyter-widgets/controls",
     "model_module_version": "1.5.0",
     "model_name": "DescriptionStyleModel",
     "state": {
      "_model_module": "@jupyter-widgets/controls",
      "_model_module_version": "1.5.0",
      "_model_name": "DescriptionStyleModel",
      "_view_count": null,
      "_view_module": "@jupyter-widgets/base",
      "_view_module_version": "1.2.0",
      "_view_name": "StyleView",
      "description_width": ""
     }
    },
    "ac84874655a44ede97c611ea86f83278": {
     "model_module": "@jupyter-widgets/base",
     "model_module_version": "1.2.0",
     "model_name": "LayoutModel",
     "state": {
      "_model_module": "@jupyter-widgets/base",
      "_model_module_version": "1.2.0",
      "_model_name": "LayoutModel",
      "_view_count": null,
      "_view_module": "@jupyter-widgets/base",
      "_view_module_version": "1.2.0",
      "_view_name": "LayoutView",
      "align_content": null,
      "align_items": null,
      "align_self": null,
      "border": null,
      "bottom": null,
      "display": null,
      "flex": null,
      "flex_flow": null,
      "grid_area": null,
      "grid_auto_columns": null,
      "grid_auto_flow": null,
      "grid_auto_rows": null,
      "grid_column": null,
      "grid_gap": null,
      "grid_row": null,
      "grid_template_areas": null,
      "grid_template_columns": null,
      "grid_template_rows": null,
      "height": null,
      "justify_content": null,
      "justify_items": null,
      "left": null,
      "margin": null,
      "max_height": null,
      "max_width": null,
      "min_height": null,
      "min_width": null,
      "object_fit": null,
      "object_position": null,
      "order": null,
      "overflow": null,
      "overflow_x": null,
      "overflow_y": null,
      "padding": null,
      "right": null,
      "top": null,
      "visibility": null,
      "width": null
     }
    },
    "b5d2ba7de0784da3a0487d59e364f957": {
     "model_module": "@jupyter-widgets/base",
     "model_module_version": "1.2.0",
     "model_name": "LayoutModel",
     "state": {
      "_model_module": "@jupyter-widgets/base",
      "_model_module_version": "1.2.0",
      "_model_name": "LayoutModel",
      "_view_count": null,
      "_view_module": "@jupyter-widgets/base",
      "_view_module_version": "1.2.0",
      "_view_name": "LayoutView",
      "align_content": null,
      "align_items": null,
      "align_self": null,
      "border": null,
      "bottom": null,
      "display": null,
      "flex": null,
      "flex_flow": null,
      "grid_area": null,
      "grid_auto_columns": null,
      "grid_auto_flow": null,
      "grid_auto_rows": null,
      "grid_column": null,
      "grid_gap": null,
      "grid_row": null,
      "grid_template_areas": null,
      "grid_template_columns": null,
      "grid_template_rows": null,
      "height": null,
      "justify_content": null,
      "justify_items": null,
      "left": null,
      "margin": null,
      "max_height": null,
      "max_width": null,
      "min_height": null,
      "min_width": null,
      "object_fit": null,
      "object_position": null,
      "order": null,
      "overflow": null,
      "overflow_x": null,
      "overflow_y": null,
      "padding": null,
      "right": null,
      "top": null,
      "visibility": null,
      "width": null
     }
    },
    "b6c983f486ff4c1ba93a8a8252ea1869": {
     "model_module": "@jupyter-widgets/controls",
     "model_module_version": "1.5.0",
     "model_name": "ProgressStyleModel",
     "state": {
      "_model_module": "@jupyter-widgets/controls",
      "_model_module_version": "1.5.0",
      "_model_name": "ProgressStyleModel",
      "_view_count": null,
      "_view_module": "@jupyter-widgets/base",
      "_view_module_version": "1.2.0",
      "_view_name": "StyleView",
      "bar_color": null,
      "description_width": ""
     }
    },
    "b90b600fbd1840dfbe535ff6dded9aff": {
     "model_module": "@jupyter-widgets/controls",
     "model_module_version": "1.5.0",
     "model_name": "DescriptionStyleModel",
     "state": {
      "_model_module": "@jupyter-widgets/controls",
      "_model_module_version": "1.5.0",
      "_model_name": "DescriptionStyleModel",
      "_view_count": null,
      "_view_module": "@jupyter-widgets/base",
      "_view_module_version": "1.2.0",
      "_view_name": "StyleView",
      "description_width": ""
     }
    },
    "b9335c27930a492f9c2f8f9e1f4bdd5e": {
     "model_module": "@jupyter-widgets/base",
     "model_module_version": "1.2.0",
     "model_name": "LayoutModel",
     "state": {
      "_model_module": "@jupyter-widgets/base",
      "_model_module_version": "1.2.0",
      "_model_name": "LayoutModel",
      "_view_count": null,
      "_view_module": "@jupyter-widgets/base",
      "_view_module_version": "1.2.0",
      "_view_name": "LayoutView",
      "align_content": null,
      "align_items": null,
      "align_self": null,
      "border": null,
      "bottom": null,
      "display": null,
      "flex": null,
      "flex_flow": null,
      "grid_area": null,
      "grid_auto_columns": null,
      "grid_auto_flow": null,
      "grid_auto_rows": null,
      "grid_column": null,
      "grid_gap": null,
      "grid_row": null,
      "grid_template_areas": null,
      "grid_template_columns": null,
      "grid_template_rows": null,
      "height": null,
      "justify_content": null,
      "justify_items": null,
      "left": null,
      "margin": null,
      "max_height": null,
      "max_width": null,
      "min_height": null,
      "min_width": null,
      "object_fit": null,
      "object_position": null,
      "order": null,
      "overflow": null,
      "overflow_x": null,
      "overflow_y": null,
      "padding": null,
      "right": null,
      "top": null,
      "visibility": null,
      "width": null
     }
    },
    "c05e18ef0e7a47f3865f08cffaf3fbce": {
     "model_module": "@jupyter-widgets/controls",
     "model_module_version": "1.5.0",
     "model_name": "HBoxModel",
     "state": {
      "_dom_classes": [],
      "_model_module": "@jupyter-widgets/controls",
      "_model_module_version": "1.5.0",
      "_model_name": "HBoxModel",
      "_view_count": null,
      "_view_module": "@jupyter-widgets/controls",
      "_view_module_version": "1.5.0",
      "_view_name": "HBoxView",
      "box_style": "",
      "children": [
       "IPY_MODEL_29aff973d2f4455f82a285345610500f",
       "IPY_MODEL_a15cb513851f4b139a5775008339d987",
       "IPY_MODEL_1ed9427811c94b33872a71e0cc141465"
      ],
      "layout": "IPY_MODEL_c12aa7be572d45e383535a2a128f2bfc"
     }
    },
    "c12aa7be572d45e383535a2a128f2bfc": {
     "model_module": "@jupyter-widgets/base",
     "model_module_version": "1.2.0",
     "model_name": "LayoutModel",
     "state": {
      "_model_module": "@jupyter-widgets/base",
      "_model_module_version": "1.2.0",
      "_model_name": "LayoutModel",
      "_view_count": null,
      "_view_module": "@jupyter-widgets/base",
      "_view_module_version": "1.2.0",
      "_view_name": "LayoutView",
      "align_content": null,
      "align_items": null,
      "align_self": null,
      "border": null,
      "bottom": null,
      "display": null,
      "flex": null,
      "flex_flow": null,
      "grid_area": null,
      "grid_auto_columns": null,
      "grid_auto_flow": null,
      "grid_auto_rows": null,
      "grid_column": null,
      "grid_gap": null,
      "grid_row": null,
      "grid_template_areas": null,
      "grid_template_columns": null,
      "grid_template_rows": null,
      "height": null,
      "justify_content": null,
      "justify_items": null,
      "left": null,
      "margin": null,
      "max_height": null,
      "max_width": null,
      "min_height": null,
      "min_width": null,
      "object_fit": null,
      "object_position": null,
      "order": null,
      "overflow": null,
      "overflow_x": null,
      "overflow_y": null,
      "padding": null,
      "right": null,
      "top": null,
      "visibility": null,
      "width": null
     }
    },
    "c1c3c30e5e354563b80a416d5c8b7bf6": {
     "model_module": "@jupyter-widgets/controls",
     "model_module_version": "1.5.0",
     "model_name": "HTMLModel",
     "state": {
      "_dom_classes": [],
      "_model_module": "@jupyter-widgets/controls",
      "_model_module_version": "1.5.0",
      "_model_name": "HTMLModel",
      "_view_count": null,
      "_view_module": "@jupyter-widgets/controls",
      "_view_module_version": "1.5.0",
      "_view_name": "HTMLView",
      "description": "",
      "description_tooltip": null,
      "layout": "IPY_MODEL_f08cc76ef96647a98d000280d95c4e97",
      "placeholder": "​",
      "style": "IPY_MODEL_7581b7142d294ec9bb2e669cff971597",
      "value": " 480/480 [00:00&lt;00:00, 20.1kB/s]"
     }
    },
    "c3afbce15c694ee991a62290ee201532": {
     "model_module": "@jupyter-widgets/base",
     "model_module_version": "1.2.0",
     "model_name": "LayoutModel",
     "state": {
      "_model_module": "@jupyter-widgets/base",
      "_model_module_version": "1.2.0",
      "_model_name": "LayoutModel",
      "_view_count": null,
      "_view_module": "@jupyter-widgets/base",
      "_view_module_version": "1.2.0",
      "_view_name": "LayoutView",
      "align_content": null,
      "align_items": null,
      "align_self": null,
      "border": null,
      "bottom": null,
      "display": null,
      "flex": null,
      "flex_flow": null,
      "grid_area": null,
      "grid_auto_columns": null,
      "grid_auto_flow": null,
      "grid_auto_rows": null,
      "grid_column": null,
      "grid_gap": null,
      "grid_row": null,
      "grid_template_areas": null,
      "grid_template_columns": null,
      "grid_template_rows": null,
      "height": null,
      "justify_content": null,
      "justify_items": null,
      "left": null,
      "margin": null,
      "max_height": null,
      "max_width": null,
      "min_height": null,
      "min_width": null,
      "object_fit": null,
      "object_position": null,
      "order": null,
      "overflow": null,
      "overflow_x": null,
      "overflow_y": null,
      "padding": null,
      "right": null,
      "top": null,
      "visibility": null,
      "width": null
     }
    },
    "c5489b1a9b064660a283234c68196ce9": {
     "model_module": "@jupyter-widgets/controls",
     "model_module_version": "1.5.0",
     "model_name": "HTMLModel",
     "state": {
      "_dom_classes": [],
      "_model_module": "@jupyter-widgets/controls",
      "_model_module_version": "1.5.0",
      "_model_name": "HTMLModel",
      "_view_count": null,
      "_view_module": "@jupyter-widgets/controls",
      "_view_module_version": "1.5.0",
      "_view_name": "HTMLView",
      "description": "",
      "description_tooltip": null,
      "layout": "IPY_MODEL_cffc2b0249fc4d89bc532e3c80178360",
      "placeholder": "​",
      "style": "IPY_MODEL_7d094ded7829463ab6d185017e8b146f",
      "value": " 3.30k/? [00:00&lt;00:00, 251kB/s]"
     }
    },
    "c54bae81680d48d79bc734e1fd527024": {
     "model_module": "@jupyter-widgets/controls",
     "model_module_version": "1.5.0",
     "model_name": "HBoxModel",
     "state": {
      "_dom_classes": [],
      "_model_module": "@jupyter-widgets/controls",
      "_model_module_version": "1.5.0",
      "_model_name": "HBoxModel",
      "_view_count": null,
      "_view_module": "@jupyter-widgets/controls",
      "_view_module_version": "1.5.0",
      "_view_name": "HBoxView",
      "box_style": "",
      "children": [
       "IPY_MODEL_f40131ad89b74e8e9af3fe154514fe67",
       "IPY_MODEL_cd50b31a8d1444ab84662333fa65c335",
       "IPY_MODEL_c5489b1a9b064660a283234c68196ce9"
      ],
      "layout": "IPY_MODEL_8bda80679c6240fabcea0bdc95ac1e7f"
     }
    },
    "c566829baca54c88948d86a53453cdc5": {
     "model_module": "@jupyter-widgets/base",
     "model_module_version": "1.2.0",
     "model_name": "LayoutModel",
     "state": {
      "_model_module": "@jupyter-widgets/base",
      "_model_module_version": "1.2.0",
      "_model_name": "LayoutModel",
      "_view_count": null,
      "_view_module": "@jupyter-widgets/base",
      "_view_module_version": "1.2.0",
      "_view_name": "LayoutView",
      "align_content": null,
      "align_items": null,
      "align_self": null,
      "border": null,
      "bottom": null,
      "display": null,
      "flex": null,
      "flex_flow": null,
      "grid_area": null,
      "grid_auto_columns": null,
      "grid_auto_flow": null,
      "grid_auto_rows": null,
      "grid_column": null,
      "grid_gap": null,
      "grid_row": null,
      "grid_template_areas": null,
      "grid_template_columns": null,
      "grid_template_rows": null,
      "height": null,
      "justify_content": null,
      "justify_items": null,
      "left": null,
      "margin": null,
      "max_height": null,
      "max_width": null,
      "min_height": null,
      "min_width": null,
      "object_fit": null,
      "object_position": null,
      "order": null,
      "overflow": null,
      "overflow_x": null,
      "overflow_y": null,
      "padding": null,
      "right": null,
      "top": null,
      "visibility": null,
      "width": null
     }
    },
    "c60fbf08524f4da58d0de368ab97fc8a": {
     "model_module": "@jupyter-widgets/controls",
     "model_module_version": "1.5.0",
     "model_name": "FloatProgressModel",
     "state": {
      "_dom_classes": [],
      "_model_module": "@jupyter-widgets/controls",
      "_model_module_version": "1.5.0",
      "_model_name": "FloatProgressModel",
      "_view_count": null,
      "_view_module": "@jupyter-widgets/controls",
      "_view_module_version": "1.5.0",
      "_view_name": "ProgressView",
      "bar_style": "success",
      "description": "",
      "description_tooltip": null,
      "layout": "IPY_MODEL_904271d70656428998575385d84c5e63",
      "max": 1715,
      "min": 0,
      "orientation": "horizontal",
      "style": "IPY_MODEL_f71293f4e78a4206b7d8c85a8132f9d7",
      "value": 1715
     }
    },
    "c70e1dc0991846d59b9ea7f3d0430888": {
     "model_module": "@jupyter-widgets/controls",
     "model_module_version": "1.5.0",
     "model_name": "FloatProgressModel",
     "state": {
      "_dom_classes": [],
      "_model_module": "@jupyter-widgets/controls",
      "_model_module_version": "1.5.0",
      "_model_name": "FloatProgressModel",
      "_view_count": null,
      "_view_module": "@jupyter-widgets/controls",
      "_view_module_version": "1.5.0",
      "_view_name": "ProgressView",
      "bar_style": "success",
      "description": "",
      "description_tooltip": null,
      "layout": "IPY_MODEL_201667373e794dbf9ee0f622be567258",
      "max": 1355863,
      "min": 0,
      "orientation": "horizontal",
      "style": "IPY_MODEL_37f5392ad9ce4bcfa3cf393c530ca6ed",
      "value": 1355863
     }
    },
    "cd50b31a8d1444ab84662333fa65c335": {
     "model_module": "@jupyter-widgets/controls",
     "model_module_version": "1.5.0",
     "model_name": "FloatProgressModel",
     "state": {
      "_dom_classes": [],
      "_model_module": "@jupyter-widgets/controls",
      "_model_module_version": "1.5.0",
      "_model_name": "FloatProgressModel",
      "_view_count": null,
      "_view_module": "@jupyter-widgets/controls",
      "_view_module_version": "1.5.0",
      "_view_name": "ProgressView",
      "bar_style": "success",
      "description": "",
      "description_tooltip": null,
      "layout": "IPY_MODEL_1e7e2edb52dc42fb8062b06b528adc61",
      "max": 1109,
      "min": 0,
      "orientation": "horizontal",
      "style": "IPY_MODEL_b6c983f486ff4c1ba93a8a8252ea1869",
      "value": 1109
     }
    },
    "cf576f09f1ae4b3aaf20b77042b13986": {
     "model_module": "@jupyter-widgets/base",
     "model_module_version": "1.2.0",
     "model_name": "LayoutModel",
     "state": {
      "_model_module": "@jupyter-widgets/base",
      "_model_module_version": "1.2.0",
      "_model_name": "LayoutModel",
      "_view_count": null,
      "_view_module": "@jupyter-widgets/base",
      "_view_module_version": "1.2.0",
      "_view_name": "LayoutView",
      "align_content": null,
      "align_items": null,
      "align_self": null,
      "border": null,
      "bottom": null,
      "display": null,
      "flex": null,
      "flex_flow": null,
      "grid_area": null,
      "grid_auto_columns": null,
      "grid_auto_flow": null,
      "grid_auto_rows": null,
      "grid_column": null,
      "grid_gap": null,
      "grid_row": null,
      "grid_template_areas": null,
      "grid_template_columns": null,
      "grid_template_rows": null,
      "height": null,
      "justify_content": null,
      "justify_items": null,
      "left": null,
      "margin": null,
      "max_height": null,
      "max_width": null,
      "min_height": null,
      "min_width": null,
      "object_fit": null,
      "object_position": null,
      "order": null,
      "overflow": null,
      "overflow_x": null,
      "overflow_y": null,
      "padding": null,
      "right": null,
      "top": null,
      "visibility": null,
      "width": null
     }
    },
    "cffc2b0249fc4d89bc532e3c80178360": {
     "model_module": "@jupyter-widgets/base",
     "model_module_version": "1.2.0",
     "model_name": "LayoutModel",
     "state": {
      "_model_module": "@jupyter-widgets/base",
      "_model_module_version": "1.2.0",
      "_model_name": "LayoutModel",
      "_view_count": null,
      "_view_module": "@jupyter-widgets/base",
      "_view_module_version": "1.2.0",
      "_view_name": "LayoutView",
      "align_content": null,
      "align_items": null,
      "align_self": null,
      "border": null,
      "bottom": null,
      "display": null,
      "flex": null,
      "flex_flow": null,
      "grid_area": null,
      "grid_auto_columns": null,
      "grid_auto_flow": null,
      "grid_auto_rows": null,
      "grid_column": null,
      "grid_gap": null,
      "grid_row": null,
      "grid_template_areas": null,
      "grid_template_columns": null,
      "grid_template_rows": null,
      "height": null,
      "justify_content": null,
      "justify_items": null,
      "left": null,
      "margin": null,
      "max_height": null,
      "max_width": null,
      "min_height": null,
      "min_width": null,
      "object_fit": null,
      "object_position": null,
      "order": null,
      "overflow": null,
      "overflow_x": null,
      "overflow_y": null,
      "padding": null,
      "right": null,
      "top": null,
      "visibility": null,
      "width": null
     }
    },
    "d081318bf59d48afb62d70b06e614f22": {
     "model_module": "@jupyter-widgets/controls",
     "model_module_version": "1.5.0",
     "model_name": "FloatProgressModel",
     "state": {
      "_dom_classes": [],
      "_model_module": "@jupyter-widgets/controls",
      "_model_module_version": "1.5.0",
      "_model_name": "FloatProgressModel",
      "_view_count": null,
      "_view_module": "@jupyter-widgets/controls",
      "_view_module_version": "1.5.0",
      "_view_name": "ProgressView",
      "bar_style": "success",
      "description": "",
      "description_tooltip": null,
      "layout": "IPY_MODEL_0da907e4ac0c4cf58e3cdbba4e172ae9",
      "max": 898823,
      "min": 0,
      "orientation": "horizontal",
      "style": "IPY_MODEL_2453172ea82c4d06ba2f99eb0eabfee9",
      "value": 898823
     }
    },
    "d330b5f4343548baa77c8e680047774b": {
     "model_module": "@jupyter-widgets/controls",
     "model_module_version": "1.5.0",
     "model_name": "ProgressStyleModel",
     "state": {
      "_model_module": "@jupyter-widgets/controls",
      "_model_module_version": "1.5.0",
      "_model_name": "ProgressStyleModel",
      "_view_count": null,
      "_view_module": "@jupyter-widgets/base",
      "_view_module_version": "1.2.0",
      "_view_name": "StyleView",
      "bar_color": null,
      "description_width": ""
     }
    },
    "d9b7dbd51b624ed6a32b69676801a705": {
     "model_module": "@jupyter-widgets/controls",
     "model_module_version": "1.5.0",
     "model_name": "DescriptionStyleModel",
     "state": {
      "_model_module": "@jupyter-widgets/controls",
      "_model_module_version": "1.5.0",
      "_model_name": "DescriptionStyleModel",
      "_view_count": null,
      "_view_module": "@jupyter-widgets/base",
      "_view_module_version": "1.2.0",
      "_view_name": "StyleView",
      "description_width": ""
     }
    },
    "e33f459e0a0c43e18bcc161a0ffdd9b5": {
     "model_module": "@jupyter-widgets/controls",
     "model_module_version": "1.5.0",
     "model_name": "HTMLModel",
     "state": {
      "_dom_classes": [],
      "_model_module": "@jupyter-widgets/controls",
      "_model_module_version": "1.5.0",
      "_model_name": "HTMLModel",
      "_view_count": null,
      "_view_module": "@jupyter-widgets/controls",
      "_view_module_version": "1.5.0",
      "_view_name": "HTMLView",
      "description": "",
      "description_tooltip": null,
      "layout": "IPY_MODEL_44eddb855f8a436a81de391ceb50b864",
      "placeholder": "​",
      "style": "IPY_MODEL_5ae3360c84884aba86ec94c8d1f16451",
      "value": "Downloading model.safetensors: 100%"
     }
    },
    "e38b6b988c4d439185adc995637b3bbf": {
     "model_module": "@jupyter-widgets/controls",
     "model_module_version": "1.5.0",
     "model_name": "HBoxModel",
     "state": {
      "_dom_classes": [],
      "_model_module": "@jupyter-widgets/controls",
      "_model_module_version": "1.5.0",
      "_model_name": "HBoxModel",
      "_view_count": null,
      "_view_module": "@jupyter-widgets/controls",
      "_view_module_version": "1.5.0",
      "_view_name": "HBoxView",
      "box_style": "",
      "children": [
       "IPY_MODEL_e33f459e0a0c43e18bcc161a0ffdd9b5",
       "IPY_MODEL_48773e06e7534f5083e6104fbf838f4f",
       "IPY_MODEL_3dc60a7be65e46e7bfefda60fc7de7d9"
      ],
      "layout": "IPY_MODEL_c3afbce15c694ee991a62290ee201532"
     }
    },
    "e7f0839150cb42668ba75af7ec2e1312": {
     "model_module": "@jupyter-widgets/base",
     "model_module_version": "1.2.0",
     "model_name": "LayoutModel",
     "state": {
      "_model_module": "@jupyter-widgets/base",
      "_model_module_version": "1.2.0",
      "_model_name": "LayoutModel",
      "_view_count": null,
      "_view_module": "@jupyter-widgets/base",
      "_view_module_version": "1.2.0",
      "_view_name": "LayoutView",
      "align_content": null,
      "align_items": null,
      "align_self": null,
      "border": null,
      "bottom": null,
      "display": null,
      "flex": null,
      "flex_flow": null,
      "grid_area": null,
      "grid_auto_columns": null,
      "grid_auto_flow": null,
      "grid_auto_rows": null,
      "grid_column": null,
      "grid_gap": null,
      "grid_row": null,
      "grid_template_areas": null,
      "grid_template_columns": null,
      "grid_template_rows": null,
      "height": null,
      "justify_content": null,
      "justify_items": null,
      "left": null,
      "margin": null,
      "max_height": null,
      "max_width": null,
      "min_height": null,
      "min_width": null,
      "object_fit": null,
      "object_position": null,
      "order": null,
      "overflow": null,
      "overflow_x": null,
      "overflow_y": null,
      "padding": null,
      "right": null,
      "top": null,
      "visibility": null,
      "width": null
     }
    },
    "e822faff4d004573ae88407b2c726b58": {
     "model_module": "@jupyter-widgets/controls",
     "model_module_version": "1.5.0",
     "model_name": "DescriptionStyleModel",
     "state": {
      "_model_module": "@jupyter-widgets/controls",
      "_model_module_version": "1.5.0",
      "_model_name": "DescriptionStyleModel",
      "_view_count": null,
      "_view_module": "@jupyter-widgets/base",
      "_view_module_version": "1.2.0",
      "_view_name": "StyleView",
      "description_width": ""
     }
    },
    "ef7dd1bef7e44083a76dd71b51076901": {
     "model_module": "@jupyter-widgets/base",
     "model_module_version": "1.2.0",
     "model_name": "LayoutModel",
     "state": {
      "_model_module": "@jupyter-widgets/base",
      "_model_module_version": "1.2.0",
      "_model_name": "LayoutModel",
      "_view_count": null,
      "_view_module": "@jupyter-widgets/base",
      "_view_module_version": "1.2.0",
      "_view_name": "LayoutView",
      "align_content": null,
      "align_items": null,
      "align_self": null,
      "border": null,
      "bottom": null,
      "display": null,
      "flex": null,
      "flex_flow": null,
      "grid_area": null,
      "grid_auto_columns": null,
      "grid_auto_flow": null,
      "grid_auto_rows": null,
      "grid_column": null,
      "grid_gap": null,
      "grid_row": null,
      "grid_template_areas": null,
      "grid_template_columns": null,
      "grid_template_rows": null,
      "height": null,
      "justify_content": null,
      "justify_items": null,
      "left": null,
      "margin": null,
      "max_height": null,
      "max_width": null,
      "min_height": null,
      "min_width": null,
      "object_fit": null,
      "object_position": null,
      "order": null,
      "overflow": null,
      "overflow_x": null,
      "overflow_y": null,
      "padding": null,
      "right": null,
      "top": null,
      "visibility": null,
      "width": null
     }
    },
    "f08cc76ef96647a98d000280d95c4e97": {
     "model_module": "@jupyter-widgets/base",
     "model_module_version": "1.2.0",
     "model_name": "LayoutModel",
     "state": {
      "_model_module": "@jupyter-widgets/base",
      "_model_module_version": "1.2.0",
      "_model_name": "LayoutModel",
      "_view_count": null,
      "_view_module": "@jupyter-widgets/base",
      "_view_module_version": "1.2.0",
      "_view_name": "LayoutView",
      "align_content": null,
      "align_items": null,
      "align_self": null,
      "border": null,
      "bottom": null,
      "display": null,
      "flex": null,
      "flex_flow": null,
      "grid_area": null,
      "grid_auto_columns": null,
      "grid_auto_flow": null,
      "grid_auto_rows": null,
      "grid_column": null,
      "grid_gap": null,
      "grid_row": null,
      "grid_template_areas": null,
      "grid_template_columns": null,
      "grid_template_rows": null,
      "height": null,
      "justify_content": null,
      "justify_items": null,
      "left": null,
      "margin": null,
      "max_height": null,
      "max_width": null,
      "min_height": null,
      "min_width": null,
      "object_fit": null,
      "object_position": null,
      "order": null,
      "overflow": null,
      "overflow_x": null,
      "overflow_y": null,
      "padding": null,
      "right": null,
      "top": null,
      "visibility": null,
      "width": null
     }
    },
    "f3fc8d0c58594b69a0da670b33acab4c": {
     "model_module": "@jupyter-widgets/controls",
     "model_module_version": "1.5.0",
     "model_name": "DescriptionStyleModel",
     "state": {
      "_model_module": "@jupyter-widgets/controls",
      "_model_module_version": "1.5.0",
      "_model_name": "DescriptionStyleModel",
      "_view_count": null,
      "_view_module": "@jupyter-widgets/base",
      "_view_module_version": "1.2.0",
      "_view_name": "StyleView",
      "description_width": ""
     }
    },
    "f40131ad89b74e8e9af3fe154514fe67": {
     "model_module": "@jupyter-widgets/controls",
     "model_module_version": "1.5.0",
     "model_name": "HTMLModel",
     "state": {
      "_dom_classes": [],
      "_model_module": "@jupyter-widgets/controls",
      "_model_module_version": "1.5.0",
      "_model_name": "HTMLModel",
      "_view_count": null,
      "_view_module": "@jupyter-widgets/controls",
      "_view_module_version": "1.5.0",
      "_view_name": "HTMLView",
      "description": "",
      "description_tooltip": null,
      "layout": "IPY_MODEL_6e6865ce7bca47df8c25901fbfd84e2b",
      "placeholder": "​",
      "style": "IPY_MODEL_6570b596a06b46e1a550eba7d9e93077",
      "value": "Downloading extra modules: "
     }
    },
    "f71293f4e78a4206b7d8c85a8132f9d7": {
     "model_module": "@jupyter-widgets/controls",
     "model_module_version": "1.5.0",
     "model_name": "ProgressStyleModel",
     "state": {
      "_model_module": "@jupyter-widgets/controls",
      "_model_module_version": "1.5.0",
      "_model_name": "ProgressStyleModel",
      "_view_count": null,
      "_view_module": "@jupyter-widgets/base",
      "_view_module_version": "1.2.0",
      "_view_name": "StyleView",
      "bar_color": null,
      "description_width": ""
     }
    }
   }
  }
 },
 "nbformat": 4,
 "nbformat_minor": 1
}
