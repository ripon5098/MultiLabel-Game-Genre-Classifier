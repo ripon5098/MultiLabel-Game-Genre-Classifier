{
 "cells": [
  {
   "cell_type": "code",
   "execution_count": null,
   "id": "a2c529b8",
   "metadata": {
    "scrolled": true
   },
   "outputs": [],
   "source": [
    "from selenium import webdriver\n",
    "from selenium.webdriver.common.by import By\n",
    "from tqdm import tqdm\n",
    "import pandas as pd\n",
    "import time\n",
    "\n",
    "webdriver_path = r\"C:\\Users\\youtechbd\\Downloads\\chromedriver-win32\\chromedriver-win32\\chromedriver.exe\"\n",
    "driver = webdriver.Chrome(webdriver_path)\n",
    "\n",
    "title = []\n",
    "description = []\n",
    "genres = []\n",
    "categories = []\n",
    "for page_id in tqdm(range(1,501)):\n",
    "    url = f\"https://boardgamegeek.com/browse/boardgame/page/{page_id}\"\n",
    "    driver.get(url)\n",
    "    time.sleep(8)\n",
    "    for idx in range(1,201):\n",
    "        try:\n",
    "            #idx = i + 2\n",
    "            if (idx / 2 != 0) or (idx / 2 == 0):\n",
    "                title.append(driver.find_element(By.XPATH,\"//*[@id='results_objectname\" + str(idx) + \"']/a\").text)\n",
    "                #time.sleep(15)\n",
    "                driver.find_element(By.XPATH,\"//*[@id='results_objectname\" + str(idx) + \"']/a\").click()\n",
    "                #time.sleep(15)\n",
    "                descript = driver.find_element(By.XPATH,\"//*[@id='mainbody']/div[2]/div/div[1]/div[2]/ng-include/div/div/ui-view/ui-view/div/overview-module/description-module/div/div[2]/div/div[3]/div[1]/div[1]/div/article/div\").text\n",
    "                description.append(descript.replace(\"\\n\",\"\"))\n",
    "                #genre = driver.find_element(By.XPATH,\"//*[@id='mainbody']/div[2]/div/div[1]/div[2]/ng-include/div/div/ui-view/ui-view/div/overview-module/description-module/div/div[2]/div/div[1]/classifications-module/div/div[2]/ul/li[1]/div[2]\").text\n",
    "                #genres.append(genre.split(\"\\n\")[0])\n",
    "                genre = driver.find_element(By.XPATH,\"//*[@id='mainbody']/div[2]/div/div[1]/div[2]/ng-include/div/div/ui-view/ui-view/div/overview-module/description-module/div/div[2]/div/div[1]/classifications-module/div/div[2]/ul/li[2]/div[2]/popup-list\").text\n",
    "                genres.append(genre.split(\"\\n\")[:])#(genre.replace(\"\\n\",\",\"))\n",
    "                time.sleep(5)\n",
    "                driver.back()\n",
    "                df = pd.DataFrame({\"title\":title,\"description\":description,\"genres\":genres})#,\"categories\":categories})\n",
    "                df.to_csv(\"Game_details.csv\", index = False)\n",
    "                time.sleep(3)\n",
    "        except:\n",
    "            pass\n",
    "        #i = i + 2\n",
    "    #time.sleep(10)\n",
    "# print(title)\n",
    "# print(description)\n",
    "# print(genres)\n",
    "# print(categories)"
   ]
  },
  {
   "cell_type": "code",
   "execution_count": null,
   "id": "6190cdbf",
   "metadata": {},
   "outputs": [],
   "source": [
    "print(len(title))\n",
    "print(len(description))\n",
    "print(len(genres))\n",
    "print(len(categories))"
   ]
  },
  {
   "cell_type": "code",
   "execution_count": null,
   "id": "a31074a4",
   "metadata": {},
   "outputs": [],
   "source": [
    "df = pd.DataFrame({\"title\":title,\"description\":description,\"genres\":genres,\"categories\":categories})"
   ]
  },
  {
   "cell_type": "code",
   "execution_count": null,
   "id": "4e92a349",
   "metadata": {},
   "outputs": [],
   "source": [
    "df"
   ]
  },
  {
   "cell_type": "code",
   "execution_count": null,
   "id": "821c42c6",
   "metadata": {},
   "outputs": [],
   "source": [
    "df.shape"
   ]
  },
  {
   "cell_type": "code",
   "execution_count": null,
   "id": "3b16b7e3",
   "metadata": {},
   "outputs": [],
   "source": [
    "genre\n",
    "//*[@id=\"mainbody\"]/div[2]/div/div[1]/div[2]/ng-include/div/div/ui-view/ui-view/div/overview-module/description-module/div/div[2]/div/div[1]/classifications-module/div/div[2]/ul/li[1]\n",
    "//*[@id=\"mainbody\"]/div[2]/div/div[1]/div[2]/ng-include/div/div/ui-view/ui-view/div/overview-module/description-module/div/div[2]/div/div[1]/classifications-module/div/div[2]/ul/li[1]/div[2]\n",
    "//*[@id=\"mainbody\"]/div[2]/div/div[1]/div[2]/ng-include/div/div/ui-view/ui-view/div/overview-module/description-module/div/div[2]/div/div[1]/classifications-module/div/div[2]/ul/li[1]/div[2]\n",
    "//*[@id=\"mainbody\"]/div[2]/div/div[1]/div[2]/ng-include/div/div/ui-view/ui-view/div/overview-module/description-module/div/div[2]/div/div[1]/classifications-module/div/div[2]/ul/li[1]/div[2]\n",
    "//*[@id=\"mainbody\"]/div[2]/div/div[1]/div[2]/ng-include/div/div/ui-view/ui-view/div/overview-module/description-module/div/div[2]/div/div[1]/classifications-module/div/div[2]/ul/li[1]/div[2]"
   ]
  },
  {
   "cell_type": "code",
   "execution_count": null,
   "id": "12f5b855",
   "metadata": {},
   "outputs": [],
   "source": []
  },
  {
   "cell_type": "code",
   "execution_count": null,
   "id": "84ed133d",
   "metadata": {},
   "outputs": [],
   "source": [
    "description\n",
    "//*[@id=\"mainbody\"]/div[2]/div/div[1]/div[2]/ng-include/div/div/ui-view/ui-view/div/overview-module/description-module/div/div[2]/div/div[3]/div[1]/div[1]/div/article/div\n",
    "//*[@id=\"mainbody\"]/div[2]/div/div[1]/div[2]/ng-include/div/div/ui-view/ui-view/div/overview-module/description-module/div/div[2]/div/div[3]/div[1]/div[1]/div/article/div\n"
   ]
  },
  {
   "cell_type": "code",
   "execution_count": null,
   "id": "2668f53d",
   "metadata": {},
   "outputs": [],
   "source": [
    "search\n",
    "//*[@id=\"results_objectname1\"]/a\n",
    "//*[@id=\"results_objectname3\"]/a\n",
    "//*[@id=\"results_objectname5\"]/a\n",
    "//*[@id=\"results_objectname7\"]/a\n",
    "//*[@id=\"results_objectname1\"]/a\n",
    "//*[@id=\"results_objectname3\"]/a"
   ]
  }
 ],
 "metadata": {
  "kernelspec": {
   "display_name": "Python 3 (ipykernel)",
   "language": "python",
   "name": "python3"
  },
  "language_info": {
   "codemirror_mode": {
    "name": "ipython",
    "version": 3
   },
   "file_extension": ".py",
   "mimetype": "text/x-python",
   "name": "python",
   "nbconvert_exporter": "python",
   "pygments_lexer": "ipython3",
   "version": "3.9.7"
  }
 },
 "nbformat": 4,
 "nbformat_minor": 5
}
